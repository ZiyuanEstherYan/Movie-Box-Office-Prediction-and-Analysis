{
 "cells": [
  {
   "cell_type": "markdown",
   "metadata": {},
   "source": [
    "# ROI Interaction"
   ]
  },
  {
   "cell_type": "code",
   "execution_count": 41,
   "metadata": {},
   "outputs": [],
   "source": [
    "import pandas as pd\n",
    "import numpy as np\n",
    "from sklearn.utils import shuffle\n",
    "\n",
    "from keras.models import model_from_json\n",
    "from keras.optimizers import SGD\n",
    "\n",
    "import datetime as dt\n",
    "from datetime import timedelta\n",
    "\n",
    "import matplotlib.pyplot as plt\n",
    "import seaborn as sns"
   ]
  },
  {
   "cell_type": "code",
   "execution_count": 42,
   "metadata": {},
   "outputs": [],
   "source": [
    "## Read in facebook rollup data and cluster data\n",
    "fb = pd.concat([pd.read_csv('data/view_brand_rollup_facebook_1k-10k.tsv', delimiter='\\t'),\n",
    "                pd.read_csv('data/view_brand_rollup_facebook_10kplus.tsv', delimiter='\\t')])"
   ]
  },
  {
   "cell_type": "code",
   "execution_count": 43,
   "metadata": {},
   "outputs": [],
   "source": [
    "clusters = pd.read_csv('utils/clusters.csv')\n",
    "clusters['flop'] = np.where(clusters['DomesticGross']<clusters['budget'], 1, 0)"
   ]
  },
  {
   "cell_type": "code",
   "execution_count": 44,
   "metadata": {},
   "outputs": [
    {
     "data": {
      "text/plain": [
       "610"
      ]
     },
     "execution_count": 44,
     "metadata": {},
     "output_type": "execute_result"
    }
   ],
   "source": [
    "len(fb['movie_id'].unique())"
   ]
  },
  {
   "cell_type": "code",
   "execution_count": 45,
   "metadata": {},
   "outputs": [
    {
     "data": {
      "text/plain": [
       "526"
      ]
     },
     "execution_count": 45,
     "metadata": {},
     "output_type": "execute_result"
    }
   ],
   "source": [
    "len(clusters['brand_ods_id'].unique())"
   ]
  },
  {
   "cell_type": "code",
   "execution_count": 46,
   "metadata": {},
   "outputs": [
    {
     "data": {
      "text/plain": [
       "2010"
      ]
     },
     "execution_count": 46,
     "metadata": {},
     "output_type": "execute_result"
    }
   ],
   "source": [
    "min(pd.to_datetime(fb['data_for']).dt.year)"
   ]
  },
  {
   "cell_type": "code",
   "execution_count": 47,
   "metadata": {},
   "outputs": [],
   "source": [
    "data = pd.merge(fb, clusters, left_on = 'movie_id', right_on = 'brand_ods_id' , how = 'left')\n",
    "\n",
    "data['data_for']= pd.to_datetime(data['data_for']) \n",
    "data['released_on'] = pd.to_datetime(data['released_on'])\n",
    "data['days_after_release'] = data['data_for'] - data['released_on']"
   ]
  },
  {
   "cell_type": "code",
   "execution_count": 48,
   "metadata": {},
   "outputs": [],
   "source": [
    "## drop flop == NaN for now\n",
    "data = data[data['flop'].notna()]"
   ]
  },
  {
   "cell_type": "code",
   "execution_count": 49,
   "metadata": {},
   "outputs": [],
   "source": [
    "## choose -90 to 0 days before release\n",
    "data = data[(data['days_after_release'] <= '0 days') & (data['days_after_release'] >= '-90 days')]"
   ]
  },
  {
   "cell_type": "code",
   "execution_count": 50,
   "metadata": {},
   "outputs": [
    {
     "data": {
      "text/html": [
       "<div>\n",
       "<style scoped>\n",
       "    .dataframe tbody tr th:only-of-type {\n",
       "        vertical-align: middle;\n",
       "    }\n",
       "\n",
       "    .dataframe tbody tr th {\n",
       "        vertical-align: top;\n",
       "    }\n",
       "\n",
       "    .dataframe thead th {\n",
       "        text-align: right;\n",
       "    }\n",
       "</style>\n",
       "<table border=\"1\" class=\"dataframe\">\n",
       "  <thead>\n",
       "    <tr style=\"text-align: right;\">\n",
       "      <th></th>\n",
       "      <th>movie_id</th>\n",
       "      <th>data_for</th>\n",
       "      <th>likes_c</th>\n",
       "      <th>likes</th>\n",
       "      <th>talking_about_c</th>\n",
       "      <th>talking_about</th>\n",
       "      <th>engagement_rate_c</th>\n",
       "      <th>engagement_rate</th>\n",
       "      <th>total_post_c</th>\n",
       "      <th>total_post</th>\n",
       "      <th>...</th>\n",
       "      <th>genre_grouped</th>\n",
       "      <th>inflated_budget</th>\n",
       "      <th>budget_cat</th>\n",
       "      <th>inflated_boxoffice</th>\n",
       "      <th>year_q_bin</th>\n",
       "      <th>rank</th>\n",
       "      <th>production_company_bin</th>\n",
       "      <th>cluster_id</th>\n",
       "      <th>flop</th>\n",
       "      <th>days_after_release</th>\n",
       "    </tr>\n",
       "  </thead>\n",
       "  <tbody>\n",
       "    <tr>\n",
       "      <th>1450</th>\n",
       "      <td>5871</td>\n",
       "      <td>2013-12-21</td>\n",
       "      <td>11427.0</td>\n",
       "      <td>544879.0</td>\n",
       "      <td>6532.0</td>\n",
       "      <td>100263.0</td>\n",
       "      <td>57.16</td>\n",
       "      <td>18.40</td>\n",
       "      <td>1</td>\n",
       "      <td>120</td>\n",
       "      <td>...</td>\n",
       "      <td>Fantasy</td>\n",
       "      <td>0.353173</td>\n",
       "      <td>HighBudget</td>\n",
       "      <td>0.119744</td>\n",
       "      <td>1.0</td>\n",
       "      <td>19.0</td>\n",
       "      <td>Top100</td>\n",
       "      <td>7.0</td>\n",
       "      <td>0.0</td>\n",
       "      <td>-90 days</td>\n",
       "    </tr>\n",
       "    <tr>\n",
       "      <th>1451</th>\n",
       "      <td>5871</td>\n",
       "      <td>2013-12-22</td>\n",
       "      <td>5716.0</td>\n",
       "      <td>550595.0</td>\n",
       "      <td>52766.0</td>\n",
       "      <td>153029.0</td>\n",
       "      <td>923.13</td>\n",
       "      <td>27.79</td>\n",
       "      <td>1</td>\n",
       "      <td>121</td>\n",
       "      <td>...</td>\n",
       "      <td>Fantasy</td>\n",
       "      <td>0.353173</td>\n",
       "      <td>HighBudget</td>\n",
       "      <td>0.119744</td>\n",
       "      <td>1.0</td>\n",
       "      <td>19.0</td>\n",
       "      <td>Top100</td>\n",
       "      <td>7.0</td>\n",
       "      <td>0.0</td>\n",
       "      <td>-89 days</td>\n",
       "    </tr>\n",
       "    <tr>\n",
       "      <th>1452</th>\n",
       "      <td>5871</td>\n",
       "      <td>2013-12-23</td>\n",
       "      <td>4881.0</td>\n",
       "      <td>555476.0</td>\n",
       "      <td>26397.0</td>\n",
       "      <td>179426.0</td>\n",
       "      <td>540.81</td>\n",
       "      <td>32.30</td>\n",
       "      <td>1</td>\n",
       "      <td>122</td>\n",
       "      <td>...</td>\n",
       "      <td>Fantasy</td>\n",
       "      <td>0.353173</td>\n",
       "      <td>HighBudget</td>\n",
       "      <td>0.119744</td>\n",
       "      <td>1.0</td>\n",
       "      <td>19.0</td>\n",
       "      <td>Top100</td>\n",
       "      <td>7.0</td>\n",
       "      <td>0.0</td>\n",
       "      <td>-88 days</td>\n",
       "    </tr>\n",
       "    <tr>\n",
       "      <th>1453</th>\n",
       "      <td>5871</td>\n",
       "      <td>2013-12-24</td>\n",
       "      <td>5977.0</td>\n",
       "      <td>561453.0</td>\n",
       "      <td>7735.0</td>\n",
       "      <td>187161.0</td>\n",
       "      <td>129.41</td>\n",
       "      <td>33.34</td>\n",
       "      <td>0</td>\n",
       "      <td>122</td>\n",
       "      <td>...</td>\n",
       "      <td>Fantasy</td>\n",
       "      <td>0.353173</td>\n",
       "      <td>HighBudget</td>\n",
       "      <td>0.119744</td>\n",
       "      <td>1.0</td>\n",
       "      <td>19.0</td>\n",
       "      <td>Top100</td>\n",
       "      <td>7.0</td>\n",
       "      <td>0.0</td>\n",
       "      <td>-87 days</td>\n",
       "    </tr>\n",
       "    <tr>\n",
       "      <th>1454</th>\n",
       "      <td>5871</td>\n",
       "      <td>2013-12-25</td>\n",
       "      <td>4772.0</td>\n",
       "      <td>566225.0</td>\n",
       "      <td>12587.0</td>\n",
       "      <td>199748.0</td>\n",
       "      <td>263.77</td>\n",
       "      <td>35.28</td>\n",
       "      <td>1</td>\n",
       "      <td>123</td>\n",
       "      <td>...</td>\n",
       "      <td>Fantasy</td>\n",
       "      <td>0.353173</td>\n",
       "      <td>HighBudget</td>\n",
       "      <td>0.119744</td>\n",
       "      <td>1.0</td>\n",
       "      <td>19.0</td>\n",
       "      <td>Top100</td>\n",
       "      <td>7.0</td>\n",
       "      <td>0.0</td>\n",
       "      <td>-86 days</td>\n",
       "    </tr>\n",
       "  </tbody>\n",
       "</table>\n",
       "<p>5 rows × 70 columns</p>\n",
       "</div>"
      ],
      "text/plain": [
       "      movie_id   data_for  likes_c     likes  talking_about_c  talking_about  \\\n",
       "1450      5871 2013-12-21  11427.0  544879.0           6532.0       100263.0   \n",
       "1451      5871 2013-12-22   5716.0  550595.0          52766.0       153029.0   \n",
       "1452      5871 2013-12-23   4881.0  555476.0          26397.0       179426.0   \n",
       "1453      5871 2013-12-24   5977.0  561453.0           7735.0       187161.0   \n",
       "1454      5871 2013-12-25   4772.0  566225.0          12587.0       199748.0   \n",
       "\n",
       "      engagement_rate_c  engagement_rate  total_post_c  total_post  ...  \\\n",
       "1450              57.16            18.40             1         120  ...   \n",
       "1451             923.13            27.79             1         121  ...   \n",
       "1452             540.81            32.30             1         122  ...   \n",
       "1453             129.41            33.34             0         122  ...   \n",
       "1454             263.77            35.28             1         123  ...   \n",
       "\n",
       "      genre_grouped  inflated_budget  budget_cat  inflated_boxoffice  \\\n",
       "1450        Fantasy         0.353173  HighBudget            0.119744   \n",
       "1451        Fantasy         0.353173  HighBudget            0.119744   \n",
       "1452        Fantasy         0.353173  HighBudget            0.119744   \n",
       "1453        Fantasy         0.353173  HighBudget            0.119744   \n",
       "1454        Fantasy         0.353173  HighBudget            0.119744   \n",
       "\n",
       "      year_q_bin  rank  production_company_bin  cluster_id  flop  \\\n",
       "1450         1.0  19.0                  Top100         7.0   0.0   \n",
       "1451         1.0  19.0                  Top100         7.0   0.0   \n",
       "1452         1.0  19.0                  Top100         7.0   0.0   \n",
       "1453         1.0  19.0                  Top100         7.0   0.0   \n",
       "1454         1.0  19.0                  Top100         7.0   0.0   \n",
       "\n",
       "      days_after_release  \n",
       "1450            -90 days  \n",
       "1451            -89 days  \n",
       "1452            -88 days  \n",
       "1453            -87 days  \n",
       "1454            -86 days  \n",
       "\n",
       "[5 rows x 70 columns]"
      ]
     },
     "execution_count": 50,
     "metadata": {},
     "output_type": "execute_result"
    }
   ],
   "source": [
    "data.head()"
   ]
  },
  {
   "cell_type": "code",
   "execution_count": 51,
   "metadata": {},
   "outputs": [
    {
     "data": {
      "text/plain": [
       "Index(['movie_id', 'data_for', 'likes_c', 'likes', 'talking_about_c',\n",
       "       'talking_about', 'engagement_rate_c', 'engagement_rate', 'total_post_c',\n",
       "       'total_post', 'total_post_likes_c', 'total_post_likes',\n",
       "       'total_post_shares_c', 'total_post_shares', 'total_post_comments_c',\n",
       "       'total_post_comments', 'total_post_love_count_c',\n",
       "       'total_post_love_count', 'total_post_wow_count_c',\n",
       "       'total_post_wow_count', 'total_post_haha_count_c',\n",
       "       'total_post_haha_count', 'total_post_sad_count_c',\n",
       "       'total_post_sad_count', 'total_post_angry_count_c',\n",
       "       'total_post_angry_count', 'total_post_thankful_count_c',\n",
       "       'total_post_thankful_count', 'total_post_tracked_reactions_c',\n",
       "       'total_post_tracked_reactions', 'total_post_reactions_count_c',\n",
       "       'total_post_reactions_count', 'total_post_interactions_c',\n",
       "       'total_post_interactions', 'total_post_video_c', 'total_post_video',\n",
       "       'total_post_video_interactions_c', 'total_post_video_interactions',\n",
       "       'Unnamed: 0', 'brand_ods_id', 'replace', 'released_on', 'ticker_symbol',\n",
       "       'genres', 'data_profile_dcs_uid', 'data_profile_channel_type',\n",
       "       'data_profile_source_type', 'data_affiliation_active_flag',\n",
       "       'data_affiliation_start_date_key', 'data_affiliation_end_date_key',\n",
       "       'genre_list', 'top_genre', 'released_year', 'year_bin', 'budget',\n",
       "       'production_company', 'rating', 'source', 'franchise', 'DomesticGross',\n",
       "       'genre_grouped', 'inflated_budget', 'budget_cat', 'inflated_boxoffice',\n",
       "       'year_q_bin', 'rank', 'production_company_bin', 'cluster_id', 'flop',\n",
       "       'days_after_release'],\n",
       "      dtype='object')"
      ]
     },
     "execution_count": 51,
     "metadata": {},
     "output_type": "execute_result"
    }
   ],
   "source": [
    "data.columns"
   ]
  },
  {
   "cell_type": "code",
   "execution_count": 52,
   "metadata": {},
   "outputs": [],
   "source": [
    "data = data[['movie_id', 'total_post_interactions', 'total_post_interactions_c', 'days_after_release', 'flop']]"
   ]
  },
  {
   "cell_type": "markdown",
   "metadata": {},
   "source": [
    "## 30 days before movie release"
   ]
  },
  {
   "cell_type": "code",
   "execution_count": 53,
   "metadata": {},
   "outputs": [],
   "source": [
    "data_30 = data[data['days_after_release'] == '-30 days']"
   ]
  },
  {
   "cell_type": "code",
   "execution_count": 54,
   "metadata": {},
   "outputs": [],
   "source": [
    "data_30_success = data_30[data_30['flop'] == 0]\n",
    "data_30_flop = data_30[data_30['flop'] == 1]"
   ]
  },
  {
   "cell_type": "code",
   "execution_count": 55,
   "metadata": {},
   "outputs": [
    {
     "data": {
      "text/plain": [
       "(array([294.,  28.,  13.,   6.,   9.,   1.,   3.,   2.,   3.,   2.,   3.,\n",
       "          1.,   1.,   0.,   0.,   0.,   1.,   0.,   2.,   0.,   0.,   0.,\n",
       "          0.,   0.,   0.,   1.,   0.,   0.,   0.,   2.]),\n",
       " array([3.32000000e+02, 3.12278370e+06, 6.24523540e+06, 9.36768710e+06,\n",
       "        1.24901388e+07, 1.56125905e+07, 1.87350422e+07, 2.18574939e+07,\n",
       "        2.49799456e+07, 2.81023973e+07, 3.12248490e+07, 3.43473007e+07,\n",
       "        3.74697524e+07, 4.05922041e+07, 4.37146558e+07, 4.68371075e+07,\n",
       "        4.99595592e+07, 5.30820109e+07, 5.62044626e+07, 5.93269143e+07,\n",
       "        6.24493660e+07, 6.55718177e+07, 6.86942694e+07, 7.18167211e+07,\n",
       "        7.49391728e+07, 7.80616245e+07, 8.11840762e+07, 8.43065279e+07,\n",
       "        8.74289796e+07, 9.05514313e+07, 9.36738830e+07]),\n",
       " <a list of 30 Patch objects>)"
      ]
     },
     "execution_count": 55,
     "metadata": {},
     "output_type": "execute_result"
    },
    {
     "data": {
      "image/png": "[encoded data removed]",
      "text/plain": [
       "<Figure size 432x288 with 1 Axes>"
      ]
     },
     "metadata": {
      "needs_background": "light"
     },
     "output_type": "display_data"
    }
   ],
   "source": [
    "plt.hist(data_30_success['total_post_interactions'], bins = 30)"
   ]
  },
  {
   "cell_type": "code",
   "execution_count": 59,
   "metadata": {},
   "outputs": [],
   "source": [
    "trial_movie = data[data['movie_id'] == 5871]"
   ]
  },
  {
   "cell_type": "code",
   "execution_count": 61,
   "metadata": {},
   "outputs": [
    {
     "data": {
      "text/html": [
       "<div>\n",
       "<style scoped>\n",
       "    .dataframe tbody tr th:only-of-type {\n",
       "        vertical-align: middle;\n",
       "    }\n",
       "\n",
       "    .dataframe tbody tr th {\n",
       "        vertical-align: top;\n",
       "    }\n",
       "\n",
       "    .dataframe thead th {\n",
       "        text-align: right;\n",
       "    }\n",
       "</style>\n",
       "<table border=\"1\" class=\"dataframe\">\n",
       "  <thead>\n",
       "    <tr style=\"text-align: right;\">\n",
       "      <th></th>\n",
       "      <th>movie_id</th>\n",
       "      <th>total_post_interactions</th>\n",
       "      <th>total_post_interactions_c</th>\n",
       "      <th>days_after_release</th>\n",
       "      <th>flop</th>\n",
       "    </tr>\n",
       "  </thead>\n",
       "  <tbody>\n",
       "    <tr>\n",
       "      <th>1450</th>\n",
       "      <td>5871</td>\n",
       "      <td>948661</td>\n",
       "      <td>32515</td>\n",
       "      <td>-90 days</td>\n",
       "      <td>0.0</td>\n",
       "    </tr>\n",
       "    <tr>\n",
       "      <th>1451</th>\n",
       "      <td>5871</td>\n",
       "      <td>982852</td>\n",
       "      <td>34191</td>\n",
       "      <td>-89 days</td>\n",
       "      <td>0.0</td>\n",
       "    </tr>\n",
       "    <tr>\n",
       "      <th>1452</th>\n",
       "      <td>5871</td>\n",
       "      <td>1014374</td>\n",
       "      <td>31522</td>\n",
       "      <td>-88 days</td>\n",
       "      <td>0.0</td>\n",
       "    </tr>\n",
       "    <tr>\n",
       "      <th>1453</th>\n",
       "      <td>5871</td>\n",
       "      <td>1028739</td>\n",
       "      <td>14365</td>\n",
       "      <td>-87 days</td>\n",
       "      <td>0.0</td>\n",
       "    </tr>\n",
       "    <tr>\n",
       "      <th>1454</th>\n",
       "      <td>5871</td>\n",
       "      <td>1052281</td>\n",
       "      <td>23542</td>\n",
       "      <td>-86 days</td>\n",
       "      <td>0.0</td>\n",
       "    </tr>\n",
       "  </tbody>\n",
       "</table>\n",
       "</div>"
      ],
      "text/plain": [
       "      movie_id  total_post_interactions  total_post_interactions_c  \\\n",
       "1450      5871                   948661                      32515   \n",
       "1451      5871                   982852                      34191   \n",
       "1452      5871                  1014374                      31522   \n",
       "1453      5871                  1028739                      14365   \n",
       "1454      5871                  1052281                      23542   \n",
       "\n",
       "     days_after_release  flop  \n",
       "1450           -90 days   0.0  \n",
       "1451           -89 days   0.0  \n",
       "1452           -88 days   0.0  \n",
       "1453           -87 days   0.0  \n",
       "1454           -86 days   0.0  "
      ]
     },
     "execution_count": 61,
     "metadata": {},
     "output_type": "execute_result"
    }
   ],
   "source": [
    "trial_movie.head()"
   ]
  },
  {
   "cell_type": "code",
   "execution_count": 62,
   "metadata": {},
   "outputs": [
    {
     "data": {
      "text/plain": [
       "(array([29.,  6.,  9.,  4.,  7., 14.,  5.,  1.,  3.,  2.,  1.,  2.,  1.,\n",
       "         1.,  0.,  1.,  0.,  2.,  0.,  0.,  1.,  0.,  0.,  0.,  0.,  0.,\n",
       "         0.,  1.,  0.,  1.]),\n",
       " array([   445. ,   6068.3,  11691.6,  17314.9,  22938.2,  28561.5,\n",
       "         34184.8,  39808.1,  45431.4,  51054.7,  56678. ,  62301.3,\n",
       "         67924.6,  73547.9,  79171.2,  84794.5,  90417.8,  96041.1,\n",
       "        101664.4, 107287.7, 112911. , 118534.3, 124157.6, 129780.9,\n",
       "        135404.2, 141027.5, 146650.8, 152274.1, 157897.4, 163520.7,\n",
       "        169144. ]),\n",
       " <a list of 30 Patch objects>)"
      ]
     },
     "execution_count": 62,
     "metadata": {},
     "output_type": "execute_result"
    },
    {
     "data": {
      "image/png": "[encoded data removed]",
      "text/plain": [
       "<Figure size 432x288 with 1 Axes>"
      ]
     },
     "metadata": {
      "needs_background": "light"
     },
     "output_type": "display_data"
    }
   ],
   "source": [
    "plt.hist(trial_movie['total_post_interactions_c'], bins = 30)"
   ]
  },
  {
   "cell_type": "code",
   "execution_count": 16,
   "metadata": {},
   "outputs": [
    {
     "data": {
      "text/html": [
       "<div>\n",
       "<style scoped>\n",
       "    .dataframe tbody tr th:only-of-type {\n",
       "        vertical-align: middle;\n",
       "    }\n",
       "\n",
       "    .dataframe tbody tr th {\n",
       "        vertical-align: top;\n",
       "    }\n",
       "\n",
       "    .dataframe thead th {\n",
       "        text-align: right;\n",
       "    }\n",
       "</style>\n",
       "<table border=\"1\" class=\"dataframe\">\n",
       "  <thead>\n",
       "    <tr style=\"text-align: right;\">\n",
       "      <th></th>\n",
       "      <th>movie_id</th>\n",
       "      <th>total_post_interactions</th>\n",
       "      <th>days_after_release</th>\n",
       "      <th>flop</th>\n",
       "    </tr>\n",
       "  </thead>\n",
       "  <tbody>\n",
       "    <tr>\n",
       "      <th>35443</th>\n",
       "      <td>10692</td>\n",
       "      <td>85126</td>\n",
       "      <td>-30 days</td>\n",
       "      <td>1.0</td>\n",
       "    </tr>\n",
       "    <tr>\n",
       "      <th>64292</th>\n",
       "      <td>10669</td>\n",
       "      <td>1421255</td>\n",
       "      <td>-30 days</td>\n",
       "      <td>1.0</td>\n",
       "    </tr>\n",
       "    <tr>\n",
       "      <th>65315</th>\n",
       "      <td>10623</td>\n",
       "      <td>108608</td>\n",
       "      <td>-30 days</td>\n",
       "      <td>1.0</td>\n",
       "    </tr>\n",
       "    <tr>\n",
       "      <th>86155</th>\n",
       "      <td>13370</td>\n",
       "      <td>228336</td>\n",
       "      <td>-30 days</td>\n",
       "      <td>1.0</td>\n",
       "    </tr>\n",
       "    <tr>\n",
       "      <th>86744</th>\n",
       "      <td>10643</td>\n",
       "      <td>272014</td>\n",
       "      <td>-30 days</td>\n",
       "      <td>1.0</td>\n",
       "    </tr>\n",
       "  </tbody>\n",
       "</table>\n",
       "</div>"
      ],
      "text/plain": [
       "       movie_id  total_post_interactions days_after_release  flop\n",
       "35443     10692                    85126           -30 days   1.0\n",
       "64292     10669                  1421255           -30 days   1.0\n",
       "65315     10623                   108608           -30 days   1.0\n",
       "86155     13370                   228336           -30 days   1.0\n",
       "86744     10643                   272014           -30 days   1.0"
      ]
     },
     "execution_count": 16,
     "metadata": {},
     "output_type": "execute_result"
    }
   ],
   "source": [
    "data_30_flop.head()"
   ]
  },
  {
   "cell_type": "code",
   "execution_count": 17,
   "metadata": {},
   "outputs": [
    {
     "data": {
      "text/plain": [
       "(array([127.,   8.,   8.,   3.,   1.,   3.,   2.,   0.,   0.,   0.,   0.,\n",
       "          0.,   0.,   0.,   0.,   0.,   0.,   0.,   0.,   0.,   0.,   0.,\n",
       "          1.,   0.,   0.,   0.,   0.,   0.,   0.,   1.]),\n",
       " array([0.00000000e+00, 3.87525250e+06, 7.75050500e+06, 1.16257575e+07,\n",
       "        1.55010100e+07, 1.93762625e+07, 2.32515150e+07, 2.71267675e+07,\n",
       "        3.10020200e+07, 3.48772725e+07, 3.87525250e+07, 4.26277775e+07,\n",
       "        4.65030300e+07, 5.03782825e+07, 5.42535350e+07, 5.81287875e+07,\n",
       "        6.20040400e+07, 6.58792925e+07, 6.97545450e+07, 7.36297975e+07,\n",
       "        7.75050500e+07, 8.13803025e+07, 8.52555550e+07, 8.91308075e+07,\n",
       "        9.30060600e+07, 9.68813125e+07, 1.00756565e+08, 1.04631818e+08,\n",
       "        1.08507070e+08, 1.12382322e+08, 1.16257575e+08]),\n",
       " <a list of 30 Patch objects>)"
      ]
     },
     "execution_count": 17,
     "metadata": {},
     "output_type": "execute_result"
    },
    {
     "data": {
      "image/png": "[encoded data removed]",
      "text/plain": [
       "<Figure size 432x288 with 1 Axes>"
      ]
     },
     "metadata": {
      "needs_background": "light"
     },
     "output_type": "display_data"
    }
   ],
   "source": [
    "plt.hist( data_30_flop['total_post_interactions'], bins = 30)"
   ]
  },
  {
   "cell_type": "markdown",
   "metadata": {},
   "source": [
    "### non-parametric statistical tests."
   ]
  },
  {
   "cell_type": "code",
   "execution_count": 18,
   "metadata": {},
   "outputs": [],
   "source": [
    "################################################################################################################"
   ]
  },
  {
   "cell_type": "markdown",
   "metadata": {},
   "source": [
    "## Non-parametric statistical tests"
   ]
  },
  {
   "cell_type": "code",
   "execution_count": 19,
   "metadata": {},
   "outputs": [],
   "source": [
    "import scipy.stats as sps\n",
    "from scipy import stats\n",
    "import statistics"
   ]
  },
  {
   "cell_type": "markdown",
   "metadata": {},
   "source": [
    "### Two sample ks test to compare distributions\n",
    "#### Null hypothesis (H0): both samples come from the same distribution"
   ]
  },
  {
   "cell_type": "code",
   "execution_count": 20,
   "metadata": {},
   "outputs": [],
   "source": [
    "KS_30 = sps.ks_2samp(data_30_success['total_post_interactions'], data_30_flop['total_post_interactions'])"
   ]
  },
  {
   "cell_type": "code",
   "execution_count": 21,
   "metadata": {},
   "outputs": [
    {
     "data": {
      "text/plain": [
       "Ks_2sampResult(statistic=0.1429618768328446, pvalue=0.02058760294381301)"
      ]
     },
     "execution_count": 21,
     "metadata": {},
     "output_type": "execute_result"
    }
   ],
   "source": [
    "KS_30"
   ]
  },
  {
   "cell_type": "markdown",
   "metadata": {},
   "source": [
    "#### p-value = 0.021 < alpha = 0.05. Reject the null hypothesis and conclude that the two distributions are different."
   ]
  },
  {
   "cell_type": "code",
   "execution_count": 22,
   "metadata": {},
   "outputs": [],
   "source": [
    "#############################################################################################################"
   ]
  },
  {
   "cell_type": "markdown",
   "metadata": {},
   "source": [
    "### Kruskal Wallis Test to compare medians in two distributions\n",
    "#### Null hypothesis (H0): population medians are equal."
   ]
  },
  {
   "cell_type": "code",
   "execution_count": 23,
   "metadata": {},
   "outputs": [
    {
     "data": {
      "text/plain": [
       "372811.5"
      ]
     },
     "execution_count": 23,
     "metadata": {},
     "output_type": "execute_result"
    }
   ],
   "source": [
    "## Calculate medians\n",
    "Median_success_30 = statistics.median(data_30_success['total_post_interactions'])\n",
    "Median_success_30"
   ]
  },
  {
   "cell_type": "code",
   "execution_count": 24,
   "metadata": {},
   "outputs": [
    {
     "data": {
      "text/plain": [
       "230431.5"
      ]
     },
     "execution_count": 24,
     "metadata": {},
     "output_type": "execute_result"
    }
   ],
   "source": [
    "Median_flop_30 = statistics.median(data_30_flop['total_post_interactions'])\n",
    "Median_flop_30"
   ]
  },
  {
   "cell_type": "code",
   "execution_count": 25,
   "metadata": {},
   "outputs": [
    {
     "data": {
      "text/plain": [
       "KruskalResult(statistic=5.4208274739278295, pvalue=0.01989792758755015)"
      ]
     },
     "execution_count": 25,
     "metadata": {},
     "output_type": "execute_result"
    }
   ],
   "source": [
    "KW_30 = stats.kruskal(data_30_success['total_post_interactions'], data_30_flop['total_post_interactions'])\n",
    "KW_30"
   ]
  },
  {
   "cell_type": "markdown",
   "metadata": {},
   "source": [
    "#### p-value = 0.020 < alpha = 0.05. Reject the null hypothesis and conclude that population medians are different."
   ]
  },
  {
   "cell_type": "code",
   "execution_count": 26,
   "metadata": {},
   "outputs": [],
   "source": [
    "#################################################################################################################"
   ]
  },
  {
   "cell_type": "markdown",
   "metadata": {},
   "source": [
    "### Mann Whitney U test to compare means in two distributions"
   ]
  },
  {
   "cell_type": "code",
   "execution_count": 27,
   "metadata": {},
   "outputs": [
    {
     "data": {
      "text/plain": [
       "MannwhitneyuResult(statistic=24951.0, pvalue=0.009957330898400776)"
      ]
     },
     "execution_count": 27,
     "metadata": {},
     "output_type": "execute_result"
    }
   ],
   "source": [
    "MWU_30 = stats.mannwhitneyu(data_30_success['total_post_interactions'], data_30_flop['total_post_interactions'])\n",
    "MWU_30"
   ]
  },
  {
   "cell_type": "markdown",
   "metadata": {},
   "source": [
    "#### p-value = 0.010 < alpha = 0.05. Reject the null hypothesis and conclude that population means are different."
   ]
  },
  {
   "cell_type": "code",
   "execution_count": 28,
   "metadata": {},
   "outputs": [],
   "source": [
    "################################################################################################################"
   ]
  },
  {
   "cell_type": "markdown",
   "metadata": {},
   "source": [
    "## 60 days before movie release"
   ]
  },
  {
   "cell_type": "code",
   "execution_count": 29,
   "metadata": {},
   "outputs": [],
   "source": [
    "data_60 = data[data['days_after_release'] == '-60 days']"
   ]
  },
  {
   "cell_type": "code",
   "execution_count": 30,
   "metadata": {},
   "outputs": [],
   "source": [
    "data_60_success = data_60[data_60['flop'] == 0]\n",
    "data_60_flop = data_60[data_60['flop'] == 1]"
   ]
  },
  {
   "cell_type": "code",
   "execution_count": 31,
   "metadata": {},
   "outputs": [
    {
     "data": {
      "text/plain": [
       "(array([300.,  22.,  13.,   8.,   6.,   1.,   3.,   2.,   6.,   0.,   2.,\n",
       "          2.,   0.,   0.,   0.,   1.,   0.,   0.,   2.,   0.,   0.,   0.,\n",
       "          0.,   1.,   0.,   0.,   0.,   0.,   0.,   2.]),\n",
       " array([       0.        ,  3097291.53333333,  6194583.06666667,\n",
       "         9291874.6       , 12389166.13333333, 15486457.66666667,\n",
       "        18583749.2       , 21681040.73333333, 24778332.26666667,\n",
       "        27875623.8       , 30972915.33333333, 34070206.86666667,\n",
       "        37167498.4       , 40264789.93333333, 43362081.46666667,\n",
       "        46459373.        , 49556664.53333333, 52653956.06666666,\n",
       "        55751247.59999999, 58848539.13333333, 61945830.66666666,\n",
       "        65043122.2       , 68140413.73333333, 71237705.26666667,\n",
       "        74334996.8       , 77432288.33333333, 80529579.86666666,\n",
       "        83626871.39999999, 86724162.93333334, 89821454.46666667,\n",
       "        92918746.        ]),\n",
       " <a list of 30 Patch objects>)"
      ]
     },
     "execution_count": 31,
     "metadata": {},
     "output_type": "execute_result"
    },
    {
     "data": {
      "image/png": "[encoded data removed]",
      "text/plain": [
       "<Figure size 432x288 with 1 Axes>"
      ]
     },
     "metadata": {
      "needs_background": "light"
     },
     "output_type": "display_data"
    }
   ],
   "source": [
    "plt.hist( data_60_success['total_post_interactions'], bins = 30)"
   ]
  },
  {
   "cell_type": "markdown",
   "metadata": {},
   "source": [
    "### Two sample ks test to compare distributions\n",
    "#### Null hypothesis (H0): both samples come from the same distribution"
   ]
  },
  {
   "cell_type": "code",
   "execution_count": 32,
   "metadata": {},
   "outputs": [
    {
     "data": {
      "text/plain": [
       "Ks_2sampResult(statistic=0.1497182063219799, pvalue=0.013373693781115192)"
      ]
     },
     "execution_count": 32,
     "metadata": {},
     "output_type": "execute_result"
    }
   ],
   "source": [
    "KS_60 = sps.ks_2samp(data_60_success['total_post_interactions'], data_60_flop['total_post_interactions'])\n",
    "KS_60"
   ]
  },
  {
   "cell_type": "markdown",
   "metadata": {},
   "source": [
    "#### p-value = 0.013 < alpha = 0.05. Reject the null hypothesis and conclude that the two distributions are different."
   ]
  },
  {
   "cell_type": "code",
   "execution_count": 33,
   "metadata": {},
   "outputs": [],
   "source": [
    "#################################################################################################################"
   ]
  },
  {
   "cell_type": "markdown",
   "metadata": {},
   "source": [
    "### Kruskal Wallis Test to compare medians in two distributions\n",
    "#### Null hypothesis (H0): population medians are equal."
   ]
  },
  {
   "cell_type": "code",
   "execution_count": 34,
   "metadata": {},
   "outputs": [
    {
     "data": {
      "text/plain": [
       "255251"
      ]
     },
     "execution_count": 34,
     "metadata": {},
     "output_type": "execute_result"
    }
   ],
   "source": [
    "## Calculate medians\n",
    "Median_success_60 = statistics.median(data_60_success['total_post_interactions'])\n",
    "Median_success_60"
   ]
  },
  {
   "cell_type": "code",
   "execution_count": 35,
   "metadata": {},
   "outputs": [
    {
     "data": {
      "text/plain": [
       "129277.0"
      ]
     },
     "execution_count": 35,
     "metadata": {},
     "output_type": "execute_result"
    }
   ],
   "source": [
    "Median_flop_60 = statistics.median(data_60_flop['total_post_interactions'])\n",
    "Median_flop_60"
   ]
  },
  {
   "cell_type": "code",
   "execution_count": 36,
   "metadata": {},
   "outputs": [
    {
     "data": {
      "text/plain": [
       "KruskalResult(statistic=4.805189258346484, pvalue=0.02837414999426217)"
      ]
     },
     "execution_count": 36,
     "metadata": {},
     "output_type": "execute_result"
    }
   ],
   "source": [
    "KW_60 = stats.kruskal(data_60_success['total_post_interactions'], data_60_flop['total_post_interactions'])\n",
    "KW_60"
   ]
  },
  {
   "cell_type": "markdown",
   "metadata": {},
   "source": [
    "#### p-value = 0.028 < alpha = 0.05. Reject the null hypothesis and conclude that population medians are different."
   ]
  },
  {
   "cell_type": "code",
   "execution_count": 37,
   "metadata": {},
   "outputs": [],
   "source": [
    "################################################################################################################"
   ]
  },
  {
   "cell_type": "markdown",
   "metadata": {},
   "source": [
    "### Mann Whitney U test to compare means in two distributions"
   ]
  },
  {
   "cell_type": "code",
   "execution_count": 38,
   "metadata": {},
   "outputs": [
    {
     "data": {
      "text/plain": [
       "MannwhitneyuResult(statistic=25098.0, pvalue=0.014198484003561869)"
      ]
     },
     "execution_count": 38,
     "metadata": {},
     "output_type": "execute_result"
    }
   ],
   "source": [
    "MWU_60 = stats.mannwhitneyu(data_60_success['total_post_interactions'], data_60_flop['total_post_interactions'])\n",
    "MWU_60"
   ]
  },
  {
   "cell_type": "markdown",
   "metadata": {},
   "source": [
    "#### p-value = 0.010 < alpha = 0.05. Reject the null hypothesis and conclude that population means are different."
   ]
  },
  {
   "cell_type": "code",
   "execution_count": 44,
   "metadata": {},
   "outputs": [],
   "source": [
    "################################################################################################################"
   ]
  },
  {
   "cell_type": "code",
   "execution_count": null,
   "metadata": {},
   "outputs": [],
   "source": []
  },
  {
   "cell_type": "code",
   "execution_count": null,
   "metadata": {},
   "outputs": [],
   "source": []
  },
  {
   "cell_type": "code",
   "execution_count": null,
   "metadata": {},
   "outputs": [],
   "source": []
  },
  {
   "cell_type": "code",
   "execution_count": null,
   "metadata": {},
   "outputs": [],
   "source": []
  },
  {
   "cell_type": "code",
   "execution_count": null,
   "metadata": {},
   "outputs": [],
   "source": []
  },
  {
   "cell_type": "code",
   "execution_count": null,
   "metadata": {},
   "outputs": [],
   "source": []
  },
  {
   "cell_type": "code",
   "execution_count": null,
   "metadata": {},
   "outputs": [],
   "source": []
  },
  {
   "cell_type": "code",
   "execution_count": null,
   "metadata": {},
   "outputs": [],
   "source": []
  },
  {
   "cell_type": "code",
   "execution_count": null,
   "metadata": {},
   "outputs": [],
   "source": []
  },
  {
   "cell_type": "code",
   "execution_count": null,
   "metadata": {},
   "outputs": [],
   "source": []
  },
  {
   "cell_type": "code",
   "execution_count": null,
   "metadata": {},
   "outputs": [],
   "source": []
  }
 ],
 "metadata": {
  "kernelspec": {
   "display_name": "Python 3",
   "language": "python",
   "name": "python3"
  },
  "language_info": {
   "codemirror_mode": {
    "name": "ipython",
    "version": 3
   },
   "file_extension": ".py",
   "mimetype": "text/x-python",
   "name": "python",
   "nbconvert_exporter": "python",
   "pygments_lexer": "ipython3",
   "version": "3.6.9"
  }
 },
 "nbformat": 4,
 "nbformat_minor": 4
}
