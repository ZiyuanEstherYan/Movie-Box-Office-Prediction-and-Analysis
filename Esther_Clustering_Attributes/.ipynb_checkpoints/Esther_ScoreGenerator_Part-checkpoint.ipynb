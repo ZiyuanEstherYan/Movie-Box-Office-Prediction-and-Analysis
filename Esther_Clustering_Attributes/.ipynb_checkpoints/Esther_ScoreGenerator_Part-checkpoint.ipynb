{
 "cells": [
  {
   "cell_type": "code",
   "execution_count": 2,
   "metadata": {},
   "outputs": [],
   "source": [
    "feature_set = {'top_genre', 'rating', 'source', 'franchise', 'inflated_budget'}\n",
    "\n",
    "def cluster(self):\n",
    "        \"\"\"\n",
    "        Use pretrained models to predict a cluster based on a client movie's attributes\n",
    "        \"\"\"\n",
    "        my_path = os.path.abspath(os.path.dirname(__file__))\n",
    "        budget_scale = pickle.load(open(os.path.join(my_path, 'budget_scale.pkl'), 'rb'))\n",
    "    \n",
    "        self.brands['inflated_budget'] = budget_scale.fit_transform(self.brands['inflated_budget'].values.reshape(-1, 1))\n",
    "        \n",
    "        features_ = self.brands[['replace', 'top_genre', 'rating', 'source', 'franchise', 'inflated_budget']]\n",
    "        features_ = features_.set_index('replace')\n",
    "        \n",
    "        famd = pickle.load(open(os.path.join(my_path, 'mca.pkl'), 'rb'))\n",
    "        famd2 = famd.fit(features_)\n",
    "        clust_brand_extras_famd = famd2.row_coordinates(features_)\n",
    "        \n",
    "        hc = pickle.load(open(os.path.join(my_path, 'hc.pkl'), 'rb'))\n",
    "        features_pred = hc.fit_predict(clust_brand_extras_famd)\n",
    "        \n",
    "        self.cluster_brands = self.brands\n",
    "        self.cluster_brands['cluster_id'] = features_pred"
   ]
  }
 ],
 "metadata": {
  "kernelspec": {
   "display_name": "Python 3",
   "language": "python",
   "name": "python3"
  },
  "language_info": {
   "codemirror_mode": {
    "name": "ipython",
    "version": 3
   },
   "file_extension": ".py",
   "mimetype": "text/x-python",
   "name": "python",
   "nbconvert_exporter": "python",
   "pygments_lexer": "ipython3",
   "version": "3.8.1"
  }
 },
 "nbformat": 4,
 "nbformat_minor": 4
}
