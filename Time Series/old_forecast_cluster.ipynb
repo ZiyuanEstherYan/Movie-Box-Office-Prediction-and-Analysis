{
 "cells": [
  {
   "cell_type": "code",
   "execution_count": 6,
   "metadata": {},
   "outputs": [],
   "source": [
    "#pip install pyramid.arima\n",
    "\n",
    "import pandas as pd\n",
    "import numpy as np\n",
    "import matplotlib.pyplot as plt \n",
    "from datetime import timedelta\n",
    "from sklearn.metrics import mean_squared_error as mse\n",
    "from math import sqrt\n",
    "from statsmodels.tsa.holtwinters import Holt\n",
    "from pmdarima.arima import auto_arima\n",
    "from statsmodels.tsa.arima_model import ARIMA"
   ]
  },
  {
   "cell_type": "markdown",
   "metadata": {},
   "source": [
    "### Helper functions"
   ]
  },
  {
   "cell_type": "code",
   "execution_count": 2,
   "metadata": {},
   "outputs": [],
   "source": [
    "# Own Function\n",
    "def cluster_select(df, col, cluster, attribute):\n",
    "    df = df[df[col] == cluster]\n",
    "    df = pd.DataFrame(df.groupby('days')[attribute].mean())\n",
    "    return(df)\n",
    "\n",
    "\n",
    "def movie_select(movie_name, df, attribute):\n",
    "    movie_name = movie_name\n",
    "    movies = df[df['replace'] == movie_name]\n",
    "    movies.index = movies['days']\n",
    "    movie = movies[[attribute]]\n",
    "    return(movie)"
   ]
  },
  {
   "cell_type": "code",
   "execution_count": 3,
   "metadata": {},
   "outputs": [],
   "source": [
    "def movie_calc_auto(df, days, exponential, smoothing_level, smoothing_slope):\n",
    "    days = days\n",
    "    test = df[365 - days:]\n",
    "    train = df[:365 - days]\n",
    "    train = train.dropna()\n",
    "    \n",
    "    # Naive\n",
    "    dd = np.asarray(train)\n",
    "    dd = np.repeat(dd[-1], len(test))\n",
    "    y_hat = test.copy()\n",
    "    y_hat['naive'] = dd[len(dd)-1]\n",
    "\n",
    "    # Holt\n",
    "    fit1 = Holt(np.asarray(train), exponential = exponential).fit(smoothing_level = smoothing_level, smoothing_slope = smoothing_slope)\n",
    "    y_hat['holt'] = fit1.forecast(len(test))\n",
    "\n",
    "    # Arima\n",
    "    model = auto_arima(np.asarray(train), error_action='ignore', suppress_warnings=True)\n",
    "    model.fit(train)\n",
    "\n",
    "    forecast = model.predict(n_periods=len(test))\n",
    "    y_hat['arima'] = forecast\n",
    "    print(model)\n",
    "    \n",
    "    \n",
    "    # Plot\n",
    "    plt.plot(train, label = 'Train')\n",
    "    plt.plot(test, label = 'Test')\n",
    "    plt.plot(y_hat['arima'], label = 'Arima')\n",
    "    plt.plot(y_hat['holt'], label = 'Holt')\n",
    "    plt.plot(y_hat['naive'], label = 'Naive')\n",
    "    plt.legend()\n",
    "    plt.show\n",
    "\n",
    "    rms_holt = sqrt(mse(test, y_hat['holt']))\n",
    "    rms_arima = sqrt(mse(test, y_hat['arima']))\n",
    "    rms_naive = sqrt(mse(test, y_hat['naive']))\n",
    "    x = pd.DataFrame(np.array([rms_holt, rms_arima, rms_naive]), index = ['Holt', 'Arima', 'Naive'], columns = ['RMSE'])\n",
    "    x = x.sort_values(by=['RMSE'])\n",
    "    \n",
    "    return(x)\n",
    "\n",
    "\n",
    "def movie_calc_manual(df, days, exponential, smoothing_level, smoothing_slope, p, d, q):\n",
    "    days = days\n",
    "    test = df[365 - days:]\n",
    "    train = df[:365 - days]\n",
    "    train = train.dropna()\n",
    "    \n",
    "    # Naive\n",
    "    dd = np.asarray(train)\n",
    "    dd = np.repeat(dd[-1], len(test))\n",
    "    y_hat = test.copy()\n",
    "    y_hat['naive'] = dd[len(dd)-1]\n",
    "\n",
    "    # Holt\n",
    "    fit1 = Holt(np.asarray(train), exponential = exponential).fit(smoothing_level = smoothing_level, smoothing_slope = smoothing_slope)\n",
    "    y_hat['holt'] = fit1.forecast(len(test))\n",
    "\n",
    "    # Arima\n",
    "    model = auto_arima(np.asarray(train), order = (p,d,q), error_action='ignore', suppress_warnings=True)\n",
    "    model.fit(train)\n",
    "\n",
    "    forecast = model.predict(n_periods=len(test))\n",
    "    y_hat['arima'] = forecast\n",
    "    \n",
    "    \n",
    "    # Plot\n",
    "    plt.plot(train, label = 'Train')\n",
    "    plt.plot(test, label = 'Test')\n",
    "    plt.plot(y_hat['arima'], label = 'Arima')\n",
    "    plt.plot(y_hat['holt'], label = 'Holt')\n",
    "    plt.plot(y_hat['naive'], label = 'Naive')\n",
    "    plt.legend()\n",
    "    plt.show\n",
    "\n",
    "    rms_holt = sqrt(mse(test, y_hat['holt']))\n",
    "    rms_arima = sqrt(mse(test, y_hat['arima']))\n",
    "    rms_naive = sqrt(mse(test, y_hat['naive']))\n",
    "    x = pd.DataFrame(np.array([rms_holt, rms_arima, rms_naive]), index = ['Holt', 'Arima', 'Naive'], columns = ['RMSE'])\n",
    "    x = x.sort_values(by=['RMSE'])\n",
    "    \n",
    "    return(x)"
   ]
  },
  {
   "cell_type": "markdown",
   "metadata": {},
   "source": [
    "### 1. Load Data & Preprocessing"
   ]
  },
  {
   "cell_type": "code",
   "execution_count": 7,
   "metadata": {},
   "outputs": [],
   "source": [
    "brand = pd.read_csv('../utils/alex_clusters.csv')"
   ]
  },
  {
   "cell_type": "code",
   "execution_count": 11,
   "metadata": {},
   "outputs": [],
   "source": [
    "fb_1k = pd.read_table('../data/view_brand_rollup_facebook_1k-10k.tsv')\n",
    "fb_10k = pd.read_table('../data/view_brand_rollup_facebook_10kplus.tsv')\n",
    "fb = pd.concat([fb_1k, fb_10k])\n",
    "fb = pd.merge(fb, brand, left_on = 'movie_id', right_on = 'brand_ods_id', how = 'left')\n",
    "\n",
    "insta_1k = pd.read_table('../data/view_brand_rollup_instagram_1k-10k.tsv')\n",
    "insta_10k = pd.read_table('../data/view_brand_rollup_instagram_10kplus.tsv')\n",
    "insta = pd.concat([insta_1k, insta_10k])\n",
    "insta = pd.merge(insta, brand, left_on = 'movie_id', right_on = 'brand_ods_id', how = 'left')\n",
    "\n",
    "twit_1k = pd.read_table('../data/view_brand_rollup_twitter_1k-10k.tsv')\n",
    "twit_10k = pd.read_table('../data/view_brand_rollup_twitter_10kplus.tsv')\n",
    "twit = pd.concat([twit_1k, twit_10k])\n",
    "twit = pd.merge(twit, brand, left_on = 'movie_id', right_on = 'brand_ods_id', how = 'left')"
   ]
  },
  {
   "cell_type": "code",
   "execution_count": 6,
   "metadata": {},
   "outputs": [],
   "source": [
    "fb['data_for']= pd.to_datetime(fb['data_for']) \n",
    "fb['released_on'] = pd.to_datetime(fb['released_on'])\n",
    "fb['days_after_release'] = fb['data_for'] - fb['released_on'] \n",
    "fb = fb[(fb['days_after_release'] <= '0 days') & (fb['days_after_release'] >= '-365 days')]\n",
    "fb['days'] = fb['days_after_release'] + timedelta(days=365)\n",
    "\n",
    "insta['data_for']= pd.to_datetime(insta['data_for']) \n",
    "insta['released_on'] = pd.to_datetime(insta['released_on'])\n",
    "insta['days_after_release'] = insta['data_for'] - insta['released_on'] \n",
    "insta = insta[(insta['days_after_release'] <= '0 days') & (insta['days_after_release'] >= '-365 days')]\n",
    "insta['days'] = insta['days_after_release'] + timedelta(days=365)\n",
    "\n",
    "twit['data_for']= pd.to_datetime(twit['data_for']) \n",
    "twit['released_on'] = pd.to_datetime(twit['released_on'])\n",
    "twit['days_after_release'] = twit['data_for'] - twit['released_on'] \n",
    "twit = twit[(twit['days_after_release'] <= '0 days') & (twit['days_after_release'] >= '-365 days')]\n",
    "twit['days'] = twit['days_after_release'] + timedelta(days=365)"
   ]
  },
  {
   "cell_type": "markdown",
   "metadata": {},
   "source": [
    "### 2. Selecting Movie / Cluster and Data Column for Prediction"
   ]
  },
  {
   "cell_type": "code",
   "execution_count": 7,
   "metadata": {},
   "outputs": [],
   "source": [
    "fb_movie = cluster_select(fb, 'clusters_3', 1, 'total_post_interactions')"
   ]
  },
  {
   "cell_type": "markdown",
   "metadata": {},
   "source": [
    "### 3. Split train/test"
   ]
  },
  {
   "cell_type": "code",
   "execution_count": 8,
   "metadata": {},
   "outputs": [
    {
     "data": {
      "text/plain": [
       "<function matplotlib.pyplot.show(*args, **kw)>"
      ]
     },
     "execution_count": 8,
     "metadata": {},
     "output_type": "execute_result"
    },
    {
     "data": {
      "image/png": "[encoded data removed]",
      "text/plain": [
       "<Figure size 432x288 with 1 Axes>"
      ]
     },
     "metadata": {
      "needs_background": "light"
     },
     "output_type": "display_data"
    }
   ],
   "source": [
    "plt.plot(fb_movie)\n",
    "plt.show"
   ]
  },
  {
   "cell_type": "markdown",
   "metadata": {},
   "source": [
    "Looking at the plot, 150 days out might give wildly inaccurate forecasts because of the exponential trend appearing much later. At day 250 (~100 days out would be a benchmark) as it would give producers insights on how the trend would look like 3 months out. If it is not desirable, producers can therefore try to change metrics. \n",
    "\n",
    "We will try:\n",
    "\n",
    "__90 days (3 months)__\n",
    "\n",
    "__60 days (2 months)__ \n",
    "\n",
    "__30 days (1 month)__"
   ]
  },
  {
   "cell_type": "code",
   "execution_count": 34,
   "metadata": {},
   "outputs": [],
   "source": [
    "days = 90\n",
    "test = fb_movie[365 - days:]\n",
    "train = fb_movie[:365 - days]"
   ]
  },
  {
   "cell_type": "code",
   "execution_count": 35,
   "metadata": {},
   "outputs": [
    {
     "data": {
      "text/plain": [
       "<function matplotlib.pyplot.show(*args, **kw)>"
      ]
     },
     "execution_count": 35,
     "metadata": {},
     "output_type": "execute_result"
    },
    {
     "data": {
      "image/png": "[encoded data removed]",
      "text/plain": [
       "<Figure size 432x288 with 1 Axes>"
      ]
     },
     "metadata": {
      "needs_background": "light"
     },
     "output_type": "display_data"
    }
   ],
   "source": [
    "plt.figure()\n",
    "plt.plot(train, label = 'Train')\n",
    "plt.plot(test, label = 'Test')\n",
    "plt.legend(loc='best')\n",
    "plt.show"
   ]
  },
  {
   "cell_type": "markdown",
   "metadata": {},
   "source": [
    "### 4. Train Models\n",
    "\n",
    "We will use different models:\n",
    "\n",
    "a. Naive (basic model to compare against)\n",
    "\n",
    "b. Holt's Linear (we will not use holt winters because data does not have seasonal trend)\n",
    "\n",
    "d. ARIMA "
   ]
  },
  {
   "cell_type": "markdown",
   "metadata": {},
   "source": [
    "### 90 Days"
   ]
  },
  {
   "cell_type": "markdown",
   "metadata": {},
   "source": [
    "#### a. Naive "
   ]
  },
  {
   "cell_type": "code",
   "execution_count": 36,
   "metadata": {},
   "outputs": [],
   "source": [
    "dd = np.asarray(train)\n",
    "dd = np.repeat(dd[-1], len(test))\n",
    "y_hat = test.copy()\n",
    "y_hat['naive'] = dd[len(dd)-1]"
   ]
  },
  {
   "cell_type": "code",
   "execution_count": 37,
   "metadata": {},
   "outputs": [
    {
     "name": "stdout",
     "output_type": "stream",
     "text": [
      "RMSE is:  604057.71\n"
     ]
    },
    {
     "data": {
      "image/png": "[encoded data removed]",
      "text/plain": [
       "<Figure size 432x288 with 1 Axes>"
      ]
     },
     "metadata": {
      "needs_background": "light"
     },
     "output_type": "display_data"
    }
   ],
   "source": [
    "plt.plot(train, label = 'Train')\n",
    "plt.plot(test, label = 'Test')\n",
    "plt.plot(y_hat['naive'], label = 'Naive')\n",
    "plt.legend()\n",
    "plt.show\n",
    "\n",
    "rms_naive = sqrt(mse(test, y_hat.naive))\n",
    "print('RMSE is: ', round(rms_naive,2))"
   ]
  },
  {
   "cell_type": "markdown",
   "metadata": {},
   "source": [
    "#### b. Holt's Linear\n",
    "As we see an increasing exponential trend, we will use set exponential parameter as True and tune smoothing_level and smoothing_slope. (To be done later)"
   ]
  },
  {
   "cell_type": "code",
   "execution_count": 130,
   "metadata": {},
   "outputs": [],
   "source": [
    "exponential = True\n",
    "smoothing_level = 0.8\n",
    "smoothing_slope = 0.2\n",
    "\n",
    "y_hat_holt= test.copy()\n",
    "\n",
    "fit1 = Holt(np.asarray(train), exponential = exponential).fit(smoothing_level = smoothing_level, smoothing_slope = smoothing_slope)\n",
    "y_hat_holt['holt'] = fit1.forecast(len(test))"
   ]
  },
  {
   "cell_type": "code",
   "execution_count": 131,
   "metadata": {},
   "outputs": [
    {
     "name": "stdout",
     "output_type": "stream",
     "text": [
      "RMSE is:  202360.53\n"
     ]
    },
    {
     "data": {
      "image/png": "[encoded data removed]",
      "text/plain": [
       "<Figure size 432x288 with 1 Axes>"
      ]
     },
     "metadata": {
      "needs_background": "light"
     },
     "output_type": "display_data"
    }
   ],
   "source": [
    "plt.plot(train, label = 'Train')\n",
    "plt.plot(test, label = 'Test')\n",
    "plt.plot(y_hat_holt['holt'], label = 'Holt')\n",
    "plt.legend()\n",
    "plt.show\n",
    "\n",
    "rms_holt = sqrt(mse(test, y_hat_holt['holt']))\n",
    "print('RMSE is: ', round(rms_holt,2))"
   ]
  },
  {
   "cell_type": "markdown",
   "metadata": {},
   "source": [
    "#### 3. Arima (auto-arima)"
   ]
  },
  {
   "cell_type": "code",
   "execution_count": 132,
   "metadata": {},
   "outputs": [
    {
     "name": "stdout",
     "output_type": "stream",
     "text": [
      "Performing stepwise search to minimize aic\n",
      "Fit ARIMA(2,2,2)x(0,0,0,0) [intercept=True]; AIC=5273.225, BIC=5294.882, Time=0.209 seconds\n",
      "Fit ARIMA(0,2,0)x(0,0,0,0) [intercept=True]; AIC=5253.212, BIC=5260.431, Time=0.012 seconds\n",
      "Fit ARIMA(1,2,0)x(0,0,0,0) [intercept=True]; AIC=5257.033, BIC=5267.861, Time=0.074 seconds\n",
      "Fit ARIMA(0,2,1)x(0,0,0,0) [intercept=True]; AIC=5260.778, BIC=5271.607, Time=0.053 seconds\n",
      "Fit ARIMA(0,2,0)x(0,0,0,0) [intercept=False]; AIC=5251.220, BIC=5254.829, Time=0.008 seconds\n",
      "Fit ARIMA(1,2,1)x(0,0,0,0) [intercept=True]; AIC=5264.044, BIC=5278.482, Time=0.046 seconds\n",
      "Total fit time: 0.411 seconds\n"
     ]
    }
   ],
   "source": [
    "model = auto_arima(np.asarray(train), trace=True, error_action='ignore', suppress_warnings=True)\n",
    "model.fit(train)\n",
    "\n",
    "y_hat_arima = test.copy()\n",
    "forecast = model.predict(n_periods=len(test))\n",
    "y_hat_arima['arima'] = forecast"
   ]
  },
  {
   "cell_type": "code",
   "execution_count": 133,
   "metadata": {},
   "outputs": [
    {
     "name": "stdout",
     "output_type": "stream",
     "text": [
      "RMSE is:  316454.99\n"
     ]
    },
    {
     "data": {
      "image/png": "[encoded data removed]",
      "text/plain": [
       "<Figure size 432x288 with 1 Axes>"
      ]
     },
     "metadata": {
      "needs_background": "light"
     },
     "output_type": "display_data"
    }
   ],
   "source": [
    "plt.plot(train, label = 'Train')\n",
    "plt.plot(test, label = 'Test')\n",
    "plt.plot(y_hat_arima['arima'], label = 'Arima')\n",
    "plt.legend()\n",
    "plt.show\n",
    "\n",
    "rms_arima = sqrt(mse(test, y_hat_arima['arima']))\n",
    "print('RMSE is: ', round(rms_arima,2))"
   ]
  },
  {
   "cell_type": "markdown",
   "metadata": {},
   "source": [
    "### 60 days"
   ]
  },
  {
   "cell_type": "code",
   "execution_count": 135,
   "metadata": {},
   "outputs": [
    {
     "name": "stdout",
     "output_type": "stream",
     "text": [
      "ARIMA(maxiter=50, method='lbfgs', order=(0, 2, 0), out_of_sample_size=0,\n",
      "      scoring='mse', scoring_args=None, seasonal_order=(0, 0, 0, 0),\n",
      "      start_params=None, suppress_warnings=True, trend=None,\n",
      "      with_intercept=False)\n"
     ]
    },
    {
     "data": {
      "text/html": [
       "<div>\n",
       "<style scoped>\n",
       "    .dataframe tbody tr th:only-of-type {\n",
       "        vertical-align: middle;\n",
       "    }\n",
       "\n",
       "    .dataframe tbody tr th {\n",
       "        vertical-align: top;\n",
       "    }\n",
       "\n",
       "    .dataframe thead th {\n",
       "        text-align: right;\n",
       "    }\n",
       "</style>\n",
       "<table border=\"1\" class=\"dataframe\">\n",
       "  <thead>\n",
       "    <tr style=\"text-align: right;\">\n",
       "      <th></th>\n",
       "      <th>RMSE</th>\n",
       "    </tr>\n",
       "  </thead>\n",
       "  <tbody>\n",
       "    <tr>\n",
       "      <th>Arima</th>\n",
       "      <td>81795.863427</td>\n",
       "    </tr>\n",
       "    <tr>\n",
       "      <th>Holt</th>\n",
       "      <td>101984.384453</td>\n",
       "    </tr>\n",
       "    <tr>\n",
       "      <th>Naive</th>\n",
       "      <td>527224.130101</td>\n",
       "    </tr>\n",
       "  </tbody>\n",
       "</table>\n",
       "</div>"
      ],
      "text/plain": [
       "                RMSE\n",
       "Arima   81795.863427\n",
       "Holt   101984.384453\n",
       "Naive  527224.130101"
      ]
     },
     "execution_count": 135,
     "metadata": {},
     "output_type": "execute_result"
    },
    {
     "data": {
      "image/png": "[encoded data removed]",
      "text/plain": [
       "<Figure size 432x288 with 1 Axes>"
      ]
     },
     "metadata": {
      "needs_background": "light"
     },
     "output_type": "display_data"
    }
   ],
   "source": [
    "movie_calc_auto(fb_movie, 60, True, 0.8, 0.2)"
   ]
  },
  {
   "cell_type": "markdown",
   "metadata": {},
   "source": [
    "### 30 Days"
   ]
  },
  {
   "cell_type": "code",
   "execution_count": 136,
   "metadata": {},
   "outputs": [
    {
     "name": "stdout",
     "output_type": "stream",
     "text": [
      "ARIMA(maxiter=50, method='lbfgs', order=(0, 2, 0), out_of_sample_size=0,\n",
      "      scoring='mse', scoring_args=None, seasonal_order=(0, 0, 0, 0),\n",
      "      start_params=None, suppress_warnings=True, trend=None,\n",
      "      with_intercept=False)\n"
     ]
    },
    {
     "data": {
      "text/html": [
       "<div>\n",
       "<style scoped>\n",
       "    .dataframe tbody tr th:only-of-type {\n",
       "        vertical-align: middle;\n",
       "    }\n",
       "\n",
       "    .dataframe tbody tr th {\n",
       "        vertical-align: top;\n",
       "    }\n",
       "\n",
       "    .dataframe thead th {\n",
       "        text-align: right;\n",
       "    }\n",
       "</style>\n",
       "<table border=\"1\" class=\"dataframe\">\n",
       "  <thead>\n",
       "    <tr style=\"text-align: right;\">\n",
       "      <th></th>\n",
       "      <th>RMSE</th>\n",
       "    </tr>\n",
       "  </thead>\n",
       "  <tbody>\n",
       "    <tr>\n",
       "      <th>Arima</th>\n",
       "      <td>35459.143887</td>\n",
       "    </tr>\n",
       "    <tr>\n",
       "      <th>Holt</th>\n",
       "      <td>105403.996689</td>\n",
       "    </tr>\n",
       "    <tr>\n",
       "      <th>Naive</th>\n",
       "      <td>370127.285382</td>\n",
       "    </tr>\n",
       "  </tbody>\n",
       "</table>\n",
       "</div>"
      ],
      "text/plain": [
       "                RMSE\n",
       "Arima   35459.143887\n",
       "Holt   105403.996689\n",
       "Naive  370127.285382"
      ]
     },
     "execution_count": 136,
     "metadata": {},
     "output_type": "execute_result"
    },
    {
     "data": {
      "image/png": "[encoded data removed]",
      "text/plain": [
       "<Figure size 432x288 with 1 Axes>"
      ]
     },
     "metadata": {
      "needs_background": "light"
     },
     "output_type": "display_data"
    }
   ],
   "source": [
    "movie_calc_auto(fb_movie, 30, True, 0.8, 0.2)"
   ]
  },
  {
   "cell_type": "markdown",
   "metadata": {},
   "source": [
    "## ARIMA(0,2,0) performs best for movies in this cluster. Let's try it with a few movies within the cluster"
   ]
  },
  {
   "cell_type": "code",
   "execution_count": 9,
   "metadata": {},
   "outputs": [],
   "source": [
    "movie_clusters = fb[fb['clusters_3'] == 1]['replace'].unique()"
   ]
  },
  {
   "cell_type": "markdown",
   "metadata": {},
   "source": [
    "__Movie 1: Divergent__"
   ]
  },
  {
   "cell_type": "code",
   "execution_count": 10,
   "metadata": {},
   "outputs": [
    {
     "data": {
      "text/plain": [
       "'Divergent'"
      ]
     },
     "execution_count": 10,
     "metadata": {},
     "output_type": "execute_result"
    }
   ],
   "source": [
    "rand_movie = movie_clusters[0]\n",
    "rand_movie"
   ]
  },
  {
   "cell_type": "code",
   "execution_count": 11,
   "metadata": {},
   "outputs": [
    {
     "data": {
      "text/html": [
       "<div>\n",
       "<style scoped>\n",
       "    .dataframe tbody tr th:only-of-type {\n",
       "        vertical-align: middle;\n",
       "    }\n",
       "\n",
       "    .dataframe tbody tr th {\n",
       "        vertical-align: top;\n",
       "    }\n",
       "\n",
       "    .dataframe thead th {\n",
       "        text-align: right;\n",
       "    }\n",
       "</style>\n",
       "<table border=\"1\" class=\"dataframe\">\n",
       "  <thead>\n",
       "    <tr style=\"text-align: right;\">\n",
       "      <th></th>\n",
       "      <th>RMSE</th>\n",
       "    </tr>\n",
       "  </thead>\n",
       "  <tbody>\n",
       "    <tr>\n",
       "      <th>Naive</th>\n",
       "      <td>1.034137e+06</td>\n",
       "    </tr>\n",
       "    <tr>\n",
       "      <th>Arima</th>\n",
       "      <td>2.509123e+06</td>\n",
       "    </tr>\n",
       "    <tr>\n",
       "      <th>Holt</th>\n",
       "      <td>1.904367e+07</td>\n",
       "    </tr>\n",
       "  </tbody>\n",
       "</table>\n",
       "</div>"
      ],
      "text/plain": [
       "               RMSE\n",
       "Naive  1.034137e+06\n",
       "Arima  2.509123e+06\n",
       "Holt   1.904367e+07"
      ]
     },
     "execution_count": 11,
     "metadata": {},
     "output_type": "execute_result"
    },
    {
     "data": {
      "image/png": "[encoded data removed]",
      "text/plain": [
       "<Figure size 432x288 with 1 Axes>"
      ]
     },
     "metadata": {
      "needs_background": "light"
     },
     "output_type": "display_data"
    }
   ],
   "source": [
    "select = movie_select(rand_movie, fb, 'total_post_interactions')\n",
    "movie_calc_manual(select, 90, True, 0.8, 0.2, 0, 2, 0)"
   ]
  },
  {
   "cell_type": "markdown",
   "metadata": {},
   "source": [
    "__Movie 2: Pixels__"
   ]
  },
  {
   "cell_type": "code",
   "execution_count": 12,
   "metadata": {},
   "outputs": [
    {
     "data": {
      "text/plain": [
       "'Pixels'"
      ]
     },
     "execution_count": 12,
     "metadata": {},
     "output_type": "execute_result"
    }
   ],
   "source": [
    "rand_movie = movie_clusters[1]\n",
    "rand_movie"
   ]
  },
  {
   "cell_type": "code",
   "execution_count": 13,
   "metadata": {},
   "outputs": [
    {
     "data": {
      "text/html": [
       "<div>\n",
       "<style scoped>\n",
       "    .dataframe tbody tr th:only-of-type {\n",
       "        vertical-align: middle;\n",
       "    }\n",
       "\n",
       "    .dataframe tbody tr th {\n",
       "        vertical-align: top;\n",
       "    }\n",
       "\n",
       "    .dataframe thead th {\n",
       "        text-align: right;\n",
       "    }\n",
       "</style>\n",
       "<table border=\"1\" class=\"dataframe\">\n",
       "  <thead>\n",
       "    <tr style=\"text-align: right;\">\n",
       "      <th></th>\n",
       "      <th>RMSE</th>\n",
       "    </tr>\n",
       "  </thead>\n",
       "  <tbody>\n",
       "    <tr>\n",
       "      <th>Arima</th>\n",
       "      <td>29421.872723</td>\n",
       "    </tr>\n",
       "    <tr>\n",
       "      <th>Holt</th>\n",
       "      <td>148014.538122</td>\n",
       "    </tr>\n",
       "    <tr>\n",
       "      <th>Naive</th>\n",
       "      <td>235542.006557</td>\n",
       "    </tr>\n",
       "  </tbody>\n",
       "</table>\n",
       "</div>"
      ],
      "text/plain": [
       "                RMSE\n",
       "Arima   29421.872723\n",
       "Holt   148014.538122\n",
       "Naive  235542.006557"
      ]
     },
     "execution_count": 13,
     "metadata": {},
     "output_type": "execute_result"
    },
    {
     "data": {
      "image/png": "[encoded data removed]",
      "text/plain": [
       "<Figure size 432x288 with 1 Axes>"
      ]
     },
     "metadata": {
      "needs_background": "light"
     },
     "output_type": "display_data"
    }
   ],
   "source": [
    "select = movie_select(rand_movie, fb, 'total_post_interactions')\n",
    "movie_calc_manual(select, 90, True, 0.8, 0.2, 0, 2, 0)"
   ]
  },
  {
   "cell_type": "markdown",
   "metadata": {},
   "source": [
    "__Movie 3: The Hunger Games__"
   ]
  },
  {
   "cell_type": "code",
   "execution_count": 142,
   "metadata": {},
   "outputs": [
    {
     "data": {
      "text/plain": [
       "'The Hunger Games'"
      ]
     },
     "execution_count": 142,
     "metadata": {},
     "output_type": "execute_result"
    }
   ],
   "source": [
    "rand_movie = movie_clusters[2]\n",
    "rand_movie"
   ]
  },
  {
   "cell_type": "code",
   "execution_count": 144,
   "metadata": {},
   "outputs": [
    {
     "data": {
      "text/html": [
       "<div>\n",
       "<style scoped>\n",
       "    .dataframe tbody tr th:only-of-type {\n",
       "        vertical-align: middle;\n",
       "    }\n",
       "\n",
       "    .dataframe tbody tr th {\n",
       "        vertical-align: top;\n",
       "    }\n",
       "\n",
       "    .dataframe thead th {\n",
       "        text-align: right;\n",
       "    }\n",
       "</style>\n",
       "<table border=\"1\" class=\"dataframe\">\n",
       "  <thead>\n",
       "    <tr style=\"text-align: right;\">\n",
       "      <th></th>\n",
       "      <th>RMSE</th>\n",
       "    </tr>\n",
       "  </thead>\n",
       "  <tbody>\n",
       "    <tr>\n",
       "      <th>Holt</th>\n",
       "      <td>275378.653145</td>\n",
       "    </tr>\n",
       "    <tr>\n",
       "      <th>Arima</th>\n",
       "      <td>481885.790740</td>\n",
       "    </tr>\n",
       "    <tr>\n",
       "      <th>Naive</th>\n",
       "      <td>752400.499692</td>\n",
       "    </tr>\n",
       "  </tbody>\n",
       "</table>\n",
       "</div>"
      ],
      "text/plain": [
       "                RMSE\n",
       "Holt   275378.653145\n",
       "Arima  481885.790740\n",
       "Naive  752400.499692"
      ]
     },
     "execution_count": 144,
     "metadata": {},
     "output_type": "execute_result"
    },
    {
     "data": {
      "image/png": "[encoded data removed]",
      "text/plain": [
       "<Figure size 432x288 with 1 Axes>"
      ]
     },
     "metadata": {
      "needs_background": "light"
     },
     "output_type": "display_data"
    }
   ],
   "source": [
    "select = movie_select(rand_movie, fb, 'total_post_interactions')\n",
    "movie_calc_manual(select, 90, True, 0.8, 0.2, 2, 0, 2)"
   ]
  },
  {
   "cell_type": "markdown",
   "metadata": {},
   "source": [
    "__Movie 4: Big Hero 6__"
   ]
  },
  {
   "cell_type": "code",
   "execution_count": 145,
   "metadata": {},
   "outputs": [
    {
     "data": {
      "text/plain": [
       "'Big Hero 6'"
      ]
     },
     "execution_count": 145,
     "metadata": {},
     "output_type": "execute_result"
    }
   ],
   "source": [
    "rand_movie = movie_clusters[4]\n",
    "rand_movie"
   ]
  },
  {
   "cell_type": "code",
   "execution_count": 146,
   "metadata": {},
   "outputs": [
    {
     "data": {
      "text/html": [
       "<div>\n",
       "<style scoped>\n",
       "    .dataframe tbody tr th:only-of-type {\n",
       "        vertical-align: middle;\n",
       "    }\n",
       "\n",
       "    .dataframe tbody tr th {\n",
       "        vertical-align: top;\n",
       "    }\n",
       "\n",
       "    .dataframe thead th {\n",
       "        text-align: right;\n",
       "    }\n",
       "</style>\n",
       "<table border=\"1\" class=\"dataframe\">\n",
       "  <thead>\n",
       "    <tr style=\"text-align: right;\">\n",
       "      <th></th>\n",
       "      <th>RMSE</th>\n",
       "    </tr>\n",
       "  </thead>\n",
       "  <tbody>\n",
       "    <tr>\n",
       "      <th>Holt</th>\n",
       "      <td>83594.375541</td>\n",
       "    </tr>\n",
       "    <tr>\n",
       "      <th>Arima</th>\n",
       "      <td>183280.857017</td>\n",
       "    </tr>\n",
       "    <tr>\n",
       "      <th>Naive</th>\n",
       "      <td>282749.913933</td>\n",
       "    </tr>\n",
       "  </tbody>\n",
       "</table>\n",
       "</div>"
      ],
      "text/plain": [
       "                RMSE\n",
       "Holt    83594.375541\n",
       "Arima  183280.857017\n",
       "Naive  282749.913933"
      ]
     },
     "execution_count": 146,
     "metadata": {},
     "output_type": "execute_result"
    },
    {
     "data": {
      "image/png": "[encoded data removed]",
      "text/plain": [
       "<Figure size 432x288 with 1 Axes>"
      ]
     },
     "metadata": {
      "needs_background": "light"
     },
     "output_type": "display_data"
    }
   ],
   "source": [
    "select = movie_select(rand_movie, fb, 'total_post_interactions')\n",
    "movie_calc_manual(select, 90, True, 0.8, 0.2, 2, 0, 2)"
   ]
  },
  {
   "cell_type": "markdown",
   "metadata": {},
   "source": [
    "__Movie 5: Captain America__"
   ]
  },
  {
   "cell_type": "code",
   "execution_count": 147,
   "metadata": {},
   "outputs": [
    {
     "data": {
      "text/plain": [
       "'Captain America: The Winter Soldier'"
      ]
     },
     "execution_count": 147,
     "metadata": {},
     "output_type": "execute_result"
    }
   ],
   "source": [
    "rand_movie = movie_clusters[8]\n",
    "rand_movie"
   ]
  },
  {
   "cell_type": "code",
   "execution_count": 149,
   "metadata": {},
   "outputs": [
    {
     "data": {
      "text/html": [
       "<div>\n",
       "<style scoped>\n",
       "    .dataframe tbody tr th:only-of-type {\n",
       "        vertical-align: middle;\n",
       "    }\n",
       "\n",
       "    .dataframe tbody tr th {\n",
       "        vertical-align: top;\n",
       "    }\n",
       "\n",
       "    .dataframe thead th {\n",
       "        text-align: right;\n",
       "    }\n",
       "</style>\n",
       "<table border=\"1\" class=\"dataframe\">\n",
       "  <thead>\n",
       "    <tr style=\"text-align: right;\">\n",
       "      <th></th>\n",
       "      <th>RMSE</th>\n",
       "    </tr>\n",
       "  </thead>\n",
       "  <tbody>\n",
       "    <tr>\n",
       "      <th>Arima</th>\n",
       "      <td>1.300004e+06</td>\n",
       "    </tr>\n",
       "    <tr>\n",
       "      <th>Naive</th>\n",
       "      <td>1.878171e+06</td>\n",
       "    </tr>\n",
       "    <tr>\n",
       "      <th>Holt</th>\n",
       "      <td>2.415270e+06</td>\n",
       "    </tr>\n",
       "  </tbody>\n",
       "</table>\n",
       "</div>"
      ],
      "text/plain": [
       "               RMSE\n",
       "Arima  1.300004e+06\n",
       "Naive  1.878171e+06\n",
       "Holt   2.415270e+06"
      ]
     },
     "execution_count": 149,
     "metadata": {},
     "output_type": "execute_result"
    },
    {
     "data": {
      "image/png": "[encoded data removed]",
      "text/plain": [
       "<Figure size 432x288 with 1 Axes>"
      ]
     },
     "metadata": {
      "needs_background": "light"
     },
     "output_type": "display_data"
    }
   ],
   "source": [
    "select = movie_select(rand_movie, fb, 'total_post_interactions')\n",
    "movie_calc_manual(select, 90, True, 0.8, 0.2, 2, 0, 2)"
   ]
  },
  {
   "cell_type": "markdown",
   "metadata": {},
   "source": [
    "__Movie 6: Avenger: Endgame__"
   ]
  },
  {
   "cell_type": "code",
   "execution_count": 152,
   "metadata": {},
   "outputs": [
    {
     "data": {
      "text/plain": [
       "'Avengers: Endgame'"
      ]
     },
     "execution_count": 152,
     "metadata": {},
     "output_type": "execute_result"
    }
   ],
   "source": [
    "rand_movie = movie_clusters[-2]\n",
    "rand_movie"
   ]
  },
  {
   "cell_type": "code",
   "execution_count": 153,
   "metadata": {},
   "outputs": [
    {
     "data": {
      "text/html": [
       "<div>\n",
       "<style scoped>\n",
       "    .dataframe tbody tr th:only-of-type {\n",
       "        vertical-align: middle;\n",
       "    }\n",
       "\n",
       "    .dataframe tbody tr th {\n",
       "        vertical-align: top;\n",
       "    }\n",
       "\n",
       "    .dataframe thead th {\n",
       "        text-align: right;\n",
       "    }\n",
       "</style>\n",
       "<table border=\"1\" class=\"dataframe\">\n",
       "  <thead>\n",
       "    <tr style=\"text-align: right;\">\n",
       "      <th></th>\n",
       "      <th>RMSE</th>\n",
       "    </tr>\n",
       "  </thead>\n",
       "  <tbody>\n",
       "    <tr>\n",
       "      <th>Arima</th>\n",
       "      <td>9.298909e+05</td>\n",
       "    </tr>\n",
       "    <tr>\n",
       "      <th>Holt</th>\n",
       "      <td>1.206684e+06</td>\n",
       "    </tr>\n",
       "    <tr>\n",
       "      <th>Naive</th>\n",
       "      <td>1.359694e+06</td>\n",
       "    </tr>\n",
       "  </tbody>\n",
       "</table>\n",
       "</div>"
      ],
      "text/plain": [
       "               RMSE\n",
       "Arima  9.298909e+05\n",
       "Holt   1.206684e+06\n",
       "Naive  1.359694e+06"
      ]
     },
     "execution_count": 153,
     "metadata": {},
     "output_type": "execute_result"
    },
    {
     "data": {
      "image/png": "[encoded data removed]",
      "text/plain": [
       "<Figure size 432x288 with 1 Axes>"
      ]
     },
     "metadata": {
      "needs_background": "light"
     },
     "output_type": "display_data"
    }
   ],
   "source": [
    "select = movie_select(rand_movie, fb, 'total_post_interactions')\n",
    "movie_calc_manual(select, 90, True, 0.8, 0.2, 2, 0, 2)"
   ]
  },
  {
   "cell_type": "code",
   "execution_count": 154,
   "metadata": {},
   "outputs": [
    {
     "data": {
      "text/html": [
       "<div>\n",
       "<style scoped>\n",
       "    .dataframe tbody tr th:only-of-type {\n",
       "        vertical-align: middle;\n",
       "    }\n",
       "\n",
       "    .dataframe tbody tr th {\n",
       "        vertical-align: top;\n",
       "    }\n",
       "\n",
       "    .dataframe thead th {\n",
       "        text-align: right;\n",
       "    }\n",
       "</style>\n",
       "<table border=\"1\" class=\"dataframe\">\n",
       "  <thead>\n",
       "    <tr style=\"text-align: right;\">\n",
       "      <th></th>\n",
       "      <th>RMSE</th>\n",
       "    </tr>\n",
       "  </thead>\n",
       "  <tbody>\n",
       "    <tr>\n",
       "      <th>Holt</th>\n",
       "      <td>659427.422077</td>\n",
       "    </tr>\n",
       "    <tr>\n",
       "      <th>Arima</th>\n",
       "      <td>712635.323309</td>\n",
       "    </tr>\n",
       "    <tr>\n",
       "      <th>Naive</th>\n",
       "      <td>883659.734507</td>\n",
       "    </tr>\n",
       "  </tbody>\n",
       "</table>\n",
       "</div>"
      ],
      "text/plain": [
       "                RMSE\n",
       "Holt   659427.422077\n",
       "Arima  712635.323309\n",
       "Naive  883659.734507"
      ]
     },
     "execution_count": 154,
     "metadata": {},
     "output_type": "execute_result"
    },
    {
     "data": {
      "image/png": "[encoded data removed]",
      "text/plain": [
       "<Figure size 432x288 with 1 Axes>"
      ]
     },
     "metadata": {
      "needs_background": "light"
     },
     "output_type": "display_data"
    }
   ],
   "source": [
    "rand_movie = movie_clusters[-5]\n",
    "select = movie_select(rand_movie, fb, 'total_post_interactions')\n",
    "movie_calc_manual(select, 90, True, 0.8, 0.2, 2, 0, 2)"
   ]
  },
  {
   "cell_type": "code",
   "execution_count": null,
   "metadata": {},
   "outputs": [],
   "source": []
  }
 ],
 "metadata": {
  "kernelspec": {
   "display_name": "Python 3",
   "language": "python",
   "name": "python3"
  },
  "language_info": {
   "codemirror_mode": {
    "name": "ipython",
    "version": 3
   },
   "file_extension": ".py",
   "mimetype": "text/x-python",
   "name": "python",
   "nbconvert_exporter": "python",
   "pygments_lexer": "ipython3",
   "version": "3.6.9"
  }
 },
 "nbformat": 4,
 "nbformat_minor": 4
}
