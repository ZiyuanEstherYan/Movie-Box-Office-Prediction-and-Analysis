{
 "cells": [
  {
   "cell_type": "code",
   "execution_count": 1,
   "metadata": {},
   "outputs": [],
   "source": [
    "#pip install pyramid.arima\n",
    "\n",
    "import pandas as pd\n",
    "import numpy as np\n",
    "import matplotlib.pyplot as plt \n",
    "from datetime import timedelta\n",
    "from sklearn.metrics import mean_squared_error as mse\n",
    "from math import sqrt\n",
    "from statsmodels.tsa.holtwinters import Holt\n",
    "from pmdarima.arima import auto_arima\n",
    "from statsmodels.tsa.arima_model import ARIMA"
   ]
  },
  {
   "cell_type": "markdown",
   "metadata": {},
   "source": [
    "### Helper functions"
   ]
  },
  {
   "cell_type": "code",
   "execution_count": 2,
   "metadata": {},
   "outputs": [],
   "source": [
    "# Own Function\n",
    "def cluster_select(df, col, cluster, attribute):\n",
    "    df = df[df[col] == cluster]\n",
    "    df = pd.DataFrame(df.groupby('days')[attribute].mean())\n",
    "    return(df)\n",
    "\n",
    "\n",
    "def movie_select(movie_name, df, attribute):\n",
    "    movie_name = movie_name\n",
    "    movies = df[df['replace'] == movie_name]\n",
    "    movies.index = movies['days']\n",
    "    movie = movies[[attribute]]\n",
    "    return(movie)"
   ]
  },
  {
   "cell_type": "code",
   "execution_count": 3,
   "metadata": {},
   "outputs": [],
   "source": [
    "def movie_calc_auto(df, days, exponential, smoothing_level, smoothing_slope):\n",
    "    days = days\n",
    "    test = df[365 - days:]\n",
    "    train = df[:365 - days]\n",
    "    train = train.dropna()\n",
    "    \n",
    "    # Naive\n",
    "    dd = np.asarray(train)\n",
    "    dd = np.repeat(dd[-1], len(test))\n",
    "    y_hat = test.copy()\n",
    "    y_hat['naive'] = dd[len(dd)-1]\n",
    "\n",
    "    # Holt\n",
    "    fit1 = Holt(np.asarray(train), exponential = exponential).fit(smoothing_level = smoothing_level, smoothing_slope = smoothing_slope)\n",
    "    y_hat['holt'] = fit1.forecast(len(test))\n",
    "\n",
    "    # Arima\n",
    "    model = auto_arima(np.asarray(train), error_action='ignore', suppress_warnings=True)\n",
    "    model.fit(train)\n",
    "\n",
    "    forecast = model.predict(n_periods=len(test))\n",
    "    y_hat['arima'] = forecast\n",
    "    print(model)\n",
    "    \n",
    "    \n",
    "    # Plot\n",
    "    plt.plot(train, label = 'Train')\n",
    "    plt.plot(test, label = 'Test')\n",
    "    plt.plot(y_hat['arima'], label = 'Arima')\n",
    "    plt.plot(y_hat['holt'], label = 'Holt')\n",
    "    plt.plot(y_hat['naive'], label = 'Naive')\n",
    "    plt.legend()\n",
    "    plt.show\n",
    "\n",
    "    rms_holt = sqrt(mse(test, y_hat['holt']))\n",
    "    rms_arima = sqrt(mse(test, y_hat['arima']))\n",
    "    rms_naive = sqrt(mse(test, y_hat['naive']))\n",
    "    x = pd.DataFrame(np.array([rms_holt, rms_arima, rms_naive]), index = ['Holt', 'Arima', 'Naive'], columns = ['RMSE'])\n",
    "    x = x.sort_values(by=['RMSE'])\n",
    "    \n",
    "    return(x)\n",
    "\n",
    "\n",
    "def movie_calc_manual(df, days, exponential, smoothing_level, smoothing_slope, p, d, q):\n",
    "    days = days\n",
    "    test = df[365 - days:]\n",
    "    train = df[:365 - days]\n",
    "    train = train.dropna()\n",
    "    \n",
    "    # Naive\n",
    "    dd = np.asarray(train)\n",
    "    dd = np.repeat(dd[-1], len(test))\n",
    "    y_hat = test.copy()\n",
    "    y_hat['naive'] = dd[len(dd)-1]\n",
    "\n",
    "    # Holt\n",
    "    fit1 = Holt(np.asarray(train), exponential = exponential).fit(smoothing_level = smoothing_level, smoothing_slope = smoothing_slope)\n",
    "    y_hat['holt'] = fit1.forecast(len(test))\n",
    "\n",
    "    # Arima\n",
    "    model = auto_arima(np.asarray(train), order = (p,d,q), error_action='ignore', suppress_warnings=True)\n",
    "    model.fit(train)\n",
    "\n",
    "    forecast = model.predict(n_periods=len(test))\n",
    "    y_hat['arima'] = forecast\n",
    "    \n",
    "    \n",
    "    # Plot\n",
    "    plt.plot(train, label = 'Train')\n",
    "    plt.plot(test, label = 'Test')\n",
    "    plt.plot(y_hat['arima'], label = 'Arima')\n",
    "    plt.plot(y_hat['holt'], label = 'Holt')\n",
    "    plt.plot(y_hat['naive'], label = 'Naive')\n",
    "    plt.legend()\n",
    "    plt.show\n",
    "\n",
    "    rms_holt = sqrt(mse(test, y_hat['holt']))\n",
    "    rms_arima = sqrt(mse(test, y_hat['arima']))\n",
    "    rms_naive = sqrt(mse(test, y_hat['naive']))\n",
    "    x = pd.DataFrame(np.array([rms_holt, rms_arima, rms_naive]), index = ['Holt', 'Arima', 'Naive'], columns = ['RMSE'])\n",
    "    x = x.sort_values(by=['RMSE'])\n",
    "    \n",
    "    return(x)"
   ]
  },
  {
   "cell_type": "code",
   "execution_count": 4,
   "metadata": {},
   "outputs": [],
   "source": [
    "def movie_calc_manual_loop(df, days, exponential, smoothing_level, smoothing_slope, p, d, q):\n",
    "    days = days\n",
    "    test = df[365 - days:]\n",
    "    train = df[:365 - days]\n",
    "    train = train.dropna()\n",
    "    \n",
    "    # Naive\n",
    "    dd = np.asarray(train)\n",
    "    dd = np.repeat(dd[-1], len(test))\n",
    "    y_hat = test.copy()\n",
    "    y_hat['naive'] = dd[len(dd)-1]\n",
    "\n",
    "    # Holt\n",
    "    fit1 = Holt(np.asarray(train), exponential = exponential).fit(smoothing_level = smoothing_level, smoothing_slope = smoothing_slope)\n",
    "    y_hat['holt'] = fit1.forecast(len(test))\n",
    "\n",
    "    # Arima\n",
    "    model = auto_arima(np.asarray(train), order = (p,d,q), error_action='ignore', suppress_warnings=True)\n",
    "    model.fit(train)\n",
    "\n",
    "    forecast = model.predict(n_periods=len(test))\n",
    "    y_hat['arima'] = forecast\n",
    "    \n",
    "\n",
    "    rms_holt = sqrt(mse(test, y_hat['holt']))\n",
    "    rms_arima = sqrt(mse(test, y_hat['arima']))\n",
    "    rms_naive = sqrt(mse(test, y_hat['naive']))\n",
    "    x = pd.DataFrame(np.array([rms_holt, rms_arima, rms_naive]), index = ['Holt', 'Arima', 'Naive'], columns = ['RMSE'])\n",
    "    \n",
    "    return(x)"
   ]
  },
  {
   "cell_type": "markdown",
   "metadata": {},
   "source": [
    "### 1. Load Data & Preprocessing"
   ]
  },
  {
   "cell_type": "code",
   "execution_count": 5,
   "metadata": {},
   "outputs": [],
   "source": [
    "cluster = pd.read_csv('cluster_interaction.csv')\n",
    "brand = pd.read_csv('../data_concat/movies.csv') \n",
    "brand = pd.merge(brand, cluster, left_on='replace', right_on='replace', how = 'right')"
   ]
  },
  {
   "cell_type": "code",
   "execution_count": 6,
   "metadata": {},
   "outputs": [],
   "source": [
    "fb_1k = pd.read_table('../data/view_brand_rollup_facebook_1k-10k.tsv')\n",
    "fb_10k = pd.read_table('../data/view_brand_rollup_facebook_10kplus.tsv')\n",
    "fb = pd.concat([fb_1k, fb_10k])\n",
    "fb = pd.merge(fb, brand, left_on = 'movie_id', right_on = 'brand_ods_id', how = 'left')\n",
    "\n",
    "insta_1k = pd.read_table('../data/view_brand_rollup_instagram_1k-10k.tsv')\n",
    "insta_10k = pd.read_table('../data/view_brand_rollup_instagram_10kplus.tsv')\n",
    "insta = pd.concat([insta_1k, insta_10k])\n",
    "insta = pd.merge(insta, brand, left_on = 'movie_id', right_on = 'brand_ods_id', how = 'left')\n",
    "\n",
    "twit_1k = pd.read_table('../data/view_brand_rollup_twitter_1k-10k.tsv')\n",
    "twit_10k = pd.read_table('../data/view_brand_rollup_twitter_10kplus.tsv')\n",
    "twit = pd.concat([twit_1k, twit_10k])\n",
    "twit = pd.merge(twit, brand, left_on = 'movie_id', right_on = 'brand_ods_id', how = 'left')"
   ]
  },
  {
   "cell_type": "code",
   "execution_count": 7,
   "metadata": {},
   "outputs": [],
   "source": [
    "fb['data_for']= pd.to_datetime(fb['data_for']) \n",
    "fb['released_on'] = pd.to_datetime(fb['released_on'])\n",
    "fb['days_after_release'] = fb['data_for'] - fb['released_on'] \n",
    "fb = fb[(fb['days_after_release'] <= '0 days') & (fb['days_after_release'] >= '-365 days')]\n",
    "fb['days'] = fb['days_after_release'] + timedelta(days=365)\n",
    "\n",
    "insta['data_for']= pd.to_datetime(insta['data_for']) \n",
    "insta['released_on'] = pd.to_datetime(insta['released_on'])\n",
    "insta['days_after_release'] = insta['data_for'] - insta['released_on'] \n",
    "insta = insta[(insta['days_after_release'] <= '0 days') & (insta['days_after_release'] >= '-365 days')]\n",
    "insta['days'] = insta['days_after_release'] + timedelta(days=365)\n",
    "\n",
    "twit['data_for']= pd.to_datetime(twit['data_for']) \n",
    "twit['released_on'] = pd.to_datetime(twit['released_on'])\n",
    "twit['days_after_release'] = twit['data_for'] - twit['released_on'] \n",
    "twit = twit[(twit['days_after_release'] <= '0 days') & (twit['days_after_release'] >= '-365 days')]\n",
    "twit['days'] = twit['days_after_release'] + timedelta(days=365)"
   ]
  },
  {
   "cell_type": "markdown",
   "metadata": {},
   "source": [
    "### 2. Selecting Movie / Cluster and Data Column for Prediction"
   ]
  },
  {
   "cell_type": "markdown",
   "metadata": {},
   "source": [
    "### Cluster 0"
   ]
  },
  {
   "cell_type": "code",
   "execution_count": 8,
   "metadata": {},
   "outputs": [],
   "source": [
    "fb_movie = cluster_select(fb, 'cluster_id_5', 0, 'total_post_interactions')"
   ]
  },
  {
   "cell_type": "code",
   "execution_count": 34,
   "metadata": {},
   "outputs": [
    {
     "data": {
      "text/plain": [
       "<function matplotlib.pyplot.show(*args, **kw)>"
      ]
     },
     "execution_count": 34,
     "metadata": {},
     "output_type": "execute_result"
    },
    {
     "data": {
      "image/png": "[encoded data removed]",
      "text/plain": [
       "<Figure size 720x432 with 1 Axes>"
      ]
     },
     "metadata": {
      "needs_background": "light"
     },
     "output_type": "display_data"
    }
   ],
   "source": [
    "df = pd.read_csv('cluster_interaction.csv', index_col = 'replace')\n",
    "cluster0 = df[df['cluster_id_5'] == 0]\n",
    "cluster0.T.plot(figsize=(10,6), legend=False)\n",
    "plt.plot(fb_movie, ls = '-.')\n",
    "plt.show"
   ]
  },
  {
   "cell_type": "code",
   "execution_count": 32,
   "metadata": {},
   "outputs": [],
   "source": [
    "fb_movie = cluster_select(fb, 'cluster_id_5', 0, 'total_post_interactions')"
   ]
  },
  {
   "cell_type": "code",
   "execution_count": null,
   "metadata": {},
   "outputs": [],
   "source": []
  },
  {
   "cell_type": "markdown",
   "metadata": {},
   "source": [
    "### 3. Split train/test"
   ]
  },
  {
   "cell_type": "code",
   "execution_count": 10,
   "metadata": {},
   "outputs": [
    {
     "data": {
      "text/plain": [
       "<function matplotlib.pyplot.show(*args, **kw)>"
      ]
     },
     "execution_count": 10,
     "metadata": {},
     "output_type": "execute_result"
    },
    {
     "data": {
      "image/png": "[encoded data removed]",
      "text/plain": [
       "<Figure size 432x288 with 1 Axes>"
      ]
     },
     "metadata": {
      "needs_background": "light"
     },
     "output_type": "display_data"
    }
   ],
   "source": [
    "plt.plot(fb_movie)\n",
    "plt.show"
   ]
  },
  {
   "cell_type": "markdown",
   "metadata": {},
   "source": [
    "Looking at the plot, 150 days out might give wildly inaccurate forecasts because of the exponential trend appearing much later. At day 250 (~100 days out would be a benchmark) as it would give producers insights on how the trend would look like 3 months out. If it is not desirable, producers can therefore try to change metrics. \n",
    "\n",
    "We will try:\n",
    "\n",
    "__90 days (3 months)__\n",
    "\n",
    "__60 days (2 months)__ \n",
    "\n",
    "__30 days (1 month)__"
   ]
  },
  {
   "cell_type": "code",
   "execution_count": 11,
   "metadata": {},
   "outputs": [],
   "source": [
    "days = 90\n",
    "test = fb_movie[365 - days:]\n",
    "train = fb_movie[:365 - days]"
   ]
  },
  {
   "cell_type": "code",
   "execution_count": 12,
   "metadata": {},
   "outputs": [
    {
     "data": {
      "text/plain": [
       "<function matplotlib.pyplot.show(*args, **kw)>"
      ]
     },
     "execution_count": 12,
     "metadata": {},
     "output_type": "execute_result"
    },
    {
     "data": {
      "image/png": "[encoded data removed]",
      "text/plain": [
       "<Figure size 432x288 with 1 Axes>"
      ]
     },
     "metadata": {
      "needs_background": "light"
     },
     "output_type": "display_data"
    }
   ],
   "source": [
    "plt.figure()\n",
    "plt.plot(train, label = 'Train')\n",
    "plt.plot(test, label = 'Test')\n",
    "plt.legend(loc='best')\n",
    "plt.show"
   ]
  },
  {
   "cell_type": "markdown",
   "metadata": {},
   "source": [
    "### 4. Train Models\n",
    "\n",
    "We will use different models:\n",
    "\n",
    "a. Naive (basic model to compare against)\n",
    "\n",
    "b. Holt's Linear (we will not use holt winters because data does not have seasonal trend)\n",
    "\n",
    "d. ARIMA "
   ]
  },
  {
   "cell_type": "markdown",
   "metadata": {},
   "source": [
    "### 90 Days"
   ]
  },
  {
   "cell_type": "markdown",
   "metadata": {},
   "source": [
    "#### a. Naive "
   ]
  },
  {
   "cell_type": "code",
   "execution_count": 13,
   "metadata": {},
   "outputs": [],
   "source": [
    "dd = np.asarray(train)\n",
    "dd = np.repeat(dd[-1], len(test))\n",
    "y_hat = test.copy()\n",
    "y_hat['naive'] = dd[len(dd)-1]"
   ]
  },
  {
   "cell_type": "code",
   "execution_count": 14,
   "metadata": {},
   "outputs": [
    {
     "name": "stdout",
     "output_type": "stream",
     "text": [
      "RMSE is:  221202.11\n"
     ]
    },
    {
     "data": {
      "image/png": "[encoded data removed]",
      "text/plain": [
       "<Figure size 432x288 with 1 Axes>"
      ]
     },
     "metadata": {
      "needs_background": "light"
     },
     "output_type": "display_data"
    }
   ],
   "source": [
    "plt.plot(train, label = 'Train')\n",
    "plt.plot(test, label = 'Test')\n",
    "plt.plot(y_hat['naive'], label = 'Naive')\n",
    "plt.legend()\n",
    "plt.show\n",
    "\n",
    "rms_naive = sqrt(mse(test, y_hat.naive))\n",
    "print('RMSE is: ', round(rms_naive,2))"
   ]
  },
  {
   "cell_type": "markdown",
   "metadata": {},
   "source": [
    "#### b. Holt's Linear\n",
    "As we see an increasing exponential trend, we will use set exponential parameter as True and tune smoothing_level and smoothing_slope. (To be done later)"
   ]
  },
  {
   "cell_type": "code",
   "execution_count": 15,
   "metadata": {},
   "outputs": [],
   "source": [
    "exponential = False\n",
    "smoothing_level = np.arange(0, 1, 0.1)\n",
    "smoothing_slope = np.arange(0, 1, 0.1)"
   ]
  },
  {
   "cell_type": "code",
   "execution_count": 16,
   "metadata": {},
   "outputs": [
    {
     "name": "stderr",
     "output_type": "stream",
     "text": [
      "/usr/local/lib/python3.6/dist-packages/statsmodels/tsa/holtwinters.py:712: ConvergenceWarning: Optimization failed to converge. Check mle_retvals.\n",
      "  ConvergenceWarning)\n",
      "/usr/local/lib/python3.6/dist-packages/statsmodels/tsa/holtwinters.py:712: ConvergenceWarning: Optimization failed to converge. Check mle_retvals.\n",
      "  ConvergenceWarning)\n",
      "/usr/local/lib/python3.6/dist-packages/statsmodels/tsa/holtwinters.py:712: ConvergenceWarning: Optimization failed to converge. Check mle_retvals.\n",
      "  ConvergenceWarning)\n",
      "/usr/local/lib/python3.6/dist-packages/statsmodels/tsa/holtwinters.py:712: ConvergenceWarning: Optimization failed to converge. Check mle_retvals.\n",
      "  ConvergenceWarning)\n",
      "/usr/local/lib/python3.6/dist-packages/statsmodels/tsa/holtwinters.py:712: ConvergenceWarning: Optimization failed to converge. Check mle_retvals.\n",
      "  ConvergenceWarning)\n"
     ]
    },
    {
     "data": {
      "text/html": [
       "<div>\n",
       "<style scoped>\n",
       "    .dataframe tbody tr th:only-of-type {\n",
       "        vertical-align: middle;\n",
       "    }\n",
       "\n",
       "    .dataframe tbody tr th {\n",
       "        vertical-align: top;\n",
       "    }\n",
       "\n",
       "    .dataframe thead th {\n",
       "        text-align: right;\n",
       "    }\n",
       "</style>\n",
       "<table border=\"1\" class=\"dataframe\">\n",
       "  <thead>\n",
       "    <tr style=\"text-align: right;\">\n",
       "      <th></th>\n",
       "      <th>level</th>\n",
       "      <th>slope</th>\n",
       "      <th>rmse</th>\n",
       "    </tr>\n",
       "  </thead>\n",
       "  <tbody>\n",
       "    <tr>\n",
       "      <th>23</th>\n",
       "      <td>0.2</td>\n",
       "      <td>0.3</td>\n",
       "      <td>64878.554803</td>\n",
       "    </tr>\n",
       "    <tr>\n",
       "      <th>22</th>\n",
       "      <td>0.2</td>\n",
       "      <td>0.2</td>\n",
       "      <td>65633.554999</td>\n",
       "    </tr>\n",
       "    <tr>\n",
       "      <th>21</th>\n",
       "      <td>0.2</td>\n",
       "      <td>0.1</td>\n",
       "      <td>66645.218845</td>\n",
       "    </tr>\n",
       "    <tr>\n",
       "      <th>31</th>\n",
       "      <td>0.3</td>\n",
       "      <td>0.1</td>\n",
       "      <td>66982.093256</td>\n",
       "    </tr>\n",
       "    <tr>\n",
       "      <th>11</th>\n",
       "      <td>0.1</td>\n",
       "      <td>0.1</td>\n",
       "      <td>67115.844473</td>\n",
       "    </tr>\n",
       "  </tbody>\n",
       "</table>\n",
       "</div>"
      ],
      "text/plain": [
       "    level  slope          rmse\n",
       "23    0.2    0.3  64878.554803\n",
       "22    0.2    0.2  65633.554999\n",
       "21    0.2    0.1  66645.218845\n",
       "31    0.3    0.1  66982.093256\n",
       "11    0.1    0.1  67115.844473"
      ]
     },
     "execution_count": 16,
     "metadata": {},
     "output_type": "execute_result"
    }
   ],
   "source": [
    "dat = []\n",
    "for level in smoothing_level:\n",
    "    for slope in smoothing_slope:\n",
    "        y_hat_holt= test.copy()\n",
    "        fit1 = Holt(np.asarray(train), exponential = exponential).fit(smoothing_level = level, smoothing_slope = slope)\n",
    "        y_hat_holt['holt'] = fit1.forecast(len(test))\n",
    "        rms_holt = sqrt(mse(test, y_hat_holt['holt']))\n",
    "        x = [level, slope, rms_holt]\n",
    "        dat.append(x)\n",
    "        \n",
    "dat = pd.DataFrame(dat, columns = ['level', 'slope', 'rmse'])\n",
    "dat.sort_values(['rmse']).head(5)"
   ]
  },
  {
   "cell_type": "code",
   "execution_count": 17,
   "metadata": {},
   "outputs": [],
   "source": [
    "smoothing_level = 0.2\n",
    "smoothing_slope = 0.3\n",
    "\n",
    "y_hat_holt= test.copy()\n",
    "\n",
    "fit1 = Holt(np.asarray(train), exponential = exponential).fit(smoothing_level = smoothing_level, smoothing_slope = smoothing_slope)\n",
    "y_hat_holt['holt'] = fit1.forecast(len(test))"
   ]
  },
  {
   "cell_type": "code",
   "execution_count": 18,
   "metadata": {},
   "outputs": [
    {
     "name": "stdout",
     "output_type": "stream",
     "text": [
      "RMSE is:  64878.55\n"
     ]
    },
    {
     "data": {
      "image/png": "[encoded data removed]",
      "text/plain": [
       "<Figure size 432x288 with 1 Axes>"
      ]
     },
     "metadata": {
      "needs_background": "light"
     },
     "output_type": "display_data"
    }
   ],
   "source": [
    "plt.plot(train, label = 'Train')\n",
    "plt.plot(test, label = 'Test')\n",
    "plt.plot(y_hat_holt['holt'], label = 'Holt')\n",
    "plt.legend()\n",
    "plt.show\n",
    "\n",
    "rms_holt = sqrt(mse(test, y_hat_holt['holt']))\n",
    "print('RMSE is: ', round(rms_holt,2))"
   ]
  },
  {
   "cell_type": "markdown",
   "metadata": {},
   "source": [
    "#### 3. Arima (auto-arima)"
   ]
  },
  {
   "cell_type": "code",
   "execution_count": 19,
   "metadata": {},
   "outputs": [
    {
     "name": "stdout",
     "output_type": "stream",
     "text": [
      "Performing stepwise search to minimize aic\n",
      "Fit ARIMA(2,2,2)x(0,0,0,0) [intercept=True]; AIC=4541.815, BIC=4563.472, Time=0.340 seconds\n",
      "Fit ARIMA(0,2,0)x(0,0,0,0) [intercept=True]; AIC=4532.278, BIC=4539.497, Time=0.014 seconds\n",
      "Fit ARIMA(1,2,0)x(0,0,0,0) [intercept=True]; AIC=4534.598, BIC=4545.427, Time=0.043 seconds\n",
      "Fit ARIMA(0,2,1)x(0,0,0,0) [intercept=True]; AIC=4534.634, BIC=4545.462, Time=0.042 seconds\n",
      "Fit ARIMA(0,2,0)x(0,0,0,0) [intercept=False]; AIC=4530.316, BIC=4533.925, Time=0.008 seconds\n",
      "Fit ARIMA(1,2,1)x(0,0,0,0) [intercept=True]; AIC=4536.719, BIC=4551.157, Time=0.044 seconds\n",
      "Total fit time: 0.501 seconds\n"
     ]
    }
   ],
   "source": [
    "model = auto_arima(np.asarray(train), trace=True, error_action='ignore', suppress_warnings=True)\n",
    "model.fit(train)\n",
    "\n",
    "y_hat_arima = test.copy()\n",
    "forecast = model.predict(n_periods=len(test))\n",
    "y_hat_arima['arima'] = forecast"
   ]
  },
  {
   "cell_type": "code",
   "execution_count": 20,
   "metadata": {},
   "outputs": [
    {
     "name": "stdout",
     "output_type": "stream",
     "text": [
      "RMSE is:  69827.64\n"
     ]
    },
    {
     "data": {
      "image/png": "[encoded data removed]",
      "text/plain": [
       "<Figure size 432x288 with 1 Axes>"
      ]
     },
     "metadata": {
      "needs_background": "light"
     },
     "output_type": "display_data"
    }
   ],
   "source": [
    "plt.plot(train, label = 'Train')\n",
    "plt.plot(test, label = 'Test')\n",
    "plt.plot(y_hat_arima['arima'], label = 'Arima')\n",
    "plt.legend()\n",
    "plt.show\n",
    "\n",
    "rms_arima = sqrt(mse(test, y_hat_arima['arima']))\n",
    "print('RMSE is: ', round(rms_arima,2))"
   ]
  },
  {
   "cell_type": "code",
   "execution_count": 21,
   "metadata": {},
   "outputs": [
    {
     "name": "stdout",
     "output_type": "stream",
     "text": [
      "ARIMA(maxiter=50, method='lbfgs', order=(0, 2, 0), out_of_sample_size=0,\n",
      "      scoring='mse', scoring_args=None, seasonal_order=(0, 0, 0, 0),\n",
      "      start_params=None, suppress_warnings=True, trend=None,\n",
      "      with_intercept=False)\n"
     ]
    },
    {
     "data": {
      "text/html": [
       "<div>\n",
       "<style scoped>\n",
       "    .dataframe tbody tr th:only-of-type {\n",
       "        vertical-align: middle;\n",
       "    }\n",
       "\n",
       "    .dataframe tbody tr th {\n",
       "        vertical-align: top;\n",
       "    }\n",
       "\n",
       "    .dataframe thead th {\n",
       "        text-align: right;\n",
       "    }\n",
       "</style>\n",
       "<table border=\"1\" class=\"dataframe\">\n",
       "  <thead>\n",
       "    <tr style=\"text-align: right;\">\n",
       "      <th></th>\n",
       "      <th>RMSE</th>\n",
       "    </tr>\n",
       "  </thead>\n",
       "  <tbody>\n",
       "    <tr>\n",
       "      <th>Holt</th>\n",
       "      <td>64878.554803</td>\n",
       "    </tr>\n",
       "    <tr>\n",
       "      <th>Arima</th>\n",
       "      <td>69827.642201</td>\n",
       "    </tr>\n",
       "    <tr>\n",
       "      <th>Naive</th>\n",
       "      <td>221202.112378</td>\n",
       "    </tr>\n",
       "  </tbody>\n",
       "</table>\n",
       "</div>"
      ],
      "text/plain": [
       "                RMSE\n",
       "Holt    64878.554803\n",
       "Arima   69827.642201\n",
       "Naive  221202.112378"
      ]
     },
     "execution_count": 21,
     "metadata": {},
     "output_type": "execute_result"
    },
    {
     "data": {
      "image/png": "[encoded data removed]",
      "text/plain": [
       "<Figure size 432x288 with 1 Axes>"
      ]
     },
     "metadata": {
      "needs_background": "light"
     },
     "output_type": "display_data"
    }
   ],
   "source": [
    "movie_calc_auto(fb_movie, 90, False, 0.2, 0.3)"
   ]
  },
  {
   "cell_type": "markdown",
   "metadata": {},
   "source": [
    "### 60 days"
   ]
  },
  {
   "cell_type": "code",
   "execution_count": 22,
   "metadata": {},
   "outputs": [
    {
     "name": "stdout",
     "output_type": "stream",
     "text": [
      "ARIMA(maxiter=50, method='lbfgs', order=(0, 2, 0), out_of_sample_size=0,\n",
      "      scoring='mse', scoring_args=None, seasonal_order=(0, 0, 0, 0),\n",
      "      start_params=None, suppress_warnings=True, trend=None,\n",
      "      with_intercept=False)\n"
     ]
    },
    {
     "data": {
      "text/html": [
       "<div>\n",
       "<style scoped>\n",
       "    .dataframe tbody tr th:only-of-type {\n",
       "        vertical-align: middle;\n",
       "    }\n",
       "\n",
       "    .dataframe tbody tr th {\n",
       "        vertical-align: top;\n",
       "    }\n",
       "\n",
       "    .dataframe thead th {\n",
       "        text-align: right;\n",
       "    }\n",
       "</style>\n",
       "<table border=\"1\" class=\"dataframe\">\n",
       "  <thead>\n",
       "    <tr style=\"text-align: right;\">\n",
       "      <th></th>\n",
       "      <th>RMSE</th>\n",
       "    </tr>\n",
       "  </thead>\n",
       "  <tbody>\n",
       "    <tr>\n",
       "      <th>Holt</th>\n",
       "      <td>120427.694426</td>\n",
       "    </tr>\n",
       "    <tr>\n",
       "      <th>Arima</th>\n",
       "      <td>140113.896723</td>\n",
       "    </tr>\n",
       "    <tr>\n",
       "      <th>Naive</th>\n",
       "      <td>222131.654745</td>\n",
       "    </tr>\n",
       "  </tbody>\n",
       "</table>\n",
       "</div>"
      ],
      "text/plain": [
       "                RMSE\n",
       "Holt   120427.694426\n",
       "Arima  140113.896723\n",
       "Naive  222131.654745"
      ]
     },
     "execution_count": 22,
     "metadata": {},
     "output_type": "execute_result"
    },
    {
     "data": {
      "image/png": "[encoded data removed]",
      "text/plain": [
       "<Figure size 432x288 with 1 Axes>"
      ]
     },
     "metadata": {
      "needs_background": "light"
     },
     "output_type": "display_data"
    }
   ],
   "source": [
    "movie_calc_auto(fb_movie, 60, False, 0.2, 0.3)"
   ]
  },
  {
   "cell_type": "markdown",
   "metadata": {},
   "source": [
    "### 30 Days"
   ]
  },
  {
   "cell_type": "code",
   "execution_count": 23,
   "metadata": {},
   "outputs": [
    {
     "name": "stdout",
     "output_type": "stream",
     "text": [
      "ARIMA(maxiter=50, method='lbfgs', order=(0, 2, 0), out_of_sample_size=0,\n",
      "      scoring='mse', scoring_args=None, seasonal_order=(0, 0, 0, 0),\n",
      "      start_params=None, suppress_warnings=True, trend=None,\n",
      "      with_intercept=False)\n"
     ]
    },
    {
     "data": {
      "text/html": [
       "<div>\n",
       "<style scoped>\n",
       "    .dataframe tbody tr th:only-of-type {\n",
       "        vertical-align: middle;\n",
       "    }\n",
       "\n",
       "    .dataframe tbody tr th {\n",
       "        vertical-align: top;\n",
       "    }\n",
       "\n",
       "    .dataframe thead th {\n",
       "        text-align: right;\n",
       "    }\n",
       "</style>\n",
       "<table border=\"1\" class=\"dataframe\">\n",
       "  <thead>\n",
       "    <tr style=\"text-align: right;\">\n",
       "      <th></th>\n",
       "      <th>RMSE</th>\n",
       "    </tr>\n",
       "  </thead>\n",
       "  <tbody>\n",
       "    <tr>\n",
       "      <th>Holt</th>\n",
       "      <td>96280.410358</td>\n",
       "    </tr>\n",
       "    <tr>\n",
       "      <th>Arima</th>\n",
       "      <td>105482.564472</td>\n",
       "    </tr>\n",
       "    <tr>\n",
       "      <th>Naive</th>\n",
       "      <td>189878.382512</td>\n",
       "    </tr>\n",
       "  </tbody>\n",
       "</table>\n",
       "</div>"
      ],
      "text/plain": [
       "                RMSE\n",
       "Holt    96280.410358\n",
       "Arima  105482.564472\n",
       "Naive  189878.382512"
      ]
     },
     "execution_count": 23,
     "metadata": {},
     "output_type": "execute_result"
    },
    {
     "data": {
      "image/png": "[encoded data removed]",
      "text/plain": [
       "<Figure size 432x288 with 1 Axes>"
      ]
     },
     "metadata": {
      "needs_background": "light"
     },
     "output_type": "display_data"
    }
   ],
   "source": [
    "movie_calc_auto(fb_movie, 30, False, 0.2, 0.3)"
   ]
  },
  {
   "cell_type": "markdown",
   "metadata": {},
   "source": [
    "#### Best Parameters:\n",
    "\n",
    "ARIMA: (0,2,0)\n",
    "\n",
    "Holt: smoothing level = 0.2, smoothing slope = 0.3"
   ]
  },
  {
   "cell_type": "code",
   "execution_count": 25,
   "metadata": {},
   "outputs": [],
   "source": [
    "movie_clusters = fb[fb['cluster_id_5'] == 0]['replace'].unique()"
   ]
  },
  {
   "cell_type": "markdown",
   "metadata": {},
   "source": [
    "__Movie 1__"
   ]
  },
  {
   "cell_type": "code",
   "execution_count": 26,
   "metadata": {},
   "outputs": [
    {
     "data": {
      "text/plain": [
       "'McFarland, USA'"
      ]
     },
     "execution_count": 26,
     "metadata": {},
     "output_type": "execute_result"
    }
   ],
   "source": [
    "rand_movie = movie_clusters[0]\n",
    "rand_movie"
   ]
  },
  {
   "cell_type": "code",
   "execution_count": 27,
   "metadata": {},
   "outputs": [
    {
     "data": {
      "text/html": [
       "<div>\n",
       "<style scoped>\n",
       "    .dataframe tbody tr th:only-of-type {\n",
       "        vertical-align: middle;\n",
       "    }\n",
       "\n",
       "    .dataframe tbody tr th {\n",
       "        vertical-align: top;\n",
       "    }\n",
       "\n",
       "    .dataframe thead th {\n",
       "        text-align: right;\n",
       "    }\n",
       "</style>\n",
       "<table border=\"1\" class=\"dataframe\">\n",
       "  <thead>\n",
       "    <tr style=\"text-align: right;\">\n",
       "      <th></th>\n",
       "      <th>RMSE</th>\n",
       "    </tr>\n",
       "  </thead>\n",
       "  <tbody>\n",
       "    <tr>\n",
       "      <th>Arima</th>\n",
       "      <td>49221.062533</td>\n",
       "    </tr>\n",
       "    <tr>\n",
       "      <th>Naive</th>\n",
       "      <td>49765.647680</td>\n",
       "    </tr>\n",
       "    <tr>\n",
       "      <th>Holt</th>\n",
       "      <td>52043.759632</td>\n",
       "    </tr>\n",
       "  </tbody>\n",
       "</table>\n",
       "</div>"
      ],
      "text/plain": [
       "               RMSE\n",
       "Arima  49221.062533\n",
       "Naive  49765.647680\n",
       "Holt   52043.759632"
      ]
     },
     "execution_count": 27,
     "metadata": {},
     "output_type": "execute_result"
    },
    {
     "data": {
      "image/png": "[encoded data removed]",
      "text/plain": [
       "<Figure size 432x288 with 1 Axes>"
      ]
     },
     "metadata": {
      "needs_background": "light"
     },
     "output_type": "display_data"
    }
   ],
   "source": [
    "select = movie_select(rand_movie, fb, 'total_post_interactions')\n",
    "movie_calc_manual(select, 90, False, 0.2, 0.3, 0, 2, 0)"
   ]
  },
  {
   "cell_type": "code",
   "execution_count": 28,
   "metadata": {},
   "outputs": [
    {
     "data": {
      "text/html": [
       "<div>\n",
       "<style scoped>\n",
       "    .dataframe tbody tr th:only-of-type {\n",
       "        vertical-align: middle;\n",
       "    }\n",
       "\n",
       "    .dataframe tbody tr th {\n",
       "        vertical-align: top;\n",
       "    }\n",
       "\n",
       "    .dataframe thead th {\n",
       "        text-align: right;\n",
       "    }\n",
       "</style>\n",
       "<table border=\"1\" class=\"dataframe\">\n",
       "  <thead>\n",
       "    <tr style=\"text-align: right;\">\n",
       "      <th></th>\n",
       "      <th>RMSE</th>\n",
       "    </tr>\n",
       "  </thead>\n",
       "  <tbody>\n",
       "    <tr>\n",
       "      <th>Arima</th>\n",
       "      <td>58821.294785</td>\n",
       "    </tr>\n",
       "    <tr>\n",
       "      <th>Naive</th>\n",
       "      <td>60262.951316</td>\n",
       "    </tr>\n",
       "    <tr>\n",
       "      <th>Holt</th>\n",
       "      <td>60476.291806</td>\n",
       "    </tr>\n",
       "  </tbody>\n",
       "</table>\n",
       "</div>"
      ],
      "text/plain": [
       "               RMSE\n",
       "Arima  58821.294785\n",
       "Naive  60262.951316\n",
       "Holt   60476.291806"
      ]
     },
     "execution_count": 28,
     "metadata": {},
     "output_type": "execute_result"
    },
    {
     "data": {
      "image/png": "[encoded data removed]",
      "text/plain": [
       "<Figure size 432x288 with 1 Axes>"
      ]
     },
     "metadata": {
      "needs_background": "light"
     },
     "output_type": "display_data"
    }
   ],
   "source": [
    "select = movie_select(rand_movie, fb, 'total_post_interactions')\n",
    "movie_calc_manual(select, 60, False, 0.2, 0.3, 0, 2, 0)"
   ]
  },
  {
   "cell_type": "code",
   "execution_count": 29,
   "metadata": {},
   "outputs": [
    {
     "data": {
      "text/html": [
       "<div>\n",
       "<style scoped>\n",
       "    .dataframe tbody tr th:only-of-type {\n",
       "        vertical-align: middle;\n",
       "    }\n",
       "\n",
       "    .dataframe tbody tr th {\n",
       "        vertical-align: top;\n",
       "    }\n",
       "\n",
       "    .dataframe thead th {\n",
       "        text-align: right;\n",
       "    }\n",
       "</style>\n",
       "<table border=\"1\" class=\"dataframe\">\n",
       "  <thead>\n",
       "    <tr style=\"text-align: right;\">\n",
       "      <th></th>\n",
       "      <th>RMSE</th>\n",
       "    </tr>\n",
       "  </thead>\n",
       "  <tbody>\n",
       "    <tr>\n",
       "      <th>Holt</th>\n",
       "      <td>42796.314807</td>\n",
       "    </tr>\n",
       "    <tr>\n",
       "      <th>Arima</th>\n",
       "      <td>47546.138436</td>\n",
       "    </tr>\n",
       "    <tr>\n",
       "      <th>Naive</th>\n",
       "      <td>65944.793131</td>\n",
       "    </tr>\n",
       "  </tbody>\n",
       "</table>\n",
       "</div>"
      ],
      "text/plain": [
       "               RMSE\n",
       "Holt   42796.314807\n",
       "Arima  47546.138436\n",
       "Naive  65944.793131"
      ]
     },
     "execution_count": 29,
     "metadata": {},
     "output_type": "execute_result"
    },
    {
     "data": {
      "image/png": "[encoded data removed]",
      "text/plain": [
       "<Figure size 432x288 with 1 Axes>"
      ]
     },
     "metadata": {
      "needs_background": "light"
     },
     "output_type": "display_data"
    }
   ],
   "source": [
    "select = movie_select(rand_movie, fb, 'total_post_interactions')\n",
    "movie_calc_manual(select, 30, False, 0.2, 0.3, 0, 2, 0)"
   ]
  },
  {
   "cell_type": "markdown",
   "metadata": {},
   "source": [
    "__Movie 2__"
   ]
  },
  {
   "cell_type": "code",
   "execution_count": 30,
   "metadata": {},
   "outputs": [
    {
     "data": {
      "text/plain": [
       "'Fury'"
      ]
     },
     "execution_count": 30,
     "metadata": {},
     "output_type": "execute_result"
    }
   ],
   "source": [
    "rand_movie = movie_clusters[1]\n",
    "rand_movie"
   ]
  },
  {
   "cell_type": "code",
   "execution_count": 31,
   "metadata": {},
   "outputs": [
    {
     "data": {
      "text/html": [
       "<div>\n",
       "<style scoped>\n",
       "    .dataframe tbody tr th:only-of-type {\n",
       "        vertical-align: middle;\n",
       "    }\n",
       "\n",
       "    .dataframe tbody tr th {\n",
       "        vertical-align: top;\n",
       "    }\n",
       "\n",
       "    .dataframe thead th {\n",
       "        text-align: right;\n",
       "    }\n",
       "</style>\n",
       "<table border=\"1\" class=\"dataframe\">\n",
       "  <thead>\n",
       "    <tr style=\"text-align: right;\">\n",
       "      <th></th>\n",
       "      <th>RMSE</th>\n",
       "    </tr>\n",
       "  </thead>\n",
       "  <tbody>\n",
       "    <tr>\n",
       "      <th>Arima</th>\n",
       "      <td>238794.522824</td>\n",
       "    </tr>\n",
       "    <tr>\n",
       "      <th>Holt</th>\n",
       "      <td>307775.598921</td>\n",
       "    </tr>\n",
       "    <tr>\n",
       "      <th>Naive</th>\n",
       "      <td>421457.632246</td>\n",
       "    </tr>\n",
       "  </tbody>\n",
       "</table>\n",
       "</div>"
      ],
      "text/plain": [
       "                RMSE\n",
       "Arima  238794.522824\n",
       "Holt   307775.598921\n",
       "Naive  421457.632246"
      ]
     },
     "execution_count": 31,
     "metadata": {},
     "output_type": "execute_result"
    },
    {
     "data": {
      "image/png": "[encoded data removed]",
      "text/plain": [
       "<Figure size 432x288 with 1 Axes>"
      ]
     },
     "metadata": {
      "needs_background": "light"
     },
     "output_type": "display_data"
    }
   ],
   "source": [
    "select = movie_select(rand_movie, fb, 'total_post_interactions')\n",
    "movie_calc_manual(select, 90, False, 0.2, 0.3, 0, 2, 0)"
   ]
  },
  {
   "cell_type": "code",
   "execution_count": 32,
   "metadata": {},
   "outputs": [
    {
     "data": {
      "text/html": [
       "<div>\n",
       "<style scoped>\n",
       "    .dataframe tbody tr th:only-of-type {\n",
       "        vertical-align: middle;\n",
       "    }\n",
       "\n",
       "    .dataframe tbody tr th {\n",
       "        vertical-align: top;\n",
       "    }\n",
       "\n",
       "    .dataframe thead th {\n",
       "        text-align: right;\n",
       "    }\n",
       "</style>\n",
       "<table border=\"1\" class=\"dataframe\">\n",
       "  <thead>\n",
       "    <tr style=\"text-align: right;\">\n",
       "      <th></th>\n",
       "      <th>RMSE</th>\n",
       "    </tr>\n",
       "  </thead>\n",
       "  <tbody>\n",
       "    <tr>\n",
       "      <th>Arima</th>\n",
       "      <td>113537.274624</td>\n",
       "    </tr>\n",
       "    <tr>\n",
       "      <th>Holt</th>\n",
       "      <td>117252.553204</td>\n",
       "    </tr>\n",
       "    <tr>\n",
       "      <th>Naive</th>\n",
       "      <td>369700.237383</td>\n",
       "    </tr>\n",
       "  </tbody>\n",
       "</table>\n",
       "</div>"
      ],
      "text/plain": [
       "                RMSE\n",
       "Arima  113537.274624\n",
       "Holt   117252.553204\n",
       "Naive  369700.237383"
      ]
     },
     "execution_count": 32,
     "metadata": {},
     "output_type": "execute_result"
    },
    {
     "data": {
      "image/png": "[encoded data removed]",
      "text/plain": [
       "<Figure size 432x288 with 1 Axes>"
      ]
     },
     "metadata": {
      "needs_background": "light"
     },
     "output_type": "display_data"
    }
   ],
   "source": [
    "select = movie_select(rand_movie, fb, 'total_post_interactions')\n",
    "movie_calc_manual(select, 60, False, 0.2, 0.3, 0, 2, 0)"
   ]
  },
  {
   "cell_type": "code",
   "execution_count": 33,
   "metadata": {},
   "outputs": [
    {
     "data": {
      "text/html": [
       "<div>\n",
       "<style scoped>\n",
       "    .dataframe tbody tr th:only-of-type {\n",
       "        vertical-align: middle;\n",
       "    }\n",
       "\n",
       "    .dataframe tbody tr th {\n",
       "        vertical-align: top;\n",
       "    }\n",
       "\n",
       "    .dataframe thead th {\n",
       "        text-align: right;\n",
       "    }\n",
       "</style>\n",
       "<table border=\"1\" class=\"dataframe\">\n",
       "  <thead>\n",
       "    <tr style=\"text-align: right;\">\n",
       "      <th></th>\n",
       "      <th>RMSE</th>\n",
       "    </tr>\n",
       "  </thead>\n",
       "  <tbody>\n",
       "    <tr>\n",
       "      <th>Arima</th>\n",
       "      <td>40473.073451</td>\n",
       "    </tr>\n",
       "    <tr>\n",
       "      <th>Holt</th>\n",
       "      <td>75761.523861</td>\n",
       "    </tr>\n",
       "    <tr>\n",
       "      <th>Naive</th>\n",
       "      <td>206929.063699</td>\n",
       "    </tr>\n",
       "  </tbody>\n",
       "</table>\n",
       "</div>"
      ],
      "text/plain": [
       "                RMSE\n",
       "Arima   40473.073451\n",
       "Holt    75761.523861\n",
       "Naive  206929.063699"
      ]
     },
     "execution_count": 33,
     "metadata": {},
     "output_type": "execute_result"
    },
    {
     "data": {
      "image/png": "[encoded data removed]",
      "text/plain": [
       "<Figure size 432x288 with 1 Axes>"
      ]
     },
     "metadata": {
      "needs_background": "light"
     },
     "output_type": "display_data"
    }
   ],
   "source": [
    "select = movie_select(rand_movie, fb, 'total_post_interactions')\n",
    "movie_calc_manual(select, 30, False, 0.2, 0.3, 0, 2, 0)"
   ]
  },
  {
   "cell_type": "markdown",
   "metadata": {},
   "source": [
    "__Movie 3__"
   ]
  },
  {
   "cell_type": "code",
   "execution_count": 34,
   "metadata": {},
   "outputs": [
    {
     "data": {
      "text/plain": [
       "'Get On Up'"
      ]
     },
     "execution_count": 34,
     "metadata": {},
     "output_type": "execute_result"
    }
   ],
   "source": [
    "rand_movie = movie_clusters[2]\n",
    "rand_movie"
   ]
  },
  {
   "cell_type": "code",
   "execution_count": 35,
   "metadata": {},
   "outputs": [
    {
     "data": {
      "text/html": [
       "<div>\n",
       "<style scoped>\n",
       "    .dataframe tbody tr th:only-of-type {\n",
       "        vertical-align: middle;\n",
       "    }\n",
       "\n",
       "    .dataframe tbody tr th {\n",
       "        vertical-align: top;\n",
       "    }\n",
       "\n",
       "    .dataframe thead th {\n",
       "        text-align: right;\n",
       "    }\n",
       "</style>\n",
       "<table border=\"1\" class=\"dataframe\">\n",
       "  <thead>\n",
       "    <tr style=\"text-align: right;\">\n",
       "      <th></th>\n",
       "      <th>RMSE</th>\n",
       "    </tr>\n",
       "  </thead>\n",
       "  <tbody>\n",
       "    <tr>\n",
       "      <th>Arima</th>\n",
       "      <td>266111.573548</td>\n",
       "    </tr>\n",
       "    <tr>\n",
       "      <th>Holt</th>\n",
       "      <td>304078.914137</td>\n",
       "    </tr>\n",
       "    <tr>\n",
       "      <th>Naive</th>\n",
       "      <td>312662.503333</td>\n",
       "    </tr>\n",
       "  </tbody>\n",
       "</table>\n",
       "</div>"
      ],
      "text/plain": [
       "                RMSE\n",
       "Arima  266111.573548\n",
       "Holt   304078.914137\n",
       "Naive  312662.503333"
      ]
     },
     "execution_count": 35,
     "metadata": {},
     "output_type": "execute_result"
    },
    {
     "data": {
      "image/png": "[encoded data removed]",
      "text/plain": [
       "<Figure size 432x288 with 1 Axes>"
      ]
     },
     "metadata": {
      "needs_background": "light"
     },
     "output_type": "display_data"
    }
   ],
   "source": [
    "select = movie_select(rand_movie, fb, 'total_post_interactions')\n",
    "movie_calc_manual(select, 90, False, 0.2, 0.3, 0, 2, 0)"
   ]
  },
  {
   "cell_type": "code",
   "execution_count": 36,
   "metadata": {},
   "outputs": [
    {
     "data": {
      "text/html": [
       "<div>\n",
       "<style scoped>\n",
       "    .dataframe tbody tr th:only-of-type {\n",
       "        vertical-align: middle;\n",
       "    }\n",
       "\n",
       "    .dataframe tbody tr th {\n",
       "        vertical-align: top;\n",
       "    }\n",
       "\n",
       "    .dataframe thead th {\n",
       "        text-align: right;\n",
       "    }\n",
       "</style>\n",
       "<table border=\"1\" class=\"dataframe\">\n",
       "  <thead>\n",
       "    <tr style=\"text-align: right;\">\n",
       "      <th></th>\n",
       "      <th>RMSE</th>\n",
       "    </tr>\n",
       "  </thead>\n",
       "  <tbody>\n",
       "    <tr>\n",
       "      <th>Holt</th>\n",
       "      <td>141522.096664</td>\n",
       "    </tr>\n",
       "    <tr>\n",
       "      <th>Arima</th>\n",
       "      <td>144946.089323</td>\n",
       "    </tr>\n",
       "    <tr>\n",
       "      <th>Naive</th>\n",
       "      <td>306445.752917</td>\n",
       "    </tr>\n",
       "  </tbody>\n",
       "</table>\n",
       "</div>"
      ],
      "text/plain": [
       "                RMSE\n",
       "Holt   141522.096664\n",
       "Arima  144946.089323\n",
       "Naive  306445.752917"
      ]
     },
     "execution_count": 36,
     "metadata": {},
     "output_type": "execute_result"
    },
    {
     "data": {
      "image/png": "[encoded data removed]",
      "text/plain": [
       "<Figure size 432x288 with 1 Axes>"
      ]
     },
     "metadata": {
      "needs_background": "light"
     },
     "output_type": "display_data"
    }
   ],
   "source": [
    "movie_calc_manual(select, 60, False, 0.2, 0.3, 0, 2, 0)"
   ]
  },
  {
   "cell_type": "code",
   "execution_count": 37,
   "metadata": {},
   "outputs": [
    {
     "data": {
      "text/html": [
       "<div>\n",
       "<style scoped>\n",
       "    .dataframe tbody tr th:only-of-type {\n",
       "        vertical-align: middle;\n",
       "    }\n",
       "\n",
       "    .dataframe tbody tr th {\n",
       "        vertical-align: top;\n",
       "    }\n",
       "\n",
       "    .dataframe thead th {\n",
       "        text-align: right;\n",
       "    }\n",
       "</style>\n",
       "<table border=\"1\" class=\"dataframe\">\n",
       "  <thead>\n",
       "    <tr style=\"text-align: right;\">\n",
       "      <th></th>\n",
       "      <th>RMSE</th>\n",
       "    </tr>\n",
       "  </thead>\n",
       "  <tbody>\n",
       "    <tr>\n",
       "      <th>Arima</th>\n",
       "      <td>196890.725274</td>\n",
       "    </tr>\n",
       "    <tr>\n",
       "      <th>Holt</th>\n",
       "      <td>289527.385851</td>\n",
       "    </tr>\n",
       "    <tr>\n",
       "      <th>Naive</th>\n",
       "      <td>360120.458675</td>\n",
       "    </tr>\n",
       "  </tbody>\n",
       "</table>\n",
       "</div>"
      ],
      "text/plain": [
       "                RMSE\n",
       "Arima  196890.725274\n",
       "Holt   289527.385851\n",
       "Naive  360120.458675"
      ]
     },
     "execution_count": 37,
     "metadata": {},
     "output_type": "execute_result"
    },
    {
     "data": {
      "image/png": "[encoded data removed]",
      "text/plain": [
       "<Figure size 432x288 with 1 Axes>"
      ]
     },
     "metadata": {
      "needs_background": "light"
     },
     "output_type": "display_data"
    }
   ],
   "source": [
    "movie_calc_manual(select, 30, False, 0.2, 0.3, 0, 2, 0)"
   ]
  },
  {
   "cell_type": "markdown",
   "metadata": {},
   "source": [
    "### Looping through movies"
   ]
  },
  {
   "cell_type": "code",
   "execution_count": 47,
   "metadata": {},
   "outputs": [],
   "source": [
    "c1_days_90 = pd.DataFrame()\n",
    "\n",
    "for movie in movie_clusters:\n",
    "    select = movie_select(movie, fb, 'total_post_interactions')\n",
    "    try:\n",
    "        x = movie_calc_manual_loop(select, 90, False, 0.2, 0.3, 0, 2, 0).T\n",
    "        c1_days_90 = c1_days_90.append(x, ignore_index=True)\n",
    "        \n",
    "    except:\n",
    "        pass"
   ]
  },
  {
   "cell_type": "code",
   "execution_count": 61,
   "metadata": {},
   "outputs": [
    {
     "data": {
      "text/html": [
       "<div>\n",
       "<style scoped>\n",
       "    .dataframe tbody tr th:only-of-type {\n",
       "        vertical-align: middle;\n",
       "    }\n",
       "\n",
       "    .dataframe tbody tr th {\n",
       "        vertical-align: top;\n",
       "    }\n",
       "\n",
       "    .dataframe thead th {\n",
       "        text-align: right;\n",
       "    }\n",
       "</style>\n",
       "<table border=\"1\" class=\"dataframe\">\n",
       "  <thead>\n",
       "    <tr style=\"text-align: right;\">\n",
       "      <th></th>\n",
       "      <th>RMSE</th>\n",
       "    </tr>\n",
       "  </thead>\n",
       "  <tbody>\n",
       "    <tr>\n",
       "      <th>Naive</th>\n",
       "      <td>229528.388070</td>\n",
       "    </tr>\n",
       "    <tr>\n",
       "      <th>Holt</th>\n",
       "      <td>284113.650818</td>\n",
       "    </tr>\n",
       "    <tr>\n",
       "      <th>Arima</th>\n",
       "      <td>285437.094959</td>\n",
       "    </tr>\n",
       "  </tbody>\n",
       "</table>\n",
       "</div>"
      ],
      "text/plain": [
       "                RMSE\n",
       "Naive  229528.388070\n",
       "Holt   284113.650818\n",
       "Arima  285437.094959"
      ]
     },
     "execution_count": 61,
     "metadata": {},
     "output_type": "execute_result"
    }
   ],
   "source": [
    "pd.DataFrame(np.array(c1_days_90).mean(axis=0), index = ['Holt', 'Arima', 'Naive'],  columns = ['RMSE']).sort_values(['RMSE'])"
   ]
  },
  {
   "cell_type": "code",
   "execution_count": 49,
   "metadata": {},
   "outputs": [],
   "source": [
    "c1_days_60 = pd.DataFrame()\n",
    "\n",
    "for movie in movie_clusters:\n",
    "    select = movie_select(movie, fb, 'total_post_interactions')\n",
    "    try:\n",
    "        x = movie_calc_manual_loop(select, 60, False, 0.2, 0.3, 0, 2, 0).T\n",
    "        c1_days_60 = c1_days_60.append(x, ignore_index=True)\n",
    "        \n",
    "    except:\n",
    "        pass"
   ]
  },
  {
   "cell_type": "code",
   "execution_count": 62,
   "metadata": {},
   "outputs": [
    {
     "data": {
      "text/html": [
       "<div>\n",
       "<style scoped>\n",
       "    .dataframe tbody tr th:only-of-type {\n",
       "        vertical-align: middle;\n",
       "    }\n",
       "\n",
       "    .dataframe tbody tr th {\n",
       "        vertical-align: top;\n",
       "    }\n",
       "\n",
       "    .dataframe thead th {\n",
       "        text-align: right;\n",
       "    }\n",
       "</style>\n",
       "<table border=\"1\" class=\"dataframe\">\n",
       "  <thead>\n",
       "    <tr style=\"text-align: right;\">\n",
       "      <th></th>\n",
       "      <th>RMSE</th>\n",
       "    </tr>\n",
       "  </thead>\n",
       "  <tbody>\n",
       "    <tr>\n",
       "      <th>Holt</th>\n",
       "      <td>184852.313700</td>\n",
       "    </tr>\n",
       "    <tr>\n",
       "      <th>Arima</th>\n",
       "      <td>194791.181232</td>\n",
       "    </tr>\n",
       "    <tr>\n",
       "      <th>Naive</th>\n",
       "      <td>228809.532383</td>\n",
       "    </tr>\n",
       "  </tbody>\n",
       "</table>\n",
       "</div>"
      ],
      "text/plain": [
       "                RMSE\n",
       "Holt   184852.313700\n",
       "Arima  194791.181232\n",
       "Naive  228809.532383"
      ]
     },
     "execution_count": 62,
     "metadata": {},
     "output_type": "execute_result"
    }
   ],
   "source": [
    "pd.DataFrame(np.array(c1_days_60).mean(axis=0), index = ['Holt', 'Arima', 'Naive'],  columns = ['RMSE']).sort_values(['RMSE'])"
   ]
  },
  {
   "cell_type": "code",
   "execution_count": 51,
   "metadata": {},
   "outputs": [],
   "source": [
    "c1_days_30 = pd.DataFrame()\n",
    "\n",
    "for movie in movie_clusters:\n",
    "    select = movie_select(movie, fb, 'total_post_interactions')\n",
    "    try:\n",
    "        x = movie_calc_manual_loop(select, 30, False, 0.2, 0.3, 0, 2, 0).T\n",
    "        c1_days_30 = c1_days_30.append(x, ignore_index=True)\n",
    "        \n",
    "    except:\n",
    "        pass"
   ]
  },
  {
   "cell_type": "code",
   "execution_count": 63,
   "metadata": {},
   "outputs": [
    {
     "data": {
      "text/html": [
       "<div>\n",
       "<style scoped>\n",
       "    .dataframe tbody tr th:only-of-type {\n",
       "        vertical-align: middle;\n",
       "    }\n",
       "\n",
       "    .dataframe tbody tr th {\n",
       "        vertical-align: top;\n",
       "    }\n",
       "\n",
       "    .dataframe thead th {\n",
       "        text-align: right;\n",
       "    }\n",
       "</style>\n",
       "<table border=\"1\" class=\"dataframe\">\n",
       "  <thead>\n",
       "    <tr style=\"text-align: right;\">\n",
       "      <th></th>\n",
       "      <th>RMSE</th>\n",
       "    </tr>\n",
       "  </thead>\n",
       "  <tbody>\n",
       "    <tr>\n",
       "      <th>Arima</th>\n",
       "      <td>142128.082611</td>\n",
       "    </tr>\n",
       "    <tr>\n",
       "      <th>Holt</th>\n",
       "      <td>153550.838605</td>\n",
       "    </tr>\n",
       "    <tr>\n",
       "      <th>Naive</th>\n",
       "      <td>193726.061433</td>\n",
       "    </tr>\n",
       "  </tbody>\n",
       "</table>\n",
       "</div>"
      ],
      "text/plain": [
       "                RMSE\n",
       "Arima  142128.082611\n",
       "Holt   153550.838605\n",
       "Naive  193726.061433"
      ]
     },
     "execution_count": 63,
     "metadata": {},
     "output_type": "execute_result"
    }
   ],
   "source": [
    "pd.DataFrame(np.array(c1_days_30).mean(axis=0), index = ['Holt', 'Arima', 'Naive'],  columns = ['RMSE']).sort_values(['RMSE'])"
   ]
  },
  {
   "cell_type": "markdown",
   "metadata": {},
   "source": [
    "### Cluster 2"
   ]
  },
  {
   "cell_type": "code",
   "execution_count": 25,
   "metadata": {},
   "outputs": [
    {
     "name": "stderr",
     "output_type": "stream",
     "text": [
      "/usr/local/lib/python3.6/dist-packages/statsmodels/tsa/holtwinters.py:712: ConvergenceWarning: Optimization failed to converge. Check mle_retvals.\n",
      "  ConvergenceWarning)\n",
      "/usr/local/lib/python3.6/dist-packages/statsmodels/tsa/holtwinters.py:712: ConvergenceWarning: Optimization failed to converge. Check mle_retvals.\n",
      "  ConvergenceWarning)\n",
      "/usr/local/lib/python3.6/dist-packages/statsmodels/tsa/holtwinters.py:712: ConvergenceWarning: Optimization failed to converge. Check mle_retvals.\n",
      "  ConvergenceWarning)\n",
      "/usr/local/lib/python3.6/dist-packages/statsmodels/tsa/holtwinters.py:712: ConvergenceWarning: Optimization failed to converge. Check mle_retvals.\n",
      "  ConvergenceWarning)\n",
      "/usr/local/lib/python3.6/dist-packages/statsmodels/tsa/holtwinters.py:712: ConvergenceWarning: Optimization failed to converge. Check mle_retvals.\n",
      "  ConvergenceWarning)\n",
      "/usr/local/lib/python3.6/dist-packages/statsmodels/tsa/holtwinters.py:712: ConvergenceWarning: Optimization failed to converge. Check mle_retvals.\n",
      "  ConvergenceWarning)\n"
     ]
    },
    {
     "data": {
      "text/html": [
       "<div>\n",
       "<style scoped>\n",
       "    .dataframe tbody tr th:only-of-type {\n",
       "        vertical-align: middle;\n",
       "    }\n",
       "\n",
       "    .dataframe tbody tr th {\n",
       "        vertical-align: top;\n",
       "    }\n",
       "\n",
       "    .dataframe thead th {\n",
       "        text-align: right;\n",
       "    }\n",
       "</style>\n",
       "<table border=\"1\" class=\"dataframe\">\n",
       "  <thead>\n",
       "    <tr style=\"text-align: right;\">\n",
       "      <th></th>\n",
       "      <th>level</th>\n",
       "      <th>slope</th>\n",
       "      <th>rmse</th>\n",
       "    </tr>\n",
       "  </thead>\n",
       "  <tbody>\n",
       "    <tr>\n",
       "      <th>49</th>\n",
       "      <td>0.4</td>\n",
       "      <td>0.9</td>\n",
       "      <td>146098.557013</td>\n",
       "    </tr>\n",
       "    <tr>\n",
       "      <th>59</th>\n",
       "      <td>0.5</td>\n",
       "      <td>0.9</td>\n",
       "      <td>150020.888495</td>\n",
       "    </tr>\n",
       "    <tr>\n",
       "      <th>58</th>\n",
       "      <td>0.5</td>\n",
       "      <td>0.8</td>\n",
       "      <td>154745.749083</td>\n",
       "    </tr>\n",
       "    <tr>\n",
       "      <th>48</th>\n",
       "      <td>0.4</td>\n",
       "      <td>0.8</td>\n",
       "      <td>158926.433713</td>\n",
       "    </tr>\n",
       "    <tr>\n",
       "      <th>57</th>\n",
       "      <td>0.5</td>\n",
       "      <td>0.7</td>\n",
       "      <td>163423.125078</td>\n",
       "    </tr>\n",
       "  </tbody>\n",
       "</table>\n",
       "</div>"
      ],
      "text/plain": [
       "    level  slope           rmse\n",
       "49    0.4    0.9  146098.557013\n",
       "59    0.5    0.9  150020.888495\n",
       "58    0.5    0.8  154745.749083\n",
       "48    0.4    0.8  158926.433713\n",
       "57    0.5    0.7  163423.125078"
      ]
     },
     "execution_count": 25,
     "metadata": {},
     "output_type": "execute_result"
    }
   ],
   "source": [
    "fb_movie = cluster_select(fb, 'cluster_id_5', 1, 'total_post_interactions')\n",
    "days = 90\n",
    "test = fb_movie[365 - days:]\n",
    "train = fb_movie[:365 - days]\n",
    "\n",
    "exponential = False\n",
    "smoothing_level = np.arange(0, 1, 0.1)\n",
    "smoothing_slope = np.arange(0, 1, 0.1)\n",
    "\n",
    "dat = []\n",
    "for level in smoothing_level:\n",
    "    for slope in smoothing_slope:\n",
    "        y_hat_holt= test.copy()\n",
    "        fit1 = Holt(np.asarray(train), exponential = exponential).fit(smoothing_level = level, smoothing_slope = slope)\n",
    "        y_hat_holt['holt'] = fit1.forecast(len(test))\n",
    "        rms_holt = sqrt(mse(test, y_hat_holt['holt']))\n",
    "        x = [level, slope, rms_holt]\n",
    "        dat.append(x)\n",
    "        \n",
    "dat = pd.DataFrame(dat, columns = ['level', 'slope', 'rmse'])\n",
    "dat.sort_values(['rmse']).head(5)"
   ]
  },
  {
   "cell_type": "code",
   "execution_count": 21,
   "metadata": {},
   "outputs": [
    {
     "name": "stderr",
     "output_type": "stream",
     "text": [
      "/usr/local/lib/python3.6/dist-packages/statsmodels/tsa/holtwinters.py:712: ConvergenceWarning: Optimization failed to converge. Check mle_retvals.\n",
      "  ConvergenceWarning)\n",
      "/usr/local/lib/python3.6/dist-packages/statsmodels/tsa/holtwinters.py:712: ConvergenceWarning: Optimization failed to converge. Check mle_retvals.\n",
      "  ConvergenceWarning)\n",
      "/usr/local/lib/python3.6/dist-packages/statsmodels/tsa/holtwinters.py:712: ConvergenceWarning: Optimization failed to converge. Check mle_retvals.\n",
      "  ConvergenceWarning)\n",
      "/usr/local/lib/python3.6/dist-packages/statsmodels/tsa/holtwinters.py:712: ConvergenceWarning: Optimization failed to converge. Check mle_retvals.\n",
      "  ConvergenceWarning)\n",
      "/usr/local/lib/python3.6/dist-packages/statsmodels/tsa/holtwinters.py:712: ConvergenceWarning: Optimization failed to converge. Check mle_retvals.\n",
      "  ConvergenceWarning)\n",
      "/usr/local/lib/python3.6/dist-packages/statsmodels/tsa/holtwinters.py:712: ConvergenceWarning: Optimization failed to converge. Check mle_retvals.\n",
      "  ConvergenceWarning)\n",
      "/usr/local/lib/python3.6/dist-packages/statsmodels/tsa/holtwinters.py:712: ConvergenceWarning: Optimization failed to converge. Check mle_retvals.\n",
      "  ConvergenceWarning)\n"
     ]
    },
    {
     "data": {
      "text/html": [
       "<div>\n",
       "<style scoped>\n",
       "    .dataframe tbody tr th:only-of-type {\n",
       "        vertical-align: middle;\n",
       "    }\n",
       "\n",
       "    .dataframe tbody tr th {\n",
       "        vertical-align: top;\n",
       "    }\n",
       "\n",
       "    .dataframe thead th {\n",
       "        text-align: right;\n",
       "    }\n",
       "</style>\n",
       "<table border=\"1\" class=\"dataframe\">\n",
       "  <thead>\n",
       "    <tr style=\"text-align: right;\">\n",
       "      <th></th>\n",
       "      <th>level</th>\n",
       "      <th>slope</th>\n",
       "      <th>rmse</th>\n",
       "    </tr>\n",
       "  </thead>\n",
       "  <tbody>\n",
       "    <tr>\n",
       "      <th>29</th>\n",
       "      <td>0.2</td>\n",
       "      <td>0.9</td>\n",
       "      <td>94022.110299</td>\n",
       "    </tr>\n",
       "    <tr>\n",
       "      <th>39</th>\n",
       "      <td>0.3</td>\n",
       "      <td>0.9</td>\n",
       "      <td>97508.102471</td>\n",
       "    </tr>\n",
       "    <tr>\n",
       "      <th>38</th>\n",
       "      <td>0.3</td>\n",
       "      <td>0.8</td>\n",
       "      <td>100612.972017</td>\n",
       "    </tr>\n",
       "    <tr>\n",
       "      <th>28</th>\n",
       "      <td>0.2</td>\n",
       "      <td>0.8</td>\n",
       "      <td>102484.411835</td>\n",
       "    </tr>\n",
       "    <tr>\n",
       "      <th>37</th>\n",
       "      <td>0.3</td>\n",
       "      <td>0.7</td>\n",
       "      <td>106152.649926</td>\n",
       "    </tr>\n",
       "  </tbody>\n",
       "</table>\n",
       "</div>"
      ],
      "text/plain": [
       "    level  slope           rmse\n",
       "29    0.2    0.9   94022.110299\n",
       "39    0.3    0.9   97508.102471\n",
       "38    0.3    0.8  100612.972017\n",
       "28    0.2    0.8  102484.411835\n",
       "37    0.3    0.7  106152.649926"
      ]
     },
     "execution_count": 21,
     "metadata": {},
     "output_type": "execute_result"
    }
   ],
   "source": [
    "fb_movie = cluster_select(fb, 'cluster_id_5', 1, 'total_post_interactions')\n",
    "days = 60\n",
    "test = fb_movie[365 - days:]\n",
    "train = fb_movie[:365 - days]\n",
    "\n",
    "exponential = False\n",
    "smoothing_level = np.arange(0, 1, 0.1)\n",
    "smoothing_slope = np.arange(0, 1, 0.1)\n",
    "\n",
    "dat = []\n",
    "for level in smoothing_level:\n",
    "    for slope in smoothing_slope:\n",
    "        y_hat_holt= test.copy()\n",
    "        fit1 = Holt(np.asarray(train), exponential = exponential).fit(smoothing_level = level, smoothing_slope = slope)\n",
    "        y_hat_holt['holt'] = fit1.forecast(len(test))\n",
    "        rms_holt = sqrt(mse(test, y_hat_holt['holt']))\n",
    "        x = [level, slope, rms_holt]\n",
    "        dat.append(x)\n",
    "        \n",
    "dat = pd.DataFrame(dat, columns = ['level', 'slope', 'rmse'])\n",
    "dat.sort_values(['rmse']).head(5)"
   ]
  },
  {
   "cell_type": "code",
   "execution_count": 22,
   "metadata": {},
   "outputs": [
    {
     "name": "stderr",
     "output_type": "stream",
     "text": [
      "/usr/local/lib/python3.6/dist-packages/statsmodels/tsa/holtwinters.py:712: ConvergenceWarning: Optimization failed to converge. Check mle_retvals.\n",
      "  ConvergenceWarning)\n",
      "/usr/local/lib/python3.6/dist-packages/statsmodels/tsa/holtwinters.py:712: ConvergenceWarning: Optimization failed to converge. Check mle_retvals.\n",
      "  ConvergenceWarning)\n",
      "/usr/local/lib/python3.6/dist-packages/statsmodels/tsa/holtwinters.py:712: ConvergenceWarning: Optimization failed to converge. Check mle_retvals.\n",
      "  ConvergenceWarning)\n",
      "/usr/local/lib/python3.6/dist-packages/statsmodels/tsa/holtwinters.py:712: ConvergenceWarning: Optimization failed to converge. Check mle_retvals.\n",
      "  ConvergenceWarning)\n",
      "/usr/local/lib/python3.6/dist-packages/statsmodels/tsa/holtwinters.py:712: ConvergenceWarning: Optimization failed to converge. Check mle_retvals.\n",
      "  ConvergenceWarning)\n",
      "/usr/local/lib/python3.6/dist-packages/statsmodels/tsa/holtwinters.py:712: ConvergenceWarning: Optimization failed to converge. Check mle_retvals.\n",
      "  ConvergenceWarning)\n"
     ]
    },
    {
     "data": {
      "text/html": [
       "<div>\n",
       "<style scoped>\n",
       "    .dataframe tbody tr th:only-of-type {\n",
       "        vertical-align: middle;\n",
       "    }\n",
       "\n",
       "    .dataframe tbody tr th {\n",
       "        vertical-align: top;\n",
       "    }\n",
       "\n",
       "    .dataframe thead th {\n",
       "        text-align: right;\n",
       "    }\n",
       "</style>\n",
       "<table border=\"1\" class=\"dataframe\">\n",
       "  <thead>\n",
       "    <tr style=\"text-align: right;\">\n",
       "      <th></th>\n",
       "      <th>level</th>\n",
       "      <th>slope</th>\n",
       "      <th>rmse</th>\n",
       "    </tr>\n",
       "  </thead>\n",
       "  <tbody>\n",
       "    <tr>\n",
       "      <th>99</th>\n",
       "      <td>0.9</td>\n",
       "      <td>0.9</td>\n",
       "      <td>37254.021142</td>\n",
       "    </tr>\n",
       "    <tr>\n",
       "      <th>89</th>\n",
       "      <td>0.8</td>\n",
       "      <td>0.9</td>\n",
       "      <td>38763.506024</td>\n",
       "    </tr>\n",
       "    <tr>\n",
       "      <th>98</th>\n",
       "      <td>0.9</td>\n",
       "      <td>0.8</td>\n",
       "      <td>41677.483715</td>\n",
       "    </tr>\n",
       "    <tr>\n",
       "      <th>79</th>\n",
       "      <td>0.7</td>\n",
       "      <td>0.9</td>\n",
       "      <td>43026.607439</td>\n",
       "    </tr>\n",
       "    <tr>\n",
       "      <th>88</th>\n",
       "      <td>0.8</td>\n",
       "      <td>0.8</td>\n",
       "      <td>44457.852172</td>\n",
       "    </tr>\n",
       "  </tbody>\n",
       "</table>\n",
       "</div>"
      ],
      "text/plain": [
       "    level  slope          rmse\n",
       "99    0.9    0.9  37254.021142\n",
       "89    0.8    0.9  38763.506024\n",
       "98    0.9    0.8  41677.483715\n",
       "79    0.7    0.9  43026.607439\n",
       "88    0.8    0.8  44457.852172"
      ]
     },
     "execution_count": 22,
     "metadata": {},
     "output_type": "execute_result"
    }
   ],
   "source": [
    "fb_movie = cluster_select(fb, 'cluster_id_5', 1, 'total_post_interactions')\n",
    "days = 30\n",
    "test = fb_movie[365 - days:]\n",
    "train = fb_movie[:365 - days]\n",
    "\n",
    "exponential = False\n",
    "smoothing_level = np.arange(0, 1, 0.1)\n",
    "smoothing_slope = np.arange(0, 1, 0.1)\n",
    "\n",
    "dat = []\n",
    "for level in smoothing_level:\n",
    "    for slope in smoothing_slope:\n",
    "        y_hat_holt= test.copy()\n",
    "        fit1 = Holt(np.asarray(train), exponential = exponential).fit(smoothing_level = level, smoothing_slope = slope)\n",
    "        y_hat_holt['holt'] = fit1.forecast(len(test))\n",
    "        rms_holt = sqrt(mse(test, y_hat_holt['holt']))\n",
    "        x = [level, slope, rms_holt]\n",
    "        dat.append(x)\n",
    "        \n",
    "dat = pd.DataFrame(dat, columns = ['level', 'slope', 'rmse'])\n",
    "dat.sort_values(['rmse']).head(5)"
   ]
  },
  {
   "cell_type": "code",
   "execution_count": 74,
   "metadata": {},
   "outputs": [
    {
     "name": "stdout",
     "output_type": "stream",
     "text": [
      "ARIMA(maxiter=50, method='lbfgs', order=(0, 2, 0), out_of_sample_size=0,\n",
      "      scoring='mse', scoring_args=None, seasonal_order=(0, 0, 0, 0),\n",
      "      start_params=None, suppress_warnings=True, trend=None,\n",
      "      with_intercept=False)\n"
     ]
    },
    {
     "data": {
      "text/html": [
       "<div>\n",
       "<style scoped>\n",
       "    .dataframe tbody tr th:only-of-type {\n",
       "        vertical-align: middle;\n",
       "    }\n",
       "\n",
       "    .dataframe tbody tr th {\n",
       "        vertical-align: top;\n",
       "    }\n",
       "\n",
       "    .dataframe thead th {\n",
       "        text-align: right;\n",
       "    }\n",
       "</style>\n",
       "<table border=\"1\" class=\"dataframe\">\n",
       "  <thead>\n",
       "    <tr style=\"text-align: right;\">\n",
       "      <th></th>\n",
       "      <th>RMSE</th>\n",
       "    </tr>\n",
       "  </thead>\n",
       "  <tbody>\n",
       "    <tr>\n",
       "      <th>Holt</th>\n",
       "      <td>146098.557013</td>\n",
       "    </tr>\n",
       "    <tr>\n",
       "      <th>Arima</th>\n",
       "      <td>247848.123654</td>\n",
       "    </tr>\n",
       "    <tr>\n",
       "      <th>Naive</th>\n",
       "      <td>502315.779780</td>\n",
       "    </tr>\n",
       "  </tbody>\n",
       "</table>\n",
       "</div>"
      ],
      "text/plain": [
       "                RMSE\n",
       "Holt   146098.557013\n",
       "Arima  247848.123654\n",
       "Naive  502315.779780"
      ]
     },
     "execution_count": 74,
     "metadata": {},
     "output_type": "execute_result"
    },
    {
     "data": {
      "image/png": "[encoded data removed]",
      "text/plain": [
       "<Figure size 432x288 with 1 Axes>"
      ]
     },
     "metadata": {
      "needs_background": "light"
     },
     "output_type": "display_data"
    }
   ],
   "source": [
    "movie_calc_auto(fb_movie, 90, False, 0.4, 0.9)"
   ]
  },
  {
   "cell_type": "code",
   "execution_count": 75,
   "metadata": {},
   "outputs": [
    {
     "name": "stdout",
     "output_type": "stream",
     "text": [
      "ARIMA(maxiter=50, method='lbfgs', order=(0, 2, 0), out_of_sample_size=0,\n",
      "      scoring='mse', scoring_args=None, seasonal_order=(0, 0, 0, 0),\n",
      "      start_params=None, suppress_warnings=True, trend=None,\n",
      "      with_intercept=False)\n"
     ]
    },
    {
     "data": {
      "text/html": [
       "<div>\n",
       "<style scoped>\n",
       "    .dataframe tbody tr th:only-of-type {\n",
       "        vertical-align: middle;\n",
       "    }\n",
       "\n",
       "    .dataframe tbody tr th {\n",
       "        vertical-align: top;\n",
       "    }\n",
       "\n",
       "    .dataframe thead th {\n",
       "        text-align: right;\n",
       "    }\n",
       "</style>\n",
       "<table border=\"1\" class=\"dataframe\">\n",
       "  <thead>\n",
       "    <tr style=\"text-align: right;\">\n",
       "      <th></th>\n",
       "      <th>RMSE</th>\n",
       "    </tr>\n",
       "  </thead>\n",
       "  <tbody>\n",
       "    <tr>\n",
       "      <th>Holt</th>\n",
       "      <td>123840.014377</td>\n",
       "    </tr>\n",
       "    <tr>\n",
       "      <th>Arima</th>\n",
       "      <td>158990.113851</td>\n",
       "    </tr>\n",
       "    <tr>\n",
       "      <th>Naive</th>\n",
       "      <td>470034.204882</td>\n",
       "    </tr>\n",
       "  </tbody>\n",
       "</table>\n",
       "</div>"
      ],
      "text/plain": [
       "                RMSE\n",
       "Holt   123840.014377\n",
       "Arima  158990.113851\n",
       "Naive  470034.204882"
      ]
     },
     "execution_count": 75,
     "metadata": {},
     "output_type": "execute_result"
    },
    {
     "data": {
      "image/png": "[encoded data removed]",
      "text/plain": [
       "<Figure size 432x288 with 1 Axes>"
      ]
     },
     "metadata": {
      "needs_background": "light"
     },
     "output_type": "display_data"
    }
   ],
   "source": [
    "movie_calc_auto(fb_movie, 60, False, 0.4, 0.9)"
   ]
  },
  {
   "cell_type": "code",
   "execution_count": 76,
   "metadata": {},
   "outputs": [
    {
     "name": "stdout",
     "output_type": "stream",
     "text": [
      "ARIMA(maxiter=50, method='lbfgs', order=(0, 2, 0), out_of_sample_size=0,\n",
      "      scoring='mse', scoring_args=None, seasonal_order=(0, 0, 0, 0),\n",
      "      start_params=None, suppress_warnings=True, trend=None,\n",
      "      with_intercept=False)\n"
     ]
    },
    {
     "data": {
      "text/html": [
       "<div>\n",
       "<style scoped>\n",
       "    .dataframe tbody tr th:only-of-type {\n",
       "        vertical-align: middle;\n",
       "    }\n",
       "\n",
       "    .dataframe tbody tr th {\n",
       "        vertical-align: top;\n",
       "    }\n",
       "\n",
       "    .dataframe thead th {\n",
       "        text-align: right;\n",
       "    }\n",
       "</style>\n",
       "<table border=\"1\" class=\"dataframe\">\n",
       "  <thead>\n",
       "    <tr style=\"text-align: right;\">\n",
       "      <th></th>\n",
       "      <th>RMSE</th>\n",
       "    </tr>\n",
       "  </thead>\n",
       "  <tbody>\n",
       "    <tr>\n",
       "      <th>Arima</th>\n",
       "      <td>34896.565041</td>\n",
       "    </tr>\n",
       "    <tr>\n",
       "      <th>Holt</th>\n",
       "      <td>73006.165266</td>\n",
       "    </tr>\n",
       "    <tr>\n",
       "      <th>Naive</th>\n",
       "      <td>332173.580124</td>\n",
       "    </tr>\n",
       "  </tbody>\n",
       "</table>\n",
       "</div>"
      ],
      "text/plain": [
       "                RMSE\n",
       "Arima   34896.565041\n",
       "Holt    73006.165266\n",
       "Naive  332173.580124"
      ]
     },
     "execution_count": 76,
     "metadata": {},
     "output_type": "execute_result"
    },
    {
     "data": {
      "image/png": "[encoded data removed]",
      "text/plain": [
       "<Figure size 432x288 with 1 Axes>"
      ]
     },
     "metadata": {
      "needs_background": "light"
     },
     "output_type": "display_data"
    }
   ],
   "source": [
    "movie_calc_auto(fb_movie, 30, False, 0.4, 0.9)"
   ]
  },
  {
   "cell_type": "markdown",
   "metadata": {},
   "source": [
    "#### Best Parameters:\n",
    "\n",
    "ARIMA: (0,2,0)\n",
    "\n",
    "Holt: \n",
    "1. 90 days: smoothing level = 0.4, smoothing slope = 0.9\n",
    "2. 60 days: 0.2, 0.9\n",
    "3. 30 days: 0.9, 0.9"
   ]
  },
  {
   "cell_type": "code",
   "execution_count": 24,
   "metadata": {},
   "outputs": [],
   "source": [
    "movie_clusters = fb[fb['cluster_id_5'] == 1]['replace'].unique()"
   ]
  },
  {
   "cell_type": "markdown",
   "metadata": {},
   "source": [
    "__90 days__"
   ]
  },
  {
   "cell_type": "code",
   "execution_count": 25,
   "metadata": {},
   "outputs": [],
   "source": [
    "c2_days_90 = pd.DataFrame()\n",
    "\n",
    "for movie in movie_clusters:\n",
    "    select = movie_select(movie, fb, 'total_post_interactions')\n",
    "    try:\n",
    "        x = movie_calc_manual_loop(select, 90, False, 0.4, 0.9, 0, 2, 0).T\n",
    "        c2_days_90 = c2_days_90.append(x, ignore_index=True)\n",
    "        \n",
    "    except:\n",
    "        pass"
   ]
  },
  {
   "cell_type": "code",
   "execution_count": 26,
   "metadata": {},
   "outputs": [
    {
     "data": {
      "text/html": [
       "<div>\n",
       "<style scoped>\n",
       "    .dataframe tbody tr th:only-of-type {\n",
       "        vertical-align: middle;\n",
       "    }\n",
       "\n",
       "    .dataframe tbody tr th {\n",
       "        vertical-align: top;\n",
       "    }\n",
       "\n",
       "    .dataframe thead th {\n",
       "        text-align: right;\n",
       "    }\n",
       "</style>\n",
       "<table border=\"1\" class=\"dataframe\">\n",
       "  <thead>\n",
       "    <tr style=\"text-align: right;\">\n",
       "      <th></th>\n",
       "      <th>RMSE</th>\n",
       "    </tr>\n",
       "  </thead>\n",
       "  <tbody>\n",
       "    <tr>\n",
       "      <th>Arima</th>\n",
       "      <td>394224.718727</td>\n",
       "    </tr>\n",
       "    <tr>\n",
       "      <th>Naive</th>\n",
       "      <td>512661.044475</td>\n",
       "    </tr>\n",
       "    <tr>\n",
       "      <th>Holt</th>\n",
       "      <td>529170.981649</td>\n",
       "    </tr>\n",
       "  </tbody>\n",
       "</table>\n",
       "</div>"
      ],
      "text/plain": [
       "                RMSE\n",
       "Arima  394224.718727\n",
       "Naive  512661.044475\n",
       "Holt   529170.981649"
      ]
     },
     "execution_count": 26,
     "metadata": {},
     "output_type": "execute_result"
    }
   ],
   "source": [
    "pd.DataFrame(np.array(c2_days_90).mean(axis=0), index = ['Holt', 'Arima', 'Naive'],  columns = ['RMSE']).sort_values(['RMSE'])"
   ]
  },
  {
   "cell_type": "markdown",
   "metadata": {},
   "source": [
    "__60 days__"
   ]
  },
  {
   "cell_type": "code",
   "execution_count": 27,
   "metadata": {},
   "outputs": [
    {
     "data": {
      "text/html": [
       "<div>\n",
       "<style scoped>\n",
       "    .dataframe tbody tr th:only-of-type {\n",
       "        vertical-align: middle;\n",
       "    }\n",
       "\n",
       "    .dataframe tbody tr th {\n",
       "        vertical-align: top;\n",
       "    }\n",
       "\n",
       "    .dataframe thead th {\n",
       "        text-align: right;\n",
       "    }\n",
       "</style>\n",
       "<table border=\"1\" class=\"dataframe\">\n",
       "  <thead>\n",
       "    <tr style=\"text-align: right;\">\n",
       "      <th></th>\n",
       "      <th>RMSE</th>\n",
       "    </tr>\n",
       "  </thead>\n",
       "  <tbody>\n",
       "    <tr>\n",
       "      <th>Arima</th>\n",
       "      <td>385828.700029</td>\n",
       "    </tr>\n",
       "    <tr>\n",
       "      <th>Naive</th>\n",
       "      <td>478920.971385</td>\n",
       "    </tr>\n",
       "    <tr>\n",
       "      <th>Holt</th>\n",
       "      <td>511528.450559</td>\n",
       "    </tr>\n",
       "  </tbody>\n",
       "</table>\n",
       "</div>"
      ],
      "text/plain": [
       "                RMSE\n",
       "Arima  385828.700029\n",
       "Naive  478920.971385\n",
       "Holt   511528.450559"
      ]
     },
     "execution_count": 27,
     "metadata": {},
     "output_type": "execute_result"
    }
   ],
   "source": [
    "c2_days_60 = pd.DataFrame()\n",
    "\n",
    "for movie in movie_clusters:\n",
    "    select = movie_select(movie, fb, 'total_post_interactions')\n",
    "    try:\n",
    "        x = movie_calc_manual_loop(select, 60, False, 0.4, 0.9, 0, 2, 0).T\n",
    "        c2_days_60 = c2_days_60.append(x, ignore_index=True)\n",
    "        \n",
    "    except:\n",
    "        pass\n",
    "    \n",
    "pd.DataFrame(np.array(c2_days_60).mean(axis=0), index = ['Holt', 'Arima', 'Naive'],  columns = ['RMSE']).sort_values(['RMSE'])"
   ]
  },
  {
   "cell_type": "code",
   "execution_count": 28,
   "metadata": {},
   "outputs": [
    {
     "data": {
      "text/html": [
       "<div>\n",
       "<style scoped>\n",
       "    .dataframe tbody tr th:only-of-type {\n",
       "        vertical-align: middle;\n",
       "    }\n",
       "\n",
       "    .dataframe tbody tr th {\n",
       "        vertical-align: top;\n",
       "    }\n",
       "\n",
       "    .dataframe thead th {\n",
       "        text-align: right;\n",
       "    }\n",
       "</style>\n",
       "<table border=\"1\" class=\"dataframe\">\n",
       "  <thead>\n",
       "    <tr style=\"text-align: right;\">\n",
       "      <th></th>\n",
       "      <th>RMSE</th>\n",
       "    </tr>\n",
       "  </thead>\n",
       "  <tbody>\n",
       "    <tr>\n",
       "      <th>Arima</th>\n",
       "      <td>385828.700029</td>\n",
       "    </tr>\n",
       "    <tr>\n",
       "      <th>Naive</th>\n",
       "      <td>478920.971385</td>\n",
       "    </tr>\n",
       "    <tr>\n",
       "      <th>Holt</th>\n",
       "      <td>579421.154880</td>\n",
       "    </tr>\n",
       "  </tbody>\n",
       "</table>\n",
       "</div>"
      ],
      "text/plain": [
       "                RMSE\n",
       "Arima  385828.700029\n",
       "Naive  478920.971385\n",
       "Holt   579421.154880"
      ]
     },
     "execution_count": 28,
     "metadata": {},
     "output_type": "execute_result"
    }
   ],
   "source": [
    "c2_days_60 = pd.DataFrame()\n",
    "\n",
    "for movie in movie_clusters:\n",
    "    select = movie_select(movie, fb, 'total_post_interactions')\n",
    "    try:\n",
    "        x = movie_calc_manual_loop(select, 60, False, 0.2, 0.9, 0, 2, 0).T\n",
    "        c2_days_60 = c2_days_60.append(x, ignore_index=True)\n",
    "        \n",
    "    except:\n",
    "        pass\n",
    "    \n",
    "pd.DataFrame(np.array(c2_days_60).mean(axis=0), index = ['Holt', 'Arima', 'Naive'],  columns = ['RMSE']).sort_values(['RMSE'])"
   ]
  },
  {
   "cell_type": "markdown",
   "metadata": {},
   "source": [
    "__30 days__"
   ]
  },
  {
   "cell_type": "code",
   "execution_count": 31,
   "metadata": {},
   "outputs": [
    {
     "data": {
      "text/html": [
       "<div>\n",
       "<style scoped>\n",
       "    .dataframe tbody tr th:only-of-type {\n",
       "        vertical-align: middle;\n",
       "    }\n",
       "\n",
       "    .dataframe tbody tr th {\n",
       "        vertical-align: top;\n",
       "    }\n",
       "\n",
       "    .dataframe thead th {\n",
       "        text-align: right;\n",
       "    }\n",
       "</style>\n",
       "<table border=\"1\" class=\"dataframe\">\n",
       "  <thead>\n",
       "    <tr style=\"text-align: right;\">\n",
       "      <th></th>\n",
       "      <th>RMSE</th>\n",
       "    </tr>\n",
       "  </thead>\n",
       "  <tbody>\n",
       "    <tr>\n",
       "      <th>Arima</th>\n",
       "      <td>222931.598752</td>\n",
       "    </tr>\n",
       "    <tr>\n",
       "      <th>Holt</th>\n",
       "      <td>236524.524899</td>\n",
       "    </tr>\n",
       "    <tr>\n",
       "      <th>Naive</th>\n",
       "      <td>335310.267219</td>\n",
       "    </tr>\n",
       "  </tbody>\n",
       "</table>\n",
       "</div>"
      ],
      "text/plain": [
       "                RMSE\n",
       "Arima  222931.598752\n",
       "Holt   236524.524899\n",
       "Naive  335310.267219"
      ]
     },
     "execution_count": 31,
     "metadata": {},
     "output_type": "execute_result"
    }
   ],
   "source": [
    "c2_days_30 = pd.DataFrame()\n",
    "\n",
    "for movie in movie_clusters:\n",
    "    select = movie_select(movie, fb, 'total_post_interactions')\n",
    "    try:\n",
    "        x = movie_calc_manual_loop(select, 30, False, 0.9, 0.9, 0, 2, 0).T\n",
    "        c2_days_30 = c2_days_30.append(x, ignore_index=True)\n",
    "        \n",
    "    except:\n",
    "        pass\n",
    "    \n",
    "pd.DataFrame(np.array(c2_days_30).mean(axis=0), index = ['Holt', 'Arima', 'Naive'],  columns = ['RMSE']).sort_values(['RMSE'])"
   ]
  },
  {
   "cell_type": "code",
   "execution_count": null,
   "metadata": {},
   "outputs": [],
   "source": []
  }
 ],
 "metadata": {
  "kernelspec": {
   "display_name": "Python 3",
   "language": "python",
   "name": "python3"
  },
  "language_info": {
   "codemirror_mode": {
    "name": "ipython",
    "version": 3
   },
   "file_extension": ".py",
   "mimetype": "text/x-python",
   "name": "python",
   "nbconvert_exporter": "python",
   "pygments_lexer": "ipython3",
   "version": "3.6.9"
  }
 },
 "nbformat": 4,
 "nbformat_minor": 4
}
