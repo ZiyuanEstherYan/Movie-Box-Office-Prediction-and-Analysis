{
 "cells": [
  {
   "cell_type": "code",
   "execution_count": 1,
   "metadata": {},
   "outputs": [],
   "source": [
    "import ast\n",
    "import pickle\n",
    "import pandas as pd\n",
    "import numpy as np\n",
    "import matplotlib.pyplot as plt\n",
    "import seaborn as sns\n",
    "import random\n",
    "random.seed(1234)\n",
    "from itertools import combinations\n",
    "\n",
    "import prince \n",
    "from sklearn.cluster import KMeans, DBSCAN\n",
    "from sklearn.metrics import silhouette_score\n",
    "from sklearn.preprocessing import Normalizer\n",
    "\n",
    "from sklearn.preprocessing import LabelEncoder, OneHotEncoder, MultiLabelBinarizer\n",
    "from kmodes.kmodes import KModes\n",
    "from kmodes.kprototypes import KPrototypes\n",
    "\n",
    "from pyclustering.cluster.clarans import clarans\n",
    "from pyclustering.cluster.kmedoids import kmedoids\n",
    "from pyclustering.cluster.silhouette import silhouette_ksearch_type, silhouette_ksearch\n",
    "from pyclustering.utils import read_sample\n",
    "from pyclustering.cluster import cluster_visualizer_multidim"
   ]
  },
  {
   "cell_type": "code",
   "execution_count": 2,
   "metadata": {},
   "outputs": [],
   "source": [
    "dat = pd.read_csv('F:/capstone_listenfirst/brands_with_extras_kmodes.csv')"
   ]
  },
  {
   "cell_type": "code",
   "execution_count": 3,
   "metadata": {
    "scrolled": true
   },
   "outputs": [
    {
     "data": {
      "text/plain": [
       "Index(['brand_ods_id', 'replace', 'released_on', 'ticker_symbol', 'genres',\n",
       "       'data_profile_dcs_uid', 'data_profile_channel_type',\n",
       "       'data_profile_source_type', 'data_affiliation_active_flag',\n",
       "       'data_affiliation_start_date_key', 'data_affiliation_end_date_key',\n",
       "       'genre_list', 'top_genre', 'released_year', 'year_bin', 'budget',\n",
       "       'production_company', 'rating', 'source', 'franchise', 'genre_grouped',\n",
       "       'inflated_budget', 'budget_cat', 'year_q_bin', 'rank',\n",
       "       'production_company_bin'],\n",
       "      dtype='object')"
      ]
     },
     "execution_count": 3,
     "metadata": {},
     "output_type": "execute_result"
    }
   ],
   "source": [
    "dat.columns"
   ]
  },
  {
   "cell_type": "markdown",
   "metadata": {},
   "source": [
    "# Multiple Correspondence Analysis to KMeans"
   ]
  },
  {
   "cell_type": "markdown",
   "metadata": {},
   "source": [
    "## Fit MCA"
   ]
  },
  {
   "cell_type": "code",
   "execution_count": 406,
   "metadata": {},
   "outputs": [],
   "source": [
    "dat['year_q_bin'] = dat['year_q_bin'].astype(str)\n",
    "dat['genre_list'] = [ast.literal_eval(str(x)) for x in dat['genre_list']]\n",
    "\n",
    "genre_set = set()\n",
    "for row in dat['genre_list']:\n",
    "    for g in row:\n",
    "        genre_set.add(g)\n",
    "dat['released_year'] = pd.to_datetime(dat['released_year'], format='%Y').dt.year.astype(int)\n",
    "\n",
    "dat_filt = dat[dat['released_year']>=2010].drop_duplicates('replace').loc[:, ['replace', 'genre_list', 'top_genre', 'year_q_bin', 'budget_cat',\n",
    "                                                                        'production_company_bin', 'rating', 'source', 'franchise', 'genre_grouped']]\n",
    "prince_features = dat_filt\n",
    "\n",
    "glist_mlb = MultiLabelBinarizer()\n",
    "ggroup_ohe = OneHotEncoder()\n",
    "ybin_ohe = OneHotEncoder()\n",
    "bcat_ohe = OneHotEncoder()\n",
    "rating_ohe = OneHotEncoder()\n",
    "src_ohe = OneHotEncoder()\n",
    "\n",
    "glist = pd.DataFrame(glist_mlb.fit_transform(prince_features['genre_list']).tolist())\n",
    "genregroup = pd.DataFrame(ggroup_ohe.fit_transform(prince_features['genre_grouped'].values.reshape(-1, 1)).toarray().tolist())\n",
    "ybin = pd.DataFrame(ybin_ohe.fit_transform(prince_features['year_q_bin'].astype(str).values.reshape(-1, 1)).toarray().tolist())\n",
    "bcat = pd.DataFrame(bcat_ohe.fit_transform(prince_features['budget_cat'].values.reshape(-1, 1)).toarray().tolist())\n",
    "rating = pd.DataFrame(rating_ohe.fit_transform(prince_features['rating'].values.reshape(-1, 1)).toarray().tolist())\n",
    "src = pd.DataFrame(src_ohe.fit_transform(prince_features['source'].values.reshape(-1, 1)).toarray().tolist())\n",
    "\n",
    "prince_ohe = pd.concat([prince_features.loc[:, 'replace'], glist, genregroup,\n",
    "                        ybin, bcat, rating, src], axis=1)\n",
    "\n",
    "prince_no_ohe = prince_features.iloc[:, 1:]"
   ]
  },
  {
   "cell_type": "code",
   "execution_count": 407,
   "metadata": {},
   "outputs": [],
   "source": [
    "pickle.dump(glist_mlb, open('glist_mlb.pkl', 'wb'))\n",
    "pickle.dump(ggroup_ohe, open('ggroup_ohe.pkl', 'wb'))\n",
    "pickle.dump(ybin_ohe, open('ybin_ohe.pkl', 'wb'))\n",
    "pickle.dump(bcat_ohe, open('bcat_ohe.pkl', 'wb'))\n",
    "pickle.dump(rating_ohe, open('rating_ohe.pkl', 'wb'))\n",
    "pickle.dump(src_ohe, open('src_ohe.pkl', 'wb'))"
   ]
  },
  {
   "cell_type": "code",
   "execution_count": 408,
   "metadata": {},
   "outputs": [
    {
     "data": {
      "text/html": [
       "<div>\n",
       "<style scoped>\n",
       "    .dataframe tbody tr th:only-of-type {\n",
       "        vertical-align: middle;\n",
       "    }\n",
       "\n",
       "    .dataframe tbody tr th {\n",
       "        vertical-align: top;\n",
       "    }\n",
       "\n",
       "    .dataframe thead th {\n",
       "        text-align: right;\n",
       "    }\n",
       "</style>\n",
       "<table border=\"1\" class=\"dataframe\">\n",
       "  <thead>\n",
       "    <tr style=\"text-align: right;\">\n",
       "      <th></th>\n",
       "      <th>replace</th>\n",
       "      <th>0</th>\n",
       "      <th>1</th>\n",
       "      <th>2</th>\n",
       "      <th>3</th>\n",
       "      <th>4</th>\n",
       "      <th>5</th>\n",
       "      <th>6</th>\n",
       "      <th>7</th>\n",
       "      <th>8</th>\n",
       "      <th>...</th>\n",
       "      <th>0</th>\n",
       "      <th>1</th>\n",
       "      <th>2</th>\n",
       "      <th>0</th>\n",
       "      <th>1</th>\n",
       "      <th>2</th>\n",
       "      <th>3</th>\n",
       "      <th>0</th>\n",
       "      <th>1</th>\n",
       "      <th>2</th>\n",
       "    </tr>\n",
       "  </thead>\n",
       "  <tbody>\n",
       "    <tr>\n",
       "      <th>0</th>\n",
       "      <td>Blade Runner 2049</td>\n",
       "      <td>0</td>\n",
       "      <td>0</td>\n",
       "      <td>0</td>\n",
       "      <td>0</td>\n",
       "      <td>0</td>\n",
       "      <td>0</td>\n",
       "      <td>0</td>\n",
       "      <td>0</td>\n",
       "      <td>0</td>\n",
       "      <td>...</td>\n",
       "      <td>1.0</td>\n",
       "      <td>0.0</td>\n",
       "      <td>0.0</td>\n",
       "      <td>0.0</td>\n",
       "      <td>0.0</td>\n",
       "      <td>0.0</td>\n",
       "      <td>1.0</td>\n",
       "      <td>0.0</td>\n",
       "      <td>0.0</td>\n",
       "      <td>1.0</td>\n",
       "    </tr>\n",
       "    <tr>\n",
       "      <th>1</th>\n",
       "      <td>Geostorm</td>\n",
       "      <td>1</td>\n",
       "      <td>0</td>\n",
       "      <td>0</td>\n",
       "      <td>0</td>\n",
       "      <td>0</td>\n",
       "      <td>0</td>\n",
       "      <td>0</td>\n",
       "      <td>0</td>\n",
       "      <td>0</td>\n",
       "      <td>...</td>\n",
       "      <td>1.0</td>\n",
       "      <td>0.0</td>\n",
       "      <td>0.0</td>\n",
       "      <td>0.0</td>\n",
       "      <td>0.0</td>\n",
       "      <td>1.0</td>\n",
       "      <td>0.0</td>\n",
       "      <td>0.0</td>\n",
       "      <td>1.0</td>\n",
       "      <td>0.0</td>\n",
       "    </tr>\n",
       "    <tr>\n",
       "      <th>2</th>\n",
       "      <td>Ready Player One</td>\n",
       "      <td>1</td>\n",
       "      <td>0</td>\n",
       "      <td>0</td>\n",
       "      <td>0</td>\n",
       "      <td>0</td>\n",
       "      <td>0</td>\n",
       "      <td>0</td>\n",
       "      <td>0</td>\n",
       "      <td>0</td>\n",
       "      <td>...</td>\n",
       "      <td>1.0</td>\n",
       "      <td>0.0</td>\n",
       "      <td>0.0</td>\n",
       "      <td>0.0</td>\n",
       "      <td>0.0</td>\n",
       "      <td>1.0</td>\n",
       "      <td>0.0</td>\n",
       "      <td>1.0</td>\n",
       "      <td>0.0</td>\n",
       "      <td>0.0</td>\n",
       "    </tr>\n",
       "    <tr>\n",
       "      <th>3</th>\n",
       "      <td>Fury</td>\n",
       "      <td>1</td>\n",
       "      <td>0</td>\n",
       "      <td>0</td>\n",
       "      <td>0</td>\n",
       "      <td>0</td>\n",
       "      <td>0</td>\n",
       "      <td>0</td>\n",
       "      <td>0</td>\n",
       "      <td>1</td>\n",
       "      <td>...</td>\n",
       "      <td>1.0</td>\n",
       "      <td>0.0</td>\n",
       "      <td>0.0</td>\n",
       "      <td>0.0</td>\n",
       "      <td>0.0</td>\n",
       "      <td>0.0</td>\n",
       "      <td>1.0</td>\n",
       "      <td>0.0</td>\n",
       "      <td>1.0</td>\n",
       "      <td>0.0</td>\n",
       "    </tr>\n",
       "    <tr>\n",
       "      <th>4</th>\n",
       "      <td>Nightcrawler</td>\n",
       "      <td>0</td>\n",
       "      <td>0</td>\n",
       "      <td>0</td>\n",
       "      <td>0</td>\n",
       "      <td>0</td>\n",
       "      <td>0</td>\n",
       "      <td>1</td>\n",
       "      <td>0</td>\n",
       "      <td>1</td>\n",
       "      <td>...</td>\n",
       "      <td>0.0</td>\n",
       "      <td>0.0</td>\n",
       "      <td>1.0</td>\n",
       "      <td>0.0</td>\n",
       "      <td>0.0</td>\n",
       "      <td>0.0</td>\n",
       "      <td>1.0</td>\n",
       "      <td>0.0</td>\n",
       "      <td>1.0</td>\n",
       "      <td>0.0</td>\n",
       "    </tr>\n",
       "    <tr>\n",
       "      <th>...</th>\n",
       "      <td>...</td>\n",
       "      <td>...</td>\n",
       "      <td>...</td>\n",
       "      <td>...</td>\n",
       "      <td>...</td>\n",
       "      <td>...</td>\n",
       "      <td>...</td>\n",
       "      <td>...</td>\n",
       "      <td>...</td>\n",
       "      <td>...</td>\n",
       "      <td>...</td>\n",
       "      <td>...</td>\n",
       "      <td>...</td>\n",
       "      <td>...</td>\n",
       "      <td>...</td>\n",
       "      <td>...</td>\n",
       "      <td>...</td>\n",
       "      <td>...</td>\n",
       "      <td>...</td>\n",
       "      <td>...</td>\n",
       "      <td>...</td>\n",
       "    </tr>\n",
       "    <tr>\n",
       "      <th>525</th>\n",
       "      <td>To All the Boys: P.S. I Still Love You</td>\n",
       "      <td>0</td>\n",
       "      <td>0</td>\n",
       "      <td>0</td>\n",
       "      <td>0</td>\n",
       "      <td>0</td>\n",
       "      <td>0</td>\n",
       "      <td>0</td>\n",
       "      <td>0</td>\n",
       "      <td>1</td>\n",
       "      <td>...</td>\n",
       "      <td>0.0</td>\n",
       "      <td>0.0</td>\n",
       "      <td>1.0</td>\n",
       "      <td>0.0</td>\n",
       "      <td>0.0</td>\n",
       "      <td>1.0</td>\n",
       "      <td>0.0</td>\n",
       "      <td>1.0</td>\n",
       "      <td>0.0</td>\n",
       "      <td>0.0</td>\n",
       "    </tr>\n",
       "    <tr>\n",
       "      <th>526</th>\n",
       "      <td>Chef</td>\n",
       "      <td>0</td>\n",
       "      <td>0</td>\n",
       "      <td>0</td>\n",
       "      <td>0</td>\n",
       "      <td>0</td>\n",
       "      <td>1</td>\n",
       "      <td>0</td>\n",
       "      <td>0</td>\n",
       "      <td>0</td>\n",
       "      <td>...</td>\n",
       "      <td>0.0</td>\n",
       "      <td>0.0</td>\n",
       "      <td>1.0</td>\n",
       "      <td>0.0</td>\n",
       "      <td>0.0</td>\n",
       "      <td>0.0</td>\n",
       "      <td>1.0</td>\n",
       "      <td>0.0</td>\n",
       "      <td>0.0</td>\n",
       "      <td>1.0</td>\n",
       "    </tr>\n",
       "    <tr>\n",
       "      <th>527</th>\n",
       "      <td>A Street Cat Named Bob</td>\n",
       "      <td>0</td>\n",
       "      <td>0</td>\n",
       "      <td>0</td>\n",
       "      <td>0</td>\n",
       "      <td>0</td>\n",
       "      <td>1</td>\n",
       "      <td>0</td>\n",
       "      <td>0</td>\n",
       "      <td>0</td>\n",
       "      <td>...</td>\n",
       "      <td>0.0</td>\n",
       "      <td>0.0</td>\n",
       "      <td>1.0</td>\n",
       "      <td>0.0</td>\n",
       "      <td>0.0</td>\n",
       "      <td>1.0</td>\n",
       "      <td>0.0</td>\n",
       "      <td>1.0</td>\n",
       "      <td>0.0</td>\n",
       "      <td>0.0</td>\n",
       "    </tr>\n",
       "    <tr>\n",
       "      <th>528</th>\n",
       "      <td>Behind the Candelabra</td>\n",
       "      <td>0</td>\n",
       "      <td>0</td>\n",
       "      <td>0</td>\n",
       "      <td>0</td>\n",
       "      <td>1</td>\n",
       "      <td>0</td>\n",
       "      <td>0</td>\n",
       "      <td>0</td>\n",
       "      <td>1</td>\n",
       "      <td>...</td>\n",
       "      <td>0.0</td>\n",
       "      <td>0.0</td>\n",
       "      <td>1.0</td>\n",
       "      <td>0.0</td>\n",
       "      <td>0.0</td>\n",
       "      <td>0.0</td>\n",
       "      <td>1.0</td>\n",
       "      <td>1.0</td>\n",
       "      <td>0.0</td>\n",
       "      <td>0.0</td>\n",
       "    </tr>\n",
       "    <tr>\n",
       "      <th>529</th>\n",
       "      <td>Looper</td>\n",
       "      <td>1</td>\n",
       "      <td>0</td>\n",
       "      <td>0</td>\n",
       "      <td>0</td>\n",
       "      <td>0</td>\n",
       "      <td>0</td>\n",
       "      <td>1</td>\n",
       "      <td>0</td>\n",
       "      <td>0</td>\n",
       "      <td>...</td>\n",
       "      <td>0.0</td>\n",
       "      <td>0.0</td>\n",
       "      <td>1.0</td>\n",
       "      <td>0.0</td>\n",
       "      <td>0.0</td>\n",
       "      <td>0.0</td>\n",
       "      <td>1.0</td>\n",
       "      <td>0.0</td>\n",
       "      <td>1.0</td>\n",
       "      <td>0.0</td>\n",
       "    </tr>\n",
       "  </tbody>\n",
       "</table>\n",
       "<p>530 rows × 47 columns</p>\n",
       "</div>"
      ],
      "text/plain": [
       "                                    replace  0  1  2  3  4  5  6  7  8  ...  \\\n",
       "0                         Blade Runner 2049  0  0  0  0  0  0  0  0  0  ...   \n",
       "1                                  Geostorm  1  0  0  0  0  0  0  0  0  ...   \n",
       "2                          Ready Player One  1  0  0  0  0  0  0  0  0  ...   \n",
       "3                                      Fury  1  0  0  0  0  0  0  0  1  ...   \n",
       "4                              Nightcrawler  0  0  0  0  0  0  1  0  1  ...   \n",
       "..                                      ... .. .. .. .. .. .. .. .. ..  ...   \n",
       "525  To All the Boys: P.S. I Still Love You  0  0  0  0  0  0  0  0  1  ...   \n",
       "526                                    Chef  0  0  0  0  0  1  0  0  0  ...   \n",
       "527                  A Street Cat Named Bob  0  0  0  0  0  1  0  0  0  ...   \n",
       "528                   Behind the Candelabra  0  0  0  0  1  0  0  0  1  ...   \n",
       "529                                  Looper  1  0  0  0  0  0  1  0  0  ...   \n",
       "\n",
       "       0    1    2    0    1    2    3    0    1    2  \n",
       "0    1.0  0.0  0.0  0.0  0.0  0.0  1.0  0.0  0.0  1.0  \n",
       "1    1.0  0.0  0.0  0.0  0.0  1.0  0.0  0.0  1.0  0.0  \n",
       "2    1.0  0.0  0.0  0.0  0.0  1.0  0.0  1.0  0.0  0.0  \n",
       "3    1.0  0.0  0.0  0.0  0.0  0.0  1.0  0.0  1.0  0.0  \n",
       "4    0.0  0.0  1.0  0.0  0.0  0.0  1.0  0.0  1.0  0.0  \n",
       "..   ...  ...  ...  ...  ...  ...  ...  ...  ...  ...  \n",
       "525  0.0  0.0  1.0  0.0  0.0  1.0  0.0  1.0  0.0  0.0  \n",
       "526  0.0  0.0  1.0  0.0  0.0  0.0  1.0  0.0  0.0  1.0  \n",
       "527  0.0  0.0  1.0  0.0  0.0  1.0  0.0  1.0  0.0  0.0  \n",
       "528  0.0  0.0  1.0  0.0  0.0  0.0  1.0  1.0  0.0  0.0  \n",
       "529  0.0  0.0  1.0  0.0  0.0  0.0  1.0  0.0  1.0  0.0  \n",
       "\n",
       "[530 rows x 47 columns]"
      ]
     },
     "execution_count": 408,
     "metadata": {},
     "output_type": "execute_result"
    }
   ],
   "source": [
    "prince_ohe"
   ]
  },
  {
   "cell_type": "code",
   "execution_count": 409,
   "metadata": {},
   "outputs": [
    {
     "data": {
      "text/html": [
       "<div>\n",
       "<style scoped>\n",
       "    .dataframe tbody tr th:only-of-type {\n",
       "        vertical-align: middle;\n",
       "    }\n",
       "\n",
       "    .dataframe tbody tr th {\n",
       "        vertical-align: top;\n",
       "    }\n",
       "\n",
       "    .dataframe thead th {\n",
       "        text-align: right;\n",
       "    }\n",
       "</style>\n",
       "<table border=\"1\" class=\"dataframe\">\n",
       "  <thead>\n",
       "    <tr style=\"text-align: right;\">\n",
       "      <th></th>\n",
       "      <th>0</th>\n",
       "      <th>1</th>\n",
       "    </tr>\n",
       "  </thead>\n",
       "  <tbody>\n",
       "    <tr>\n",
       "      <th>0</th>\n",
       "      <td>0.325748</td>\n",
       "      <td>-0.817746</td>\n",
       "    </tr>\n",
       "    <tr>\n",
       "      <th>1</th>\n",
       "      <td>0.268105</td>\n",
       "      <td>-0.742653</td>\n",
       "    </tr>\n",
       "    <tr>\n",
       "      <th>2</th>\n",
       "      <td>0.207836</td>\n",
       "      <td>-0.829028</td>\n",
       "    </tr>\n",
       "    <tr>\n",
       "      <th>3</th>\n",
       "      <td>-0.283408</td>\n",
       "      <td>-0.034750</td>\n",
       "    </tr>\n",
       "    <tr>\n",
       "      <th>4</th>\n",
       "      <td>-0.924838</td>\n",
       "      <td>-0.377839</td>\n",
       "    </tr>\n",
       "    <tr>\n",
       "      <th>...</th>\n",
       "      <td>...</td>\n",
       "      <td>...</td>\n",
       "    </tr>\n",
       "    <tr>\n",
       "      <th>525</th>\n",
       "      <td>-0.511125</td>\n",
       "      <td>0.669818</td>\n",
       "    </tr>\n",
       "    <tr>\n",
       "      <th>526</th>\n",
       "      <td>-0.196507</td>\n",
       "      <td>0.137547</td>\n",
       "    </tr>\n",
       "    <tr>\n",
       "      <th>527</th>\n",
       "      <td>0.046148</td>\n",
       "      <td>0.265358</td>\n",
       "    </tr>\n",
       "    <tr>\n",
       "      <th>528</th>\n",
       "      <td>-0.784380</td>\n",
       "      <td>1.259520</td>\n",
       "    </tr>\n",
       "    <tr>\n",
       "      <th>529</th>\n",
       "      <td>-0.637114</td>\n",
       "      <td>-0.796287</td>\n",
       "    </tr>\n",
       "  </tbody>\n",
       "</table>\n",
       "<p>530 rows × 2 columns</p>\n",
       "</div>"
      ],
      "text/plain": [
       "            0         1\n",
       "0    0.325748 -0.817746\n",
       "1    0.268105 -0.742653\n",
       "2    0.207836 -0.829028\n",
       "3   -0.283408 -0.034750\n",
       "4   -0.924838 -0.377839\n",
       "..        ...       ...\n",
       "525 -0.511125  0.669818\n",
       "526 -0.196507  0.137547\n",
       "527  0.046148  0.265358\n",
       "528 -0.784380  1.259520\n",
       "529 -0.637114 -0.796287\n",
       "\n",
       "[530 rows x 2 columns]"
      ]
     },
     "execution_count": 409,
     "metadata": {},
     "output_type": "execute_result"
    }
   ],
   "source": [
    "mca = prince.MCA()\n",
    "\n",
    "mca = mca.fit(prince_ohe.iloc[:, 1:])\n",
    "res = mca.transform(prince_ohe.iloc[:, 1:])\n",
    "res"
   ]
  },
  {
   "cell_type": "markdown",
   "metadata": {},
   "source": [
    "## Fit Kmeans on results with ohe"
   ]
  },
  {
   "cell_type": "markdown",
   "metadata": {},
   "source": [
    "##### Find optimal clusters using silhouette"
   ]
  },
  {
   "cell_type": "code",
   "execution_count": 303,
   "metadata": {},
   "outputs": [
    {
     "name": "stdout",
     "output_type": "stream",
     "text": [
      "Silhouette score for 2 clusters is 0.4286601560585792\n",
      "Silhouette score for 3 clusters is 0.49056413576754493\n",
      "Silhouette score for 4 clusters is 0.5102565872503908\n",
      "Silhouette score for 5 clusters is 0.5008640484131194\n",
      "Silhouette score for 6 clusters is 0.4569264298048357\n",
      "Silhouette score for 7 clusters is 0.44322918080432194\n",
      "Silhouette score for 8 clusters is 0.4599250467639537\n",
      "Silhouette score for 9 clusters is 0.431639650637295\n",
      "Silhouette score for 10 clusters is 0.4278834860510571\n"
     ]
    }
   ],
   "source": [
    "for n_clusters in list(range(2, 11)):\n",
    "    km = KMeans(n_clusters=n_clusters, n_init=1000)\n",
    "    preds = km.fit_predict(res)\n",
    "    \n",
    "    print('Silhouette score for {} clusters is {}'.format(n_clusters, silhouette_score(res, preds)))"
   ]
  },
  {
   "cell_type": "markdown",
   "metadata": {},
   "source": [
    "##### Find optimal clusters using elbow plot"
   ]
  },
  {
   "cell_type": "code",
   "execution_count": 304,
   "metadata": {},
   "outputs": [],
   "source": [
    "dist = []\n",
    "for x in list(range(2, 11)):\n",
    "    km = KMeans(n_clusters=x, n_init=1000)\n",
    "    km.fit(res)\n",
    "    dist.append(km.inertia_)"
   ]
  },
  {
   "cell_type": "code",
   "execution_count": 305,
   "metadata": {
    "scrolled": false
   },
   "outputs": [
    {
     "data": {
      "image/png": "[encoded data removed]",
      "text/plain": [
       "<Figure size 811.44x595.44 with 1 Axes>"
      ]
     },
     "metadata": {
      "needs_background": "light"
     },
     "output_type": "display_data"
    }
   ],
   "source": [
    "plt.figure(figsize=(11.27, 8.27))\n",
    "plt.plot(list(range(2, 11)), dist)\n",
    "plt.xticks(list(range(2, 11)))\n",
    "plt.show()"
   ]
  },
  {
   "cell_type": "markdown",
   "metadata": {},
   "source": [
    "## Fit KMeans with optimal clusters"
   ]
  },
  {
   "cell_type": "code",
   "execution_count": 410,
   "metadata": {},
   "outputs": [],
   "source": [
    "km3 = KMeans(n_clusters=3, n_init=10000)\n",
    "preds_optimal_3 = km3.fit_predict(res)"
   ]
  },
  {
   "cell_type": "code",
   "execution_count": 411,
   "metadata": {},
   "outputs": [],
   "source": [
    "dat['clusters_3'] = preds_optimal_3"
   ]
  },
  {
   "cell_type": "code",
   "execution_count": 412,
   "metadata": {},
   "outputs": [],
   "source": [
    "km4 = KMeans(n_clusters=4, n_init=10000)\n",
    "preds_optimal_4 = km4.fit_predict(res)"
   ]
  },
  {
   "cell_type": "code",
   "execution_count": 413,
   "metadata": {},
   "outputs": [],
   "source": [
    "dat['clusters_4'] = preds_optimal_4"
   ]
  },
  {
   "cell_type": "code",
   "execution_count": 414,
   "metadata": {},
   "outputs": [],
   "source": [
    "km5 = KMeans(n_clusters=5, n_init=10000)\n",
    "preds_optimal_5 = km5.fit_predict(res)"
   ]
  },
  {
   "cell_type": "code",
   "execution_count": 415,
   "metadata": {},
   "outputs": [],
   "source": []
  },
  {
   "cell_type": "markdown",
   "metadata": {},
   "source": [
    "## Save K-Means clusters"
   ]
  },
  {
   "cell_type": "code",
   "execution_count": 416,
   "metadata": {},
   "outputs": [],
   "source": [
    "dat.to_csv('alex_clusters.csv')"
   ]
  },
  {
   "cell_type": "code",
   "execution_count": 417,
   "metadata": {},
   "outputs": [],
   "source": [
    "pickle.dump(mca, open('mca.pkl', 'wb'))\n",
    "pickle.dump(km3, open('kmeans3.pkl', 'wb'))\n",
    "pickle.dump(km4, open('kmeans4.pkl', 'wb'))\n",
    "pickle.dump(km5, open('kmeans5.pkl', 'wb'))"
   ]
  },
  {
   "cell_type": "markdown",
   "metadata": {},
   "source": [
    "## Test prediction using loaded models"
   ]
  },
  {
   "cell_type": "code",
   "execution_count": 4,
   "metadata": {},
   "outputs": [],
   "source": [
    "predict = dat[(dat['released_year']>=2010)&(dat['replace']=='Looper')]\\\n",
    "            .drop_duplicates('replace').loc[:, ['genre_list', 'genre_grouped', 'year_q_bin', 'budget_cat', \n",
    "                                                'rating', 'source']]"
   ]
  },
  {
   "cell_type": "code",
   "execution_count": 5,
   "metadata": {
    "scrolled": true
   },
   "outputs": [],
   "source": [
    "glist_mlb = pickle.load(open('glist_mlb.pkl', 'rb'))\n",
    "ggroup_ohe = pickle.load(open('ggroup_ohe.pkl', 'rb'))\n",
    "ybin_ohe = pickle.load(open('ybin_ohe.pkl', 'rb'))\n",
    "bcat_ohe = pickle.load(open('bcat_ohe.pkl', 'rb'))\n",
    "rating_ohe = pickle.load(open('rating_ohe.pkl', 'rb'))\n",
    "src_ohe = pickle.load(open('src_ohe.pkl', 'rb'))"
   ]
  },
  {
   "cell_type": "code",
   "execution_count": 6,
   "metadata": {},
   "outputs": [
    {
     "name": "stderr",
     "output_type": "stream",
     "text": [
      "c:\\users\\alex\\appdata\\local\\programs\\python\\python38\\lib\\site-packages\\sklearn\\preprocessing\\_label.py:986: UserWarning: unknown class(es) [' ', \"'\", ',', 'A', 'C', 'F', 'S', 'T', '[', ']', 'c', 'e', 'h', 'i', 'l', 'm', 'n', 'o', 'r', 't'] will be ignored\n",
      "  warnings.warn('unknown class(es) {0} will be ignored'\n"
     ]
    }
   ],
   "source": [
    "predict_features = pd.concat([pd.DataFrame(glist_mlb.transform(predict['genre_list']).tolist()),\n",
    "                              pd.DataFrame(ggroup_ohe.transform(predict['genre_grouped'].values.reshape(-1, 1)).toarray().tolist()),\n",
    "                              pd.DataFrame(ybin_ohe.transform(predict['year_q_bin'].astype(str).values.reshape(-1, 1)).toarray().tolist()),\n",
    "                              pd.DataFrame(bcat_ohe.transform(predict['budget_cat'].values.reshape(-1, 1)).toarray().tolist()),\n",
    "                              pd.DataFrame(rating_ohe.transform(predict['rating'].values.reshape(-1, 1)).toarray().tolist()),\n",
    "                              pd.DataFrame(src_ohe.transform(predict['source'].values.reshape(-1, 1)).toarray().tolist())], axis=1)"
   ]
  },
  {
   "cell_type": "code",
   "execution_count": 379,
   "metadata": {},
   "outputs": [],
   "source": [
    "mca = pickle.load(open('mca.pkl', 'rb'))\n",
    "predict_test = mca.transform(predict_features)"
   ]
  },
  {
   "cell_type": "code",
   "execution_count": 400,
   "metadata": {},
   "outputs": [
    {
     "data": {
      "text/plain": [
       "array([1])"
      ]
     },
     "execution_count": 400,
     "metadata": {},
     "output_type": "execute_result"
    }
   ],
   "source": [
    "km = pickle.load(open('kmeans3.pkl', 'rb'))\n",
    "km.predict(predict_test)"
   ]
  },
  {
   "cell_type": "markdown",
   "metadata": {},
   "source": [
    "# K-Modes"
   ]
  },
  {
   "cell_type": "code",
   "execution_count": 60,
   "metadata": {},
   "outputs": [],
   "source": [
    "filt = dat.drop_duplicates(['replace'])\n",
    "encoded = filt.loc[:, ['genre_grouped', 'year_q_bin', 'budget_cat',\n",
    "                       'production_company_bin', 'rating', 'franchise']]\n",
    "le_genre = LabelEncoder()\n",
    "le_year = LabelEncoder()\n",
    "le_budget = LabelEncoder()\n",
    "le_production = LabelEncoder()\n",
    "le_rating = LabelEncoder()\n",
    "le_source = LabelEncoder()\n",
    "le_franchise = LabelEncoder()\n",
    "\n",
    "encoded['genre_le'] = le_genre.fit_transform(encoded['genre_grouped'])\n",
    "encoded['year_le'] = le_year.fit_transform(encoded['year_q_bin'])\n",
    "encoded['budget_le'] = le_budget.fit_transform(encoded['budget_cat'])\n",
    "encoded['production_le'] = le_production.fit_transform(encoded['production_company_bin'])\n",
    "encoded['rating_le'] = le_rating.fit_transform(encoded['rating'])\n",
    "# encoded['source_le'] = le_source.fit_transform(encoded['source'])\n",
    "encoded['franchise_le'] = le_franchise.fit_transform(encoded['franchise'])\n",
    "\n",
    "feat = encoded.loc[:, ['genre_le', 'year_le', 'budget_le', 'production_le', \n",
    "                       'rating_le', 'franchise_le']]"
   ]
  },
  {
   "cell_type": "markdown",
   "metadata": {},
   "source": [
    "# KModes"
   ]
  },
  {
   "cell_type": "code",
   "execution_count": 61,
   "metadata": {},
   "outputs": [
    {
     "name": "stdout",
     "output_type": "stream",
     "text": [
      "Init: initializing centroids\n",
      "Init: initializing clusters\n",
      "Starting iterations...\n",
      "Run 1, iteration: 1/100, moves: 57, cost: 1387.0\n"
     ]
    }
   ],
   "source": [
    "km = KModes(n_clusters=5, init='Cao', verbose=1, n_init=1)\n",
    "clusters = km.fit_predict(feat)"
   ]
  },
  {
   "cell_type": "code",
   "execution_count": 63,
   "metadata": {},
   "outputs": [],
   "source": [
    "cost = []\n",
    "for clust in range(2, 21):\n",
    "    km = KModes(n_clusters=clust, init='Huang', verbose=0)\n",
    "    km.fit_predict(feat)\n",
    "    cost.append(km.cost_)"
   ]
  },
  {
   "cell_type": "code",
   "execution_count": 64,
   "metadata": {},
   "outputs": [
    {
     "data": {
      "image/png": "[encoded data removed]",
      "text/plain": [
       "<Figure size 811.44x595.44 with 1 Axes>"
      ]
     },
     "metadata": {
      "needs_background": "light"
     },
     "output_type": "display_data"
    }
   ],
   "source": [
    "plt.figure(figsize=(11.27, 8.27))\n",
    "plt.plot(list(range(2, 21)), cost)\n",
    "plt.xticks(list(range(2, 21)))\n",
    "plt.show()"
   ]
  },
  {
   "cell_type": "code",
   "execution_count": 65,
   "metadata": {},
   "outputs": [],
   "source": [
    "cost = []\n",
    "for clust in range(2, 21):\n",
    "    km = KModes(n_clusters=clust, init='Cao', verbose=0)\n",
    "    km.fit_predict(feat)\n",
    "    cost.append(km.cost_)"
   ]
  },
  {
   "cell_type": "code",
   "execution_count": 66,
   "metadata": {},
   "outputs": [
    {
     "data": {
      "image/png": "[encoded data removed]",
      "text/plain": [
       "<Figure size 811.44x595.44 with 1 Axes>"
      ]
     },
     "metadata": {
      "needs_background": "light"
     },
     "output_type": "display_data"
    }
   ],
   "source": [
    "plt.figure(figsize=(11.27, 8.27))\n",
    "plt.plot(list(range(2, 21)), cost)\n",
    "plt.xticks(list(range(2, 21)))\n",
    "plt.show()"
   ]
  },
  {
   "cell_type": "code",
   "execution_count": 105,
   "metadata": {},
   "outputs": [
    {
     "data": {
      "text/plain": [
       "array([[4, 6, 2, 2, 2, 0],\n",
       "       [0, 0, 0, 0, 3, 1],\n",
       "       [2, 5, 0, 1, 1, 0],\n",
       "       [8, 5, 2, 0, 3, 0],\n",
       "       [1, 3, 0, 0, 2, 1]], dtype=int64)"
      ]
     },
     "execution_count": 105,
     "metadata": {},
     "output_type": "execute_result"
    }
   ],
   "source": [
    "km."
   ]
  },
  {
   "cell_type": "code",
   "execution_count": 67,
   "metadata": {},
   "outputs": [
    {
     "name": "stdout",
     "output_type": "stream",
     "text": [
      "Init: initializing centroids\n",
      "Init: initializing clusters\n",
      "Starting iterations...\n",
      "Run 1, iteration: 1/100, moves: 57, cost: 1387.0\n"
     ]
    }
   ],
   "source": [
    "km = KModes(n_clusters=5, init='Cao', verbose=1, n_init=1)\n",
    "clusters = km.fit_predict(feat)"
   ]
  },
  {
   "cell_type": "code",
   "execution_count": 69,
   "metadata": {},
   "outputs": [],
   "source": [
    "dat.loc[:, 'cluster'] = clusters"
   ]
  },
  {
   "cell_type": "markdown",
   "metadata": {},
   "source": [
    "# CLARANS"
   ]
  },
  {
   "cell_type": "code",
   "execution_count": 76,
   "metadata": {},
   "outputs": [],
   "source": [
    "enc_list = np.array(feat.values).tolist()"
   ]
  },
  {
   "cell_type": "code",
   "execution_count": 109,
   "metadata": {},
   "outputs": [
    {
     "data": {
      "text/plain": [
       "<pyclustering.cluster.clarans.clarans at 0x1d4716bbb50>"
      ]
     },
     "execution_count": 109,
     "metadata": {},
     "output_type": "execute_result"
    }
   ],
   "source": [
    "clar = clarans(enc_list, 8, 50, 10)\n",
    "clar.process()"
   ]
  },
  {
   "cell_type": "code",
   "execution_count": 112,
   "metadata": {},
   "outputs": [],
   "source": [
    "centers = filt.iloc[clar.get_medoids(), :]\n",
    "centers.to_csv('alex_CLARANS_centers.csv')"
   ]
  },
  {
   "cell_type": "markdown",
   "metadata": {},
   "source": [
    "## Search for optimal number of clusters"
   ]
  },
  {
   "cell_type": "code",
   "execution_count": 77,
   "metadata": {},
   "outputs": [
    {
     "data": {
      "text/plain": [
       "6"
      ]
     },
     "execution_count": 77,
     "metadata": {},
     "output_type": "execute_result"
    }
   ],
   "source": [
    "search_instace = silhouette_ksearch(enc_list, 5, 20, \n",
    "                                    algorithm=silhouette_ksearch_type.KMEDOIDS).process()\n",
    "amt = search_instace.get_amount()\n",
    "amt"
   ]
  },
  {
   "cell_type": "code",
   "execution_count": 79,
   "metadata": {},
   "outputs": [
    {
     "data": {
      "text/plain": [
       "<pyclustering.cluster.clarans.clarans at 0x1af0c685d00>"
      ]
     },
     "execution_count": 79,
     "metadata": {},
     "output_type": "execute_result"
    }
   ],
   "source": [
    "clar = clarans(enc_list, amt, 30, 8)\n",
    "clar.process()"
   ]
  },
  {
   "cell_type": "code",
   "execution_count": 82,
   "metadata": {},
   "outputs": [],
   "source": [
    "for x in list(enumerate(clar.get_clusters())):\n",
    "    for ind in x[1]:\n",
    "        dat.at[ind, 'clarans_cluster'] = int(x[0])"
   ]
  },
  {
   "cell_type": "code",
   "execution_count": 104,
   "metadata": {
    "scrolled": false
   },
   "outputs": [
    {
     "data": {
      "text/html": [
       "<div>\n",
       "<style scoped>\n",
       "    .dataframe tbody tr th:only-of-type {\n",
       "        vertical-align: middle;\n",
       "    }\n",
       "\n",
       "    .dataframe tbody tr th {\n",
       "        vertical-align: top;\n",
       "    }\n",
       "\n",
       "    .dataframe thead th {\n",
       "        text-align: right;\n",
       "    }\n",
       "</style>\n",
       "<table border=\"1\" class=\"dataframe\">\n",
       "  <thead>\n",
       "    <tr style=\"text-align: right;\">\n",
       "      <th></th>\n",
       "      <th>replace</th>\n",
       "      <th>genre_grouped</th>\n",
       "      <th>year_q_bin</th>\n",
       "      <th>budget_cat</th>\n",
       "      <th>production_company_bin</th>\n",
       "      <th>rating</th>\n",
       "      <th>franchise</th>\n",
       "      <th>genre_le</th>\n",
       "      <th>year_le</th>\n",
       "      <th>budget_le</th>\n",
       "      <th>production_le</th>\n",
       "      <th>rating_le</th>\n",
       "      <th>franchise_le</th>\n",
       "    </tr>\n",
       "  </thead>\n",
       "  <tbody>\n",
       "    <tr>\n",
       "      <th>0</th>\n",
       "      <td>Blade Runner 2049</td>\n",
       "      <td>Fantasy</td>\n",
       "      <td>5</td>\n",
       "      <td>HighBudget</td>\n",
       "      <td>Top5</td>\n",
       "      <td>R</td>\n",
       "      <td>Yes</td>\n",
       "      <td>NaN</td>\n",
       "      <td>NaN</td>\n",
       "      <td>NaN</td>\n",
       "      <td>NaN</td>\n",
       "      <td>NaN</td>\n",
       "      <td>NaN</td>\n",
       "    </tr>\n",
       "    <tr>\n",
       "      <th>4</th>\n",
       "      <td>Nightcrawler</td>\n",
       "      <td>Thriller</td>\n",
       "      <td>2</td>\n",
       "      <td>MediumBudget</td>\n",
       "      <td>Top100+</td>\n",
       "      <td>R</td>\n",
       "      <td>No</td>\n",
       "      <td>NaN</td>\n",
       "      <td>NaN</td>\n",
       "      <td>NaN</td>\n",
       "      <td>NaN</td>\n",
       "      <td>NaN</td>\n",
       "      <td>NaN</td>\n",
       "    </tr>\n",
       "    <tr>\n",
       "      <th>5</th>\n",
       "      <td>Crimson Peak</td>\n",
       "      <td>Horror</td>\n",
       "      <td>3</td>\n",
       "      <td>HighBudget</td>\n",
       "      <td>Top5</td>\n",
       "      <td>R</td>\n",
       "      <td>No</td>\n",
       "      <td>NaN</td>\n",
       "      <td>NaN</td>\n",
       "      <td>NaN</td>\n",
       "      <td>NaN</td>\n",
       "      <td>NaN</td>\n",
       "      <td>NaN</td>\n",
       "    </tr>\n",
       "    <tr>\n",
       "      <th>10</th>\n",
       "      <td>Lone Survivor</td>\n",
       "      <td>Thriller</td>\n",
       "      <td>1</td>\n",
       "      <td>MediumBudget</td>\n",
       "      <td>Top5</td>\n",
       "      <td>R</td>\n",
       "      <td>No</td>\n",
       "      <td>NaN</td>\n",
       "      <td>NaN</td>\n",
       "      <td>NaN</td>\n",
       "      <td>NaN</td>\n",
       "      <td>NaN</td>\n",
       "      <td>NaN</td>\n",
       "    </tr>\n",
       "    <tr>\n",
       "      <th>11</th>\n",
       "      <td>The Expendables 3</td>\n",
       "      <td>Thriller</td>\n",
       "      <td>2</td>\n",
       "      <td>HighBudget</td>\n",
       "      <td>Top100</td>\n",
       "      <td>PG-13</td>\n",
       "      <td>Yes</td>\n",
       "      <td>NaN</td>\n",
       "      <td>NaN</td>\n",
       "      <td>NaN</td>\n",
       "      <td>NaN</td>\n",
       "      <td>NaN</td>\n",
       "      <td>NaN</td>\n",
       "    </tr>\n",
       "    <tr>\n",
       "      <th>...</th>\n",
       "      <td>...</td>\n",
       "      <td>...</td>\n",
       "      <td>...</td>\n",
       "      <td>...</td>\n",
       "      <td>...</td>\n",
       "      <td>...</td>\n",
       "      <td>...</td>\n",
       "      <td>...</td>\n",
       "      <td>...</td>\n",
       "      <td>...</td>\n",
       "      <td>...</td>\n",
       "      <td>...</td>\n",
       "      <td>...</td>\n",
       "    </tr>\n",
       "    <tr>\n",
       "      <th>534</th>\n",
       "      <td>Annabelle</td>\n",
       "      <td>Horror</td>\n",
       "      <td>2</td>\n",
       "      <td>MediumBudget</td>\n",
       "      <td>Top5</td>\n",
       "      <td>R</td>\n",
       "      <td>Yes</td>\n",
       "      <td>NaN</td>\n",
       "      <td>NaN</td>\n",
       "      <td>NaN</td>\n",
       "      <td>NaN</td>\n",
       "      <td>NaN</td>\n",
       "      <td>NaN</td>\n",
       "    </tr>\n",
       "    <tr>\n",
       "      <th>540</th>\n",
       "      <td>Black Swan*</td>\n",
       "      <td>Thriller</td>\n",
       "      <td>1</td>\n",
       "      <td>MediumBudget</td>\n",
       "      <td>Top100</td>\n",
       "      <td>R</td>\n",
       "      <td>No</td>\n",
       "      <td>NaN</td>\n",
       "      <td>NaN</td>\n",
       "      <td>NaN</td>\n",
       "      <td>NaN</td>\n",
       "      <td>NaN</td>\n",
       "      <td>NaN</td>\n",
       "    </tr>\n",
       "    <tr>\n",
       "      <th>546</th>\n",
       "      <td>Fight Club*</td>\n",
       "      <td>Thriller</td>\n",
       "      <td>1</td>\n",
       "      <td>HighBudget</td>\n",
       "      <td>Top100</td>\n",
       "      <td>R</td>\n",
       "      <td>No</td>\n",
       "      <td>NaN</td>\n",
       "      <td>NaN</td>\n",
       "      <td>NaN</td>\n",
       "      <td>NaN</td>\n",
       "      <td>NaN</td>\n",
       "      <td>NaN</td>\n",
       "    </tr>\n",
       "    <tr>\n",
       "      <th>561</th>\n",
       "      <td>Looper</td>\n",
       "      <td>Thriller</td>\n",
       "      <td>1</td>\n",
       "      <td>MediumBudget</td>\n",
       "      <td>Top100+</td>\n",
       "      <td>R</td>\n",
       "      <td>No</td>\n",
       "      <td>NaN</td>\n",
       "      <td>NaN</td>\n",
       "      <td>NaN</td>\n",
       "      <td>NaN</td>\n",
       "      <td>NaN</td>\n",
       "      <td>NaN</td>\n",
       "    </tr>\n",
       "    <tr>\n",
       "      <th>562</th>\n",
       "      <td>Halloween II</td>\n",
       "      <td>Horror</td>\n",
       "      <td>1</td>\n",
       "      <td>MediumBudget</td>\n",
       "      <td>Top5</td>\n",
       "      <td>R</td>\n",
       "      <td>Yes</td>\n",
       "      <td>NaN</td>\n",
       "      <td>NaN</td>\n",
       "      <td>NaN</td>\n",
       "      <td>NaN</td>\n",
       "      <td>NaN</td>\n",
       "      <td>NaN</td>\n",
       "    </tr>\n",
       "  </tbody>\n",
       "</table>\n",
       "<p>90 rows × 13 columns</p>\n",
       "</div>"
      ],
      "text/plain": [
       "               replace genre_grouped  year_q_bin    budget_cat  \\\n",
       "0    Blade Runner 2049       Fantasy           5    HighBudget   \n",
       "4         Nightcrawler      Thriller           2  MediumBudget   \n",
       "5         Crimson Peak        Horror           3    HighBudget   \n",
       "10       Lone Survivor      Thriller           1  MediumBudget   \n",
       "11   The Expendables 3      Thriller           2    HighBudget   \n",
       "..                 ...           ...         ...           ...   \n",
       "534          Annabelle        Horror           2  MediumBudget   \n",
       "540        Black Swan*      Thriller           1  MediumBudget   \n",
       "546        Fight Club*      Thriller           1    HighBudget   \n",
       "561             Looper      Thriller           1  MediumBudget   \n",
       "562       Halloween II        Horror           1  MediumBudget   \n",
       "\n",
       "    production_company_bin rating franchise  genre_le  year_le  budget_le  \\\n",
       "0                     Top5      R       Yes       NaN      NaN        NaN   \n",
       "4                  Top100+      R        No       NaN      NaN        NaN   \n",
       "5                     Top5      R        No       NaN      NaN        NaN   \n",
       "10                    Top5      R        No       NaN      NaN        NaN   \n",
       "11                  Top100  PG-13       Yes       NaN      NaN        NaN   \n",
       "..                     ...    ...       ...       ...      ...        ...   \n",
       "534                   Top5      R       Yes       NaN      NaN        NaN   \n",
       "540                 Top100      R        No       NaN      NaN        NaN   \n",
       "546                 Top100      R        No       NaN      NaN        NaN   \n",
       "561                Top100+      R        No       NaN      NaN        NaN   \n",
       "562                   Top5      R       Yes       NaN      NaN        NaN   \n",
       "\n",
       "     production_le  rating_le  franchise_le  \n",
       "0              NaN        NaN           NaN  \n",
       "4              NaN        NaN           NaN  \n",
       "5              NaN        NaN           NaN  \n",
       "10             NaN        NaN           NaN  \n",
       "11             NaN        NaN           NaN  \n",
       "..             ...        ...           ...  \n",
       "534            NaN        NaN           NaN  \n",
       "540            NaN        NaN           NaN  \n",
       "546            NaN        NaN           NaN  \n",
       "561            NaN        NaN           NaN  \n",
       "562            NaN        NaN           NaN  \n",
       "\n",
       "[90 rows x 13 columns]"
      ]
     },
     "execution_count": 104,
     "metadata": {},
     "output_type": "execute_result"
    }
   ],
   "source": [
    "dat[dat['clarans_cluster']==5].loc[:, ['replace'] + list(encoded.columns)]"
   ]
  },
  {
   "cell_type": "code",
   "execution_count": 49,
   "metadata": {},
   "outputs": [],
   "source": [
    "pd.DataFrame(clar.get_medoids()).to_csv('alex_CLARANS_centers.csv')\n",
    "pd.DataFrame(clar.get_clusters()).to_csv('alex_CLARANS_clusters.csv')"
   ]
  },
  {
   "cell_type": "markdown",
   "metadata": {},
   "source": [
    "## Load clusters and centers to observe their accuracy"
   ]
  },
  {
   "cell_type": "code",
   "execution_count": 9,
   "metadata": {},
   "outputs": [],
   "source": [
    "clust = pd.read_csv('alex_CLARANS_clusters.csv')"
   ]
  },
  {
   "cell_type": "code",
   "execution_count": 10,
   "metadata": {},
   "outputs": [
    {
     "data": {
      "text/html": [
       "<div>\n",
       "<style scoped>\n",
       "    .dataframe tbody tr th:only-of-type {\n",
       "        vertical-align: middle;\n",
       "    }\n",
       "\n",
       "    .dataframe tbody tr th {\n",
       "        vertical-align: top;\n",
       "    }\n",
       "\n",
       "    .dataframe thead th {\n",
       "        text-align: right;\n",
       "    }\n",
       "</style>\n",
       "<table border=\"1\" class=\"dataframe\">\n",
       "  <thead>\n",
       "    <tr style=\"text-align: right;\">\n",
       "      <th></th>\n",
       "      <th>Unnamed: 0</th>\n",
       "      <th>0</th>\n",
       "      <th>1</th>\n",
       "      <th>2</th>\n",
       "      <th>3</th>\n",
       "      <th>4</th>\n",
       "      <th>5</th>\n",
       "      <th>6</th>\n",
       "      <th>7</th>\n",
       "      <th>8</th>\n",
       "      <th>...</th>\n",
       "      <th>184</th>\n",
       "      <th>185</th>\n",
       "      <th>186</th>\n",
       "      <th>187</th>\n",
       "      <th>188</th>\n",
       "      <th>189</th>\n",
       "      <th>190</th>\n",
       "      <th>191</th>\n",
       "      <th>192</th>\n",
       "      <th>193</th>\n",
       "    </tr>\n",
       "  </thead>\n",
       "  <tbody>\n",
       "    <tr>\n",
       "      <th>0</th>\n",
       "      <td>0</td>\n",
       "      <td>41</td>\n",
       "      <td>138</td>\n",
       "      <td>157</td>\n",
       "      <td>175</td>\n",
       "      <td>184</td>\n",
       "      <td>220</td>\n",
       "      <td>256</td>\n",
       "      <td>268</td>\n",
       "      <td>300</td>\n",
       "      <td>...</td>\n",
       "      <td>NaN</td>\n",
       "      <td>NaN</td>\n",
       "      <td>NaN</td>\n",
       "      <td>NaN</td>\n",
       "      <td>NaN</td>\n",
       "      <td>NaN</td>\n",
       "      <td>NaN</td>\n",
       "      <td>NaN</td>\n",
       "      <td>NaN</td>\n",
       "      <td>NaN</td>\n",
       "    </tr>\n",
       "    <tr>\n",
       "      <th>1</th>\n",
       "      <td>1</td>\n",
       "      <td>0</td>\n",
       "      <td>2</td>\n",
       "      <td>8</td>\n",
       "      <td>10</td>\n",
       "      <td>11</td>\n",
       "      <td>20</td>\n",
       "      <td>32</td>\n",
       "      <td>38</td>\n",
       "      <td>39</td>\n",
       "      <td>...</td>\n",
       "      <td>NaN</td>\n",
       "      <td>NaN</td>\n",
       "      <td>NaN</td>\n",
       "      <td>NaN</td>\n",
       "      <td>NaN</td>\n",
       "      <td>NaN</td>\n",
       "      <td>NaN</td>\n",
       "      <td>NaN</td>\n",
       "      <td>NaN</td>\n",
       "      <td>NaN</td>\n",
       "    </tr>\n",
       "    <tr>\n",
       "      <th>2</th>\n",
       "      <td>2</td>\n",
       "      <td>12</td>\n",
       "      <td>15</td>\n",
       "      <td>16</td>\n",
       "      <td>22</td>\n",
       "      <td>33</td>\n",
       "      <td>34</td>\n",
       "      <td>36</td>\n",
       "      <td>45</td>\n",
       "      <td>47</td>\n",
       "      <td>...</td>\n",
       "      <td>NaN</td>\n",
       "      <td>NaN</td>\n",
       "      <td>NaN</td>\n",
       "      <td>NaN</td>\n",
       "      <td>NaN</td>\n",
       "      <td>NaN</td>\n",
       "      <td>NaN</td>\n",
       "      <td>NaN</td>\n",
       "      <td>NaN</td>\n",
       "      <td>NaN</td>\n",
       "    </tr>\n",
       "    <tr>\n",
       "      <th>3</th>\n",
       "      <td>3</td>\n",
       "      <td>1</td>\n",
       "      <td>3</td>\n",
       "      <td>6</td>\n",
       "      <td>7</td>\n",
       "      <td>9</td>\n",
       "      <td>14</td>\n",
       "      <td>17</td>\n",
       "      <td>18</td>\n",
       "      <td>23</td>\n",
       "      <td>...</td>\n",
       "      <td>529.0</td>\n",
       "      <td>536.0</td>\n",
       "      <td>539.0</td>\n",
       "      <td>545.0</td>\n",
       "      <td>547.0</td>\n",
       "      <td>548.0</td>\n",
       "      <td>549.0</td>\n",
       "      <td>557.0</td>\n",
       "      <td>559.0</td>\n",
       "      <td>560.0</td>\n",
       "    </tr>\n",
       "    <tr>\n",
       "      <th>4</th>\n",
       "      <td>4</td>\n",
       "      <td>5</td>\n",
       "      <td>24</td>\n",
       "      <td>27</td>\n",
       "      <td>30</td>\n",
       "      <td>44</td>\n",
       "      <td>52</td>\n",
       "      <td>59</td>\n",
       "      <td>100</td>\n",
       "      <td>102</td>\n",
       "      <td>...</td>\n",
       "      <td>NaN</td>\n",
       "      <td>NaN</td>\n",
       "      <td>NaN</td>\n",
       "      <td>NaN</td>\n",
       "      <td>NaN</td>\n",
       "      <td>NaN</td>\n",
       "      <td>NaN</td>\n",
       "      <td>NaN</td>\n",
       "      <td>NaN</td>\n",
       "      <td>NaN</td>\n",
       "    </tr>\n",
       "    <tr>\n",
       "      <th>5</th>\n",
       "      <td>5</td>\n",
       "      <td>4</td>\n",
       "      <td>13</td>\n",
       "      <td>19</td>\n",
       "      <td>21</td>\n",
       "      <td>26</td>\n",
       "      <td>73</td>\n",
       "      <td>75</td>\n",
       "      <td>76</td>\n",
       "      <td>101</td>\n",
       "      <td>...</td>\n",
       "      <td>NaN</td>\n",
       "      <td>NaN</td>\n",
       "      <td>NaN</td>\n",
       "      <td>NaN</td>\n",
       "      <td>NaN</td>\n",
       "      <td>NaN</td>\n",
       "      <td>NaN</td>\n",
       "      <td>NaN</td>\n",
       "      <td>NaN</td>\n",
       "      <td>NaN</td>\n",
       "    </tr>\n",
       "  </tbody>\n",
       "</table>\n",
       "<p>6 rows × 195 columns</p>\n",
       "</div>"
      ],
      "text/plain": [
       "   Unnamed: 0   0    1    2    3    4    5    6    7    8  ...    184    185  \\\n",
       "0           0  41  138  157  175  184  220  256  268  300  ...    NaN    NaN   \n",
       "1           1   0    2    8   10   11   20   32   38   39  ...    NaN    NaN   \n",
       "2           2  12   15   16   22   33   34   36   45   47  ...    NaN    NaN   \n",
       "3           3   1    3    6    7    9   14   17   18   23  ...  529.0  536.0   \n",
       "4           4   5   24   27   30   44   52   59  100  102  ...    NaN    NaN   \n",
       "5           5   4   13   19   21   26   73   75   76  101  ...    NaN    NaN   \n",
       "\n",
       "     186    187    188    189    190    191    192    193  \n",
       "0    NaN    NaN    NaN    NaN    NaN    NaN    NaN    NaN  \n",
       "1    NaN    NaN    NaN    NaN    NaN    NaN    NaN    NaN  \n",
       "2    NaN    NaN    NaN    NaN    NaN    NaN    NaN    NaN  \n",
       "3  539.0  545.0  547.0  548.0  549.0  557.0  559.0  560.0  \n",
       "4    NaN    NaN    NaN    NaN    NaN    NaN    NaN    NaN  \n",
       "5    NaN    NaN    NaN    NaN    NaN    NaN    NaN    NaN  \n",
       "\n",
       "[6 rows x 195 columns]"
      ]
     },
     "execution_count": 10,
     "metadata": {},
     "output_type": "execute_result"
    }
   ],
   "source": [
    "clust"
   ]
  },
  {
   "cell_type": "markdown",
   "metadata": {},
   "source": [
    "# K Prototypes"
   ]
  },
  {
   "cell_type": "code",
   "execution_count": 35,
   "metadata": {},
   "outputs": [],
   "source": [
    "filt = filt.loc[:, ['top_genre', 'released_year', 'year_bin']].apply(le.fit_transform)\n",
    "filt['budget'] = np.random.randint(25000000, 200000000, len(encoded))"
   ]
  },
  {
   "cell_type": "code",
   "execution_count": 36,
   "metadata": {},
   "outputs": [
    {
     "data": {
      "text/html": [
       "<div>\n",
       "<style scoped>\n",
       "    .dataframe tbody tr th:only-of-type {\n",
       "        vertical-align: middle;\n",
       "    }\n",
       "\n",
       "    .dataframe tbody tr th {\n",
       "        vertical-align: top;\n",
       "    }\n",
       "\n",
       "    .dataframe thead th {\n",
       "        text-align: right;\n",
       "    }\n",
       "</style>\n",
       "<table border=\"1\" class=\"dataframe\">\n",
       "  <thead>\n",
       "    <tr style=\"text-align: right;\">\n",
       "      <th></th>\n",
       "      <th>top_genre</th>\n",
       "      <th>released_year</th>\n",
       "      <th>year_bin</th>\n",
       "      <th>budget</th>\n",
       "    </tr>\n",
       "  </thead>\n",
       "  <tbody>\n",
       "    <tr>\n",
       "      <th>0</th>\n",
       "      <td>17</td>\n",
       "      <td>25</td>\n",
       "      <td>1</td>\n",
       "      <td>98515479</td>\n",
       "    </tr>\n",
       "    <tr>\n",
       "      <th>1</th>\n",
       "      <td>0</td>\n",
       "      <td>25</td>\n",
       "      <td>1</td>\n",
       "      <td>185414902</td>\n",
       "    </tr>\n",
       "    <tr>\n",
       "      <th>2</th>\n",
       "      <td>17</td>\n",
       "      <td>26</td>\n",
       "      <td>2</td>\n",
       "      <td>34318141</td>\n",
       "    </tr>\n",
       "    <tr>\n",
       "      <th>3</th>\n",
       "      <td>0</td>\n",
       "      <td>22</td>\n",
       "      <td>0</td>\n",
       "      <td>170631312</td>\n",
       "    </tr>\n",
       "    <tr>\n",
       "      <th>4</th>\n",
       "      <td>6</td>\n",
       "      <td>22</td>\n",
       "      <td>0</td>\n",
       "      <td>112390221</td>\n",
       "    </tr>\n",
       "    <tr>\n",
       "      <th>...</th>\n",
       "      <td>...</td>\n",
       "      <td>...</td>\n",
       "      <td>...</td>\n",
       "      <td>...</td>\n",
       "    </tr>\n",
       "    <tr>\n",
       "      <th>4885</th>\n",
       "      <td>19</td>\n",
       "      <td>1</td>\n",
       "      <td>0</td>\n",
       "      <td>84402985</td>\n",
       "    </tr>\n",
       "    <tr>\n",
       "      <th>4995</th>\n",
       "      <td>12</td>\n",
       "      <td>22</td>\n",
       "      <td>0</td>\n",
       "      <td>196885128</td>\n",
       "    </tr>\n",
       "    <tr>\n",
       "      <th>5214</th>\n",
       "      <td>8</td>\n",
       "      <td>27</td>\n",
       "      <td>3</td>\n",
       "      <td>189499451</td>\n",
       "    </tr>\n",
       "    <tr>\n",
       "      <th>5257</th>\n",
       "      <td>3</td>\n",
       "      <td>26</td>\n",
       "      <td>2</td>\n",
       "      <td>72911890</td>\n",
       "    </tr>\n",
       "    <tr>\n",
       "      <th>5412</th>\n",
       "      <td>0</td>\n",
       "      <td>29</td>\n",
       "      <td>4</td>\n",
       "      <td>170899979</td>\n",
       "    </tr>\n",
       "  </tbody>\n",
       "</table>\n",
       "<p>610 rows × 4 columns</p>\n",
       "</div>"
      ],
      "text/plain": [
       "      top_genre  released_year  year_bin     budget\n",
       "0            17             25         1   98515479\n",
       "1             0             25         1  185414902\n",
       "2            17             26         2   34318141\n",
       "3             0             22         0  170631312\n",
       "4             6             22         0  112390221\n",
       "...         ...            ...       ...        ...\n",
       "4885         19              1         0   84402985\n",
       "4995         12             22         0  196885128\n",
       "5214          8             27         3  189499451\n",
       "5257          3             26         2   72911890\n",
       "5412          0             29         4  170899979\n",
       "\n",
       "[610 rows x 4 columns]"
      ]
     },
     "execution_count": 36,
     "metadata": {},
     "output_type": "execute_result"
    }
   ],
   "source": [
    "filt"
   ]
  },
  {
   "cell_type": "code",
   "execution_count": 40,
   "metadata": {},
   "outputs": [
    {
     "name": "stdout",
     "output_type": "stream",
     "text": [
      "Init: initializing centroids\n",
      "Init: initializing clusters\n",
      "Starting iterations...\n",
      "Run: 1, iteration: 1/100, moves: 124, ncost: 1.0275216735092614e+16\n",
      "Run: 1, iteration: 2/100, moves: 76, ncost: 8605599147000341.0\n",
      "Run: 1, iteration: 3/100, moves: 50, ncost: 7601475801770450.0\n",
      "Run: 1, iteration: 4/100, moves: 23, ncost: 7404214816177688.0\n",
      "Run: 1, iteration: 5/100, moves: 22, ncost: 7213943005950467.0\n",
      "Run: 1, iteration: 6/100, moves: 15, ncost: 7138225860229366.0\n",
      "Run: 1, iteration: 7/100, moves: 12, ncost: 7066750893197116.0\n",
      "Run: 1, iteration: 8/100, moves: 12, ncost: 6965474461287827.0\n",
      "Run: 1, iteration: 9/100, moves: 4, ncost: 6945720988144550.0\n",
      "Run: 1, iteration: 10/100, moves: 5, ncost: 6929182483217878.0\n",
      "Run: 1, iteration: 11/100, moves: 1, ncost: 6928165191256704.0\n",
      "Run: 1, iteration: 12/100, moves: 0, ncost: 6928165191256704.0\n",
      "Init: initializing centroids\n",
      "Init: initializing clusters\n",
      "Starting iterations...\n",
      "Run: 2, iteration: 1/100, moves: 71, ncost: 1.2670270361827416e+16\n",
      "Run: 2, iteration: 2/100, moves: 55, ncost: 1.1037640727738526e+16\n",
      "Run: 2, iteration: 3/100, moves: 49, ncost: 9618092058070014.0\n",
      "Run: 2, iteration: 4/100, moves: 32, ncost: 8775968879831043.0\n",
      "Run: 2, iteration: 5/100, moves: 32, ncost: 7835952178001398.0\n",
      "Run: 2, iteration: 6/100, moves: 19, ncost: 7590271702291378.0\n",
      "Run: 2, iteration: 7/100, moves: 4, ncost: 7578524372145882.0\n",
      "Run: 2, iteration: 8/100, moves: 0, ncost: 7578524372145882.0\n",
      "Init: initializing centroids\n",
      "Init: initializing clusters\n",
      "Init: initializing centroids\n",
      "Init: initializing clusters\n",
      "Starting iterations...\n",
      "Run: 3, iteration: 1/100, moves: 96, ncost: 1.3783909151060648e+16\n",
      "Run: 3, iteration: 2/100, moves: 73, ncost: 1.0712777161014318e+16\n",
      "Run: 3, iteration: 3/100, moves: 60, ncost: 8657685076556179.0\n",
      "Run: 3, iteration: 4/100, moves: 42, ncost: 7925099182074396.0\n",
      "Run: 3, iteration: 5/100, moves: 35, ncost: 7587281852795897.0\n",
      "Run: 3, iteration: 6/100, moves: 26, ncost: 7361030886086170.0\n",
      "Run: 3, iteration: 7/100, moves: 25, ncost: 7144756533432886.0\n",
      "Run: 3, iteration: 8/100, moves: 21, ncost: 6980990652740998.0\n",
      "Run: 3, iteration: 9/100, moves: 10, ncost: 6923835560132778.0\n",
      "Run: 3, iteration: 10/100, moves: 9, ncost: 6866101720425288.0\n",
      "Run: 3, iteration: 11/100, moves: 11, ncost: 6767536090421904.0\n",
      "Run: 3, iteration: 12/100, moves: 6, ncost: 6722333338866069.0\n",
      "Run: 3, iteration: 13/100, moves: 5, ncost: 6706147547427719.0\n",
      "Run: 3, iteration: 14/100, moves: 2, ncost: 6701884073090667.0\n",
      "Run: 3, iteration: 15/100, moves: 0, ncost: 6701884073090667.0\n",
      "Init: initializing centroids\n",
      "Init: initializing clusters\n",
      "Init: initializing centroids\n",
      "Init: initializing clusters\n",
      "Init: initializing centroids\n",
      "Init: initializing clusters\n",
      "Starting iterations...\n",
      "Run: 4, iteration: 1/100, moves: 62, ncost: 7571598029099164.0\n",
      "Run: 4, iteration: 2/100, moves: 40, ncost: 7084559569414147.0\n",
      "Run: 4, iteration: 3/100, moves: 23, ncost: 6834821769562272.0\n",
      "Run: 4, iteration: 4/100, moves: 13, ncost: 6743683633603744.0\n",
      "Run: 4, iteration: 5/100, moves: 3, ncost: 6733627871985632.0\n",
      "Run: 4, iteration: 6/100, moves: 0, ncost: 6733627871985632.0\n",
      "Init: initializing centroids\n",
      "Init: initializing clusters\n",
      "Starting iterations...\n",
      "Run: 5, iteration: 1/100, moves: 132, ncost: 3.0700494559733996e+16\n",
      "Run: 5, iteration: 2/100, moves: 113, ncost: 2.319266902796665e+16\n",
      "Run: 5, iteration: 3/100, moves: 113, ncost: 1.6116666450889428e+16\n",
      "Run: 5, iteration: 4/100, moves: 71, ncost: 1.3329375865375452e+16\n",
      "Run: 5, iteration: 5/100, moves: 39, ncost: 1.230192027512384e+16\n",
      "Run: 5, iteration: 6/100, moves: 37, ncost: 1.1592055779964388e+16\n",
      "Run: 5, iteration: 7/100, moves: 27, ncost: 1.1228709650117174e+16\n",
      "Run: 5, iteration: 8/100, moves: 18, ncost: 1.1079962024134534e+16\n",
      "Run: 5, iteration: 9/100, moves: 42, ncost: 1.0412329460014628e+16\n",
      "Run: 5, iteration: 10/100, moves: 37, ncost: 9582330362939012.0\n",
      "Run: 5, iteration: 11/100, moves: 31, ncost: 9039785579101930.0\n",
      "Run: 5, iteration: 12/100, moves: 20, ncost: 8834777403460883.0\n",
      "Run: 5, iteration: 13/100, moves: 3, ncost: 8822742360477031.0\n",
      "Run: 5, iteration: 14/100, moves: 2, ncost: 8817356868070055.0\n",
      "Run: 5, iteration: 15/100, moves: 0, ncost: 8817356868070055.0\n",
      "Init: initializing centroids\n",
      "Init: initializing clusters\n",
      "Init: initializing centroids\n",
      "Init: initializing clusters\n",
      "Starting iterations...\n",
      "Run: 6, iteration: 1/100, moves: 83, ncost: 1.2286832008490788e+16\n",
      "Run: 6, iteration: 2/100, moves: 37, ncost: 1.1060883325109944e+16\n",
      "Run: 6, iteration: 3/100, moves: 28, ncost: 1.0336958865538028e+16\n",
      "Run: 6, iteration: 4/100, moves: 22, ncost: 9844375744147956.0\n",
      "Run: 6, iteration: 5/100, moves: 17, ncost: 9592601090332424.0\n",
      "Run: 6, iteration: 6/100, moves: 9, ncost: 9502003479417382.0\n",
      "Run: 6, iteration: 7/100, moves: 13, ncost: 9264128385323692.0\n",
      "Run: 6, iteration: 8/100, moves: 20, ncost: 8849118747030479.0\n",
      "Run: 6, iteration: 9/100, moves: 20, ncost: 8519383782865446.0\n",
      "Run: 6, iteration: 10/100, moves: 17, ncost: 8303722031234554.0\n",
      "Run: 6, iteration: 11/100, moves: 8, ncost: 8250390653668697.0\n",
      "Run: 6, iteration: 12/100, moves: 8, ncost: 8196025546809283.0\n",
      "Run: 6, iteration: 13/100, moves: 7, ncost: 8140619201414668.0\n",
      "Run: 6, iteration: 14/100, moves: 9, ncost: 8082695584339210.0\n",
      "Run: 6, iteration: 15/100, moves: 6, ncost: 8041382558307840.0\n",
      "Run: 6, iteration: 16/100, moves: 14, ncost: 7884542912171633.0\n",
      "Run: 6, iteration: 17/100, moves: 8, ncost: 7841153731368471.0\n",
      "Run: 6, iteration: 18/100, moves: 4, ncost: 7809402814367825.0\n",
      "Run: 6, iteration: 19/100, moves: 8, ncost: 7753202259247260.0\n",
      "Run: 6, iteration: 20/100, moves: 11, ncost: 7654636629243880.0\n",
      "Run: 6, iteration: 21/100, moves: 6, ncost: 7607913913214678.0\n",
      "Run: 6, iteration: 22/100, moves: 5, ncost: 7590207803175201.0\n",
      "Run: 6, iteration: 23/100, moves: 2, ncost: 7585944328838150.0\n",
      "Run: 6, iteration: 24/100, moves: 0, ncost: 7585944328838150.0\n",
      "Init: initializing centroids\n",
      "Init: initializing clusters\n",
      "Starting iterations...\n",
      "Run: 7, iteration: 1/100, moves: 129, ncost: 9891774518471702.0\n",
      "Run: 7, iteration: 2/100, moves: 77, ncost: 8140919932498612.0\n",
      "Run: 7, iteration: 3/100, moves: 32, ncost: 7797942662136807.0\n",
      "Run: 7, iteration: 4/100, moves: 9, ncost: 7752359528889109.0\n",
      "Run: 7, iteration: 5/100, moves: 7, ncost: 7720079177622150.0\n",
      "Run: 7, iteration: 6/100, moves: 8, ncost: 7637782696111616.0\n",
      "Run: 7, iteration: 7/100, moves: 3, ncost: 7619603992915563.0\n",
      "Run: 7, iteration: 8/100, moves: 4, ncost: 7605129298387176.0\n",
      "Run: 7, iteration: 9/100, moves: 1, ncost: 7604112006426001.0\n",
      "Run: 7, iteration: 10/100, moves: 0, ncost: 7604112006426001.0\n",
      "Init: initializing centroids\n",
      "Init: initializing clusters\n",
      "Init: initializing centroids\n",
      "Init: initializing clusters\n",
      "Starting iterations...\n",
      "Run: 8, iteration: 1/100, moves: 89, ncost: 1.2187459098665876e+16\n",
      "Run: 8, iteration: 2/100, moves: 53, ncost: 9541946710673888.0\n",
      "Run: 8, iteration: 3/100, moves: 40, ncost: 7669115249944647.0\n",
      "Run: 8, iteration: 4/100, moves: 28, ncost: 7066167517406134.0\n",
      "Run: 8, iteration: 5/100, moves: 19, ncost: 6844590918355234.0\n",
      "Run: 8, iteration: 6/100, moves: 15, ncost: 6707344063137825.0\n",
      "Run: 8, iteration: 7/100, moves: 4, ncost: 6694632398089501.0\n",
      "Run: 8, iteration: 8/100, moves: 2, ncost: 6690083046618871.0\n",
      "Run: 8, iteration: 9/100, moves: 0, ncost: 6690083046618871.0\n",
      "Init: initializing centroids\n",
      "Init: initializing clusters\n",
      "Init: initializing centroids\n",
      "Init: initializing clusters\n",
      "Init: initializing centroids\n",
      "Init: initializing clusters\n",
      "Init: initializing centroids\n",
      "Init: initializing clusters\n",
      "Init: initializing centroids\n",
      "Init: initializing clusters\n",
      "Starting iterations...\n",
      "Run: 9, iteration: 1/100, moves: 168, ncost: 3.624553684159122e+16\n",
      "Run: 9, iteration: 2/100, moves: 84, ncost: 2.5579070565459004e+16\n",
      "Run: 9, iteration: 3/100, moves: 62, ncost: 2.0895711362982764e+16\n",
      "Run: 9, iteration: 4/100, moves: 52, ncost: 1.7111355887269944e+16\n",
      "Run: 9, iteration: 5/100, moves: 50, ncost: 1.3986901590932524e+16\n",
      "Run: 9, iteration: 6/100, moves: 26, ncost: 1.3241912789834622e+16\n",
      "Run: 9, iteration: 7/100, moves: 37, ncost: 1.2090294822811144e+16\n",
      "Run: 9, iteration: 8/100, moves: 39, ncost: 1.1371925919006788e+16\n",
      "Run: 9, iteration: 9/100, moves: 22, ncost: 1.1018703947947206e+16\n",
      "Run: 9, iteration: 10/100, moves: 22, ncost: 1.0597127697359996e+16\n"
     ]
    },
    {
     "name": "stdout",
     "output_type": "stream",
     "text": [
      "Run: 9, iteration: 11/100, moves: 12, ncost: 1.0464359786016014e+16\n",
      "Run: 9, iteration: 12/100, moves: 15, ncost: 1.0219875874607108e+16\n",
      "Run: 9, iteration: 13/100, moves: 20, ncost: 9804866236313898.0\n",
      "Run: 9, iteration: 14/100, moves: 20, ncost: 9475131296874378.0\n",
      "Run: 9, iteration: 15/100, moves: 17, ncost: 9259469520517980.0\n",
      "Run: 9, iteration: 16/100, moves: 8, ncost: 9206138142952126.0\n",
      "Run: 9, iteration: 17/100, moves: 8, ncost: 9151773036092702.0\n",
      "Run: 9, iteration: 18/100, moves: 7, ncost: 9096366690698088.0\n",
      "Run: 9, iteration: 19/100, moves: 9, ncost: 9038443073622628.0\n",
      "Run: 9, iteration: 20/100, moves: 6, ncost: 8997130047591259.0\n",
      "Run: 9, iteration: 21/100, moves: 14, ncost: 8840290401455052.0\n",
      "Run: 9, iteration: 22/100, moves: 8, ncost: 8796901220651891.0\n",
      "Run: 9, iteration: 23/100, moves: 4, ncost: 8765150303651249.0\n",
      "Run: 9, iteration: 24/100, moves: 9, ncost: 8704276411835249.0\n",
      "Run: 9, iteration: 25/100, moves: 12, ncost: 8594988954081144.0\n",
      "Run: 9, iteration: 26/100, moves: 8, ncost: 8544287405660698.0\n",
      "Run: 9, iteration: 27/100, moves: 8, ncost: 8512896739181576.0\n",
      "Run: 9, iteration: 28/100, moves: 4, ncost: 8502043011707780.0\n",
      "Run: 9, iteration: 29/100, moves: 4, ncost: 8487547601606036.0\n",
      "Run: 9, iteration: 30/100, moves: 5, ncost: 8466655363759807.0\n",
      "Run: 9, iteration: 31/100, moves: 2, ncost: 8464326826745477.0\n",
      "Run: 9, iteration: 32/100, moves: 0, ncost: 8464326826745477.0\n",
      "Init: initializing centroids\n",
      "Init: initializing clusters\n",
      "Init: initializing centroids\n",
      "Init: initializing clusters\n",
      "Init: initializing centroids\n",
      "Init: initializing clusters\n",
      "Starting iterations...\n",
      "Run: 10, iteration: 1/100, moves: 108, ncost: 8304288774954264.0\n",
      "Run: 10, iteration: 2/100, moves: 56, ncost: 7161584259374537.0\n",
      "Run: 10, iteration: 3/100, moves: 18, ncost: 7010267612212600.0\n",
      "Run: 10, iteration: 4/100, moves: 15, ncost: 6836628777979278.0\n",
      "Run: 10, iteration: 5/100, moves: 11, ncost: 6741351306089886.0\n",
      "Run: 10, iteration: 6/100, moves: 6, ncost: 6711241654388462.0\n",
      "Run: 10, iteration: 7/100, moves: 2, ncost: 6702743022748168.0\n",
      "Run: 10, iteration: 8/100, moves: 0, ncost: 6702743022748168.0\n",
      "Best run was number 8\n"
     ]
    },
    {
     "data": {
      "text/plain": [
       "KPrototypes(cat_dissim=<function matching_dissim at 0x00000114597A8670>,\n",
       "            gamma=24725506.791886486, init='Huang', max_iter=100, n_clusters=15,\n",
       "            n_init=10, n_jobs=1,\n",
       "            num_dissim=<function euclidean_dissim at 0x00000114597A88B0>,\n",
       "            random_state=None, verbose=1)"
      ]
     },
     "execution_count": 40,
     "metadata": {},
     "output_type": "execute_result"
    }
   ],
   "source": [
    "kp = KPrototypes(n_clusters=15, init='Huang', verbose=0)\n",
    "kp.fit(filt, categorical=[0, 1, 2])"
   ]
  },
  {
   "cell_type": "code",
   "execution_count": 43,
   "metadata": {},
   "outputs": [],
   "source": [
    "preds = kp.predict(filt, categorical=[0, 1, 2])"
   ]
  },
  {
   "cell_type": "code",
   "execution_count": 48,
   "metadata": {},
   "outputs": [],
   "source": [
    "cost_kp = []\n",
    "for clust in range(5, 21):\n",
    "    km = KPrototypes(n_clusters=clust, init='Cao', verbose=0)\n",
    "    km.fit_predict(filt, categorical=[0, 1, 2])\n",
    "    cost_kp.append(km.cost_)"
   ]
  },
  {
   "cell_type": "code",
   "execution_count": 49,
   "metadata": {},
   "outputs": [
    {
     "data": {
      "text/plain": [
       "[<matplotlib.lines.Line2D at 0x1145cbe5220>]"
      ]
     },
     "execution_count": 49,
     "metadata": {},
     "output_type": "execute_result"
    },
    {
     "data": {
      "image/png": "[encoded data removed]",
      "text/plain": [
       "<Figure size 811.44x595.44 with 1 Axes>"
      ]
     },
     "metadata": {
      "needs_background": "light"
     },
     "output_type": "display_data"
    }
   ],
   "source": [
    "plt.figure(figsize=(11.27, 8.27))\n",
    "plt.plot(list(range(5, 21)), cost_kp)"
   ]
  },
  {
   "cell_type": "code",
   "execution_count": 50,
   "metadata": {},
   "outputs": [],
   "source": [
    "cost_kp = []\n",
    "for clust in range(5, 21):\n",
    "    km = KPrototypes(n_clusters=clust, init='Huang', verbose=0)\n",
    "    km.fit_predict(filt, categorical=[0, 1, 2])\n",
    "    cost_kp.append(km.cost_)"
   ]
  },
  {
   "cell_type": "code",
   "execution_count": 51,
   "metadata": {},
   "outputs": [
    {
     "data": {
      "text/plain": [
       "[<matplotlib.lines.Line2D at 0x1145cd0dcd0>]"
      ]
     },
     "execution_count": 51,
     "metadata": {},
     "output_type": "execute_result"
    },
    {
     "data": {
      "image/png": "[encoded data removed]",
      "text/plain": [
       "<Figure size 811.44x595.44 with 1 Axes>"
      ]
     },
     "metadata": {
      "needs_background": "light"
     },
     "output_type": "display_data"
    }
   ],
   "source": [
    "plt.figure(figsize=(11.27, 8.27))\n",
    "plt.plot(list(range(5, 21)), cost_kp)"
   ]
  },
  {
   "cell_type": "code",
   "execution_count": null,
   "metadata": {},
   "outputs": [],
   "source": []
  }
 ],
 "metadata": {
  "kernelspec": {
   "display_name": "Python 3",
   "language": "python",
   "name": "python3"
  },
  "language_info": {
   "codemirror_mode": {
    "name": "ipython",
    "version": 3
   },
   "file_extension": ".py",
   "mimetype": "text/x-python",
   "name": "python",
   "nbconvert_exporter": "python",
   "pygments_lexer": "ipython3",
   "version": "3.8.1"
  }
 },
 "nbformat": 4,
 "nbformat_minor": 4
}
