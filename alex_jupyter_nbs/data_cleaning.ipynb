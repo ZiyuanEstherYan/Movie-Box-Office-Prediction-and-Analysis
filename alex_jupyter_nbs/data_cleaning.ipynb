{
 "cells": [
  {
   "cell_type": "code",
   "execution_count": 1,
   "metadata": {},
   "outputs": [
    {
     "name": "stderr",
     "output_type": "stream",
     "text": [
      "[nltk_data] Downloading package words to\n",
      "[nltk_data]     C:\\Users\\Alex\\AppData\\Roaming\\nltk_data...\n",
      "[nltk_data]   Package words is already up-to-date!\n",
      "[nltk_data] Downloading package stopwords to\n",
      "[nltk_data]     C:\\Users\\Alex\\AppData\\Roaming\\nltk_data...\n",
      "[nltk_data]   Package stopwords is already up-to-date!\n"
     ]
    }
   ],
   "source": [
    "import math\n",
    "import nltk\n",
    "from datetime import datetime\n",
    "from nltk.corpus import wordnet\n",
    "nltk.download('words')\n",
    "nltk.download('stopwords')\n",
    "corpus = set(nltk.corpus.words.words())\n",
    "stopwords = set(nltk.corpus.stopwords.words())\n",
    "\n",
    "import pandas as pd\n",
    "import numpy as np\n",
    "import regex as re\n",
    "import wbdata\n",
    "from easymoney.money import EasyPeasy"
   ]
  },
  {
   "cell_type": "code",
   "execution_count": 2,
   "metadata": {},
   "outputs": [],
   "source": [
    "def get_summary(dat):\n",
    "\n",
    "    dtypes_dict = dat.dtypes.apply(lambda x: x.name).to_dict()\n",
    "\n",
    "    numeric = [x for x in dtypes_dict.keys() if dtypes_dict[x] == 'float64' or dtypes_dict[x] == 'int64']\n",
    "    chars = [x for x in dtypes_dict.keys() if dtypes_dict[x] == 'object']\n",
    "\n",
    "    type_numeric = ['numeric'] * len(numeric)\n",
    "    type_chars = ['char'] * len(chars)\n",
    "\n",
    "    numeric_counts = dat.loc[:, numeric].count().to_dict()\n",
    "    numeric_populated = list(numeric_counts.values())\n",
    "    numeric_pct = [str((round(x / len(dat), 2)) * 100) + '%' for x in numeric_populated]\n",
    "    numeric_zero = [sum(dat.loc[:, x] == 0) for x in numeric]\n",
    "\n",
    "    numeric_s = pd.DataFrame(list(zip(numeric, type_numeric, numeric_populated, numeric_pct, numeric_zero)),\n",
    "                             columns=['Name', 'Type', 'Non_NA_Values', 'Pct_Non_NA', 'Num_Zeros'])\n",
    "\n",
    "    numeric_cols_df = pd.concat([numeric_s,\n",
    "                                 dat.describe().transpose().reset_index().drop(['count', 'index'], axis=1)],\n",
    "                                axis=1)\n",
    "\n",
    "    char_counts = dat.loc[:, chars].count().to_dict()\n",
    "    char_populated = list(char_counts.values())\n",
    "    char_pct = [str((round(x / len(dat), 3)) * 100) + '%' for x in char_populated]\n",
    "    char_zero = [sum(dat.loc[:, x] == 0) for x in chars]\n",
    "\n",
    "    chars_unique = [len(dat.loc[:, x].unique()) for x in chars]\n",
    "    chars_val_max = [dat.loc[:, x].value_counts().idxmax() for x in chars]\n",
    "\n",
    "    chars_df = pd.DataFrame(\n",
    "        list(zip(chars, type_chars, char_populated, char_pct, char_zero, chars_unique, chars_val_max)),\n",
    "        columns=['Name', 'Type', 'Non_NA_Values', 'Pct_Non_NA', 'Num_Zeros', 'Unique', 'Most_Common'])\n",
    "\n",
    "    which = input('Would you like a table of numeric or char columns? (N/C)')\n",
    "    if which == 'N':\n",
    "        return numeric_cols_df\n",
    "    elif which == 'C':\n",
    "        return chars_df"
   ]
  },
  {
   "cell_type": "markdown",
   "metadata": {},
   "source": [
    "# Comments"
   ]
  },
  {
   "cell_type": "code",
   "execution_count": 3,
   "metadata": {},
   "outputs": [
    {
     "name": "stderr",
     "output_type": "stream",
     "text": [
      "C:\\Users\\Alex\\AppData\\Local\\Programs\\Python\\Python38\\lib\\site-packages\\IPython\\core\\interactiveshell.py:3062: DtypeWarning: Columns (5) have mixed types.Specify dtype option on import or set low_memory=False.\n",
      "  has_raised = await self.run_ast_nodes(code_ast.body, cell_name,\n"
     ]
    }
   ],
   "source": [
    "comments = pd.concat([pd.read_csv('F:/capstone_listenfirst/10kplus000', delimiter='\\t', header=None),\n",
    "                      pd.read_csv('F:/capstone_listenfirst/1k-10k000', delimiter='\\t', header=None)])"
   ]
  },
  {
   "cell_type": "code",
   "execution_count": 5,
   "metadata": {},
   "outputs": [],
   "source": [
    "cols = ['comment_id', 'comment_dcs_uid', 'comment_author_id', 'post_dcs_uid', 'post_author_dcs_uid', \n",
    "        'comment_lfm_type', 'comment_posted_at', 'comment_message', 'comment_sentiment_polarity',\n",
    "        'comment_primary_emotion', 'comment_ace_metadata', 'topics', 'comment_is_quote', 'spec_channel' ]\n",
    "comments.columns = cols"
   ]
  },
  {
   "cell_type": "code",
   "execution_count": 8,
   "metadata": {},
   "outputs": [],
   "source": [
    "def comment_cleaner(text):\n",
    "    text = re.sub(\"[^\\w\\s]\", \"\", text)\n",
    "    text = \" \".join([x.lower() for x in text.split(' ') if x.lower() in corpus and x.lower() not in stopwords and len(x)>1])\n",
    "    if text == '':\n",
    "        return np.nan\n",
    "    return text"
   ]
  },
  {
   "cell_type": "code",
   "execution_count": 11,
   "metadata": {},
   "outputs": [
    {
     "name": "stderr",
     "output_type": "stream",
     "text": [
      "<ipython-input-11-b57297315d5f>:2: SettingWithCopyWarning: \n",
      "A value is trying to be set on a copy of a slice from a DataFrame.\n",
      "Try using .loc[row_indexer,col_indexer] = value instead\n",
      "\n",
      "See the caveats in the documentation: https://pandas.pydata.org/pandas-docs/stable/user_guide/indexing.html#returning-a-view-versus-a-copy\n",
      "  comments['comments_clean'] = comments['comment_message'].apply(comment_cleaner)\n"
     ]
    }
   ],
   "source": [
    "comments = comments[comments['comment_message'].notna()]\n",
    "comments['comments_clean'] = comments['comment_message'].apply(comment_cleaner)"
   ]
  },
  {
   "cell_type": "code",
   "execution_count": 16,
   "metadata": {
    "scrolled": true
   },
   "outputs": [],
   "source": [
    "comments.to_csv('F:/capstone_listenfirst/comments.concat.csv', index=False, mode='a')"
   ]
  },
  {
   "cell_type": "markdown",
   "metadata": {},
   "source": [
    "# Deltas"
   ]
  },
  {
   "cell_type": "code",
   "execution_count": 564,
   "metadata": {},
   "outputs": [
    {
     "ename": "KeyboardInterrupt",
     "evalue": "",
     "output_type": "error",
     "traceback": [
      "\u001b[1;31m---------------------------------------------------------------------------\u001b[0m",
      "\u001b[1;31mKeyboardInterrupt\u001b[0m                         Traceback (most recent call last)",
      "\u001b[1;32m<ipython-input-564-f05699ca9920>\u001b[0m in \u001b[0;36m<module>\u001b[1;34m\u001b[0m\n\u001b[1;32m----> 1\u001b[1;33m \u001b[0mdelt1\u001b[0m \u001b[1;33m=\u001b[0m \u001b[0mpd\u001b[0m\u001b[1;33m.\u001b[0m\u001b[0mread_csv\u001b[0m\u001b[1;33m(\u001b[0m\u001b[1;34m'F:/capstone_listenfirst/facebook_post_deltas_1k-10k.tsv'\u001b[0m\u001b[1;33m)\u001b[0m\u001b[1;33m\u001b[0m\u001b[1;33m\u001b[0m\u001b[0m\n\u001b[0m\u001b[0;32m      2\u001b[0m \u001b[0mdelt2\u001b[0m \u001b[1;33m=\u001b[0m \u001b[0mpd\u001b[0m\u001b[1;33m.\u001b[0m\u001b[0mread_csv\u001b[0m\u001b[1;33m(\u001b[0m\u001b[1;34m'F:/capstone_listenfirst/facebook_post_deltas_10kplus.tsv'\u001b[0m\u001b[1;33m)\u001b[0m\u001b[1;33m\u001b[0m\u001b[1;33m\u001b[0m\u001b[0m\n\u001b[0;32m      3\u001b[0m \u001b[1;33m\u001b[0m\u001b[0m\n\u001b[0;32m      4\u001b[0m \u001b[0mdelt\u001b[0m \u001b[1;33m=\u001b[0m \u001b[0mpd\u001b[0m\u001b[1;33m.\u001b[0m\u001b[0mconcat\u001b[0m\u001b[1;33m(\u001b[0m\u001b[1;33m[\u001b[0m\u001b[0mdelt1\u001b[0m\u001b[1;33m,\u001b[0m \u001b[0mdelt2\u001b[0m\u001b[1;33m]\u001b[0m\u001b[1;33m,\u001b[0m \u001b[0mignore_index\u001b[0m\u001b[1;33m=\u001b[0m\u001b[1;32mTrue\u001b[0m\u001b[1;33m)\u001b[0m\u001b[1;33m\u001b[0m\u001b[1;33m\u001b[0m\u001b[0m\n",
      "\u001b[1;32m~\\AppData\\Local\\Programs\\Python\\Python38\\lib\\site-packages\\pandas\\io\\parsers.py\u001b[0m in \u001b[0;36mparser_f\u001b[1;34m(filepath_or_buffer, sep, delimiter, header, names, index_col, usecols, squeeze, prefix, mangle_dupe_cols, dtype, engine, converters, true_values, false_values, skipinitialspace, skiprows, skipfooter, nrows, na_values, keep_default_na, na_filter, verbose, skip_blank_lines, parse_dates, infer_datetime_format, keep_date_col, date_parser, dayfirst, cache_dates, iterator, chunksize, compression, thousands, decimal, lineterminator, quotechar, quoting, doublequote, escapechar, comment, encoding, dialect, error_bad_lines, warn_bad_lines, delim_whitespace, low_memory, memory_map, float_precision)\u001b[0m\n\u001b[0;32m    683\u001b[0m         )\n\u001b[0;32m    684\u001b[0m \u001b[1;33m\u001b[0m\u001b[0m\n\u001b[1;32m--> 685\u001b[1;33m         \u001b[1;32mreturn\u001b[0m \u001b[0m_read\u001b[0m\u001b[1;33m(\u001b[0m\u001b[0mfilepath_or_buffer\u001b[0m\u001b[1;33m,\u001b[0m \u001b[0mkwds\u001b[0m\u001b[1;33m)\u001b[0m\u001b[1;33m\u001b[0m\u001b[1;33m\u001b[0m\u001b[0m\n\u001b[0m\u001b[0;32m    686\u001b[0m \u001b[1;33m\u001b[0m\u001b[0m\n\u001b[0;32m    687\u001b[0m     \u001b[0mparser_f\u001b[0m\u001b[1;33m.\u001b[0m\u001b[0m__name__\u001b[0m \u001b[1;33m=\u001b[0m \u001b[0mname\u001b[0m\u001b[1;33m\u001b[0m\u001b[1;33m\u001b[0m\u001b[0m\n",
      "\u001b[1;32m~\\AppData\\Local\\Programs\\Python\\Python38\\lib\\site-packages\\pandas\\io\\parsers.py\u001b[0m in \u001b[0;36m_read\u001b[1;34m(filepath_or_buffer, kwds)\u001b[0m\n\u001b[0;32m    461\u001b[0m \u001b[1;33m\u001b[0m\u001b[0m\n\u001b[0;32m    462\u001b[0m     \u001b[1;32mtry\u001b[0m\u001b[1;33m:\u001b[0m\u001b[1;33m\u001b[0m\u001b[1;33m\u001b[0m\u001b[0m\n\u001b[1;32m--> 463\u001b[1;33m         \u001b[0mdata\u001b[0m \u001b[1;33m=\u001b[0m \u001b[0mparser\u001b[0m\u001b[1;33m.\u001b[0m\u001b[0mread\u001b[0m\u001b[1;33m(\u001b[0m\u001b[0mnrows\u001b[0m\u001b[1;33m)\u001b[0m\u001b[1;33m\u001b[0m\u001b[1;33m\u001b[0m\u001b[0m\n\u001b[0m\u001b[0;32m    464\u001b[0m     \u001b[1;32mfinally\u001b[0m\u001b[1;33m:\u001b[0m\u001b[1;33m\u001b[0m\u001b[1;33m\u001b[0m\u001b[0m\n\u001b[0;32m    465\u001b[0m         \u001b[0mparser\u001b[0m\u001b[1;33m.\u001b[0m\u001b[0mclose\u001b[0m\u001b[1;33m(\u001b[0m\u001b[1;33m)\u001b[0m\u001b[1;33m\u001b[0m\u001b[1;33m\u001b[0m\u001b[0m\n",
      "\u001b[1;32m~\\AppData\\Local\\Programs\\Python\\Python38\\lib\\site-packages\\pandas\\io\\parsers.py\u001b[0m in \u001b[0;36mread\u001b[1;34m(self, nrows)\u001b[0m\n\u001b[0;32m   1152\u001b[0m     \u001b[1;32mdef\u001b[0m \u001b[0mread\u001b[0m\u001b[1;33m(\u001b[0m\u001b[0mself\u001b[0m\u001b[1;33m,\u001b[0m \u001b[0mnrows\u001b[0m\u001b[1;33m=\u001b[0m\u001b[1;32mNone\u001b[0m\u001b[1;33m)\u001b[0m\u001b[1;33m:\u001b[0m\u001b[1;33m\u001b[0m\u001b[1;33m\u001b[0m\u001b[0m\n\u001b[0;32m   1153\u001b[0m         \u001b[0mnrows\u001b[0m \u001b[1;33m=\u001b[0m \u001b[0m_validate_integer\u001b[0m\u001b[1;33m(\u001b[0m\u001b[1;34m\"nrows\"\u001b[0m\u001b[1;33m,\u001b[0m \u001b[0mnrows\u001b[0m\u001b[1;33m)\u001b[0m\u001b[1;33m\u001b[0m\u001b[1;33m\u001b[0m\u001b[0m\n\u001b[1;32m-> 1154\u001b[1;33m         \u001b[0mret\u001b[0m \u001b[1;33m=\u001b[0m \u001b[0mself\u001b[0m\u001b[1;33m.\u001b[0m\u001b[0m_engine\u001b[0m\u001b[1;33m.\u001b[0m\u001b[0mread\u001b[0m\u001b[1;33m(\u001b[0m\u001b[0mnrows\u001b[0m\u001b[1;33m)\u001b[0m\u001b[1;33m\u001b[0m\u001b[1;33m\u001b[0m\u001b[0m\n\u001b[0m\u001b[0;32m   1155\u001b[0m \u001b[1;33m\u001b[0m\u001b[0m\n\u001b[0;32m   1156\u001b[0m         \u001b[1;31m# May alter columns / col_dict\u001b[0m\u001b[1;33m\u001b[0m\u001b[1;33m\u001b[0m\u001b[1;33m\u001b[0m\u001b[0m\n",
      "\u001b[1;32m~\\AppData\\Local\\Programs\\Python\\Python38\\lib\\site-packages\\pandas\\io\\parsers.py\u001b[0m in \u001b[0;36mread\u001b[1;34m(self, nrows)\u001b[0m\n\u001b[0;32m   2057\u001b[0m     \u001b[1;32mdef\u001b[0m \u001b[0mread\u001b[0m\u001b[1;33m(\u001b[0m\u001b[0mself\u001b[0m\u001b[1;33m,\u001b[0m \u001b[0mnrows\u001b[0m\u001b[1;33m=\u001b[0m\u001b[1;32mNone\u001b[0m\u001b[1;33m)\u001b[0m\u001b[1;33m:\u001b[0m\u001b[1;33m\u001b[0m\u001b[1;33m\u001b[0m\u001b[0m\n\u001b[0;32m   2058\u001b[0m         \u001b[1;32mtry\u001b[0m\u001b[1;33m:\u001b[0m\u001b[1;33m\u001b[0m\u001b[1;33m\u001b[0m\u001b[0m\n\u001b[1;32m-> 2059\u001b[1;33m             \u001b[0mdata\u001b[0m \u001b[1;33m=\u001b[0m \u001b[0mself\u001b[0m\u001b[1;33m.\u001b[0m\u001b[0m_reader\u001b[0m\u001b[1;33m.\u001b[0m\u001b[0mread\u001b[0m\u001b[1;33m(\u001b[0m\u001b[0mnrows\u001b[0m\u001b[1;33m)\u001b[0m\u001b[1;33m\u001b[0m\u001b[1;33m\u001b[0m\u001b[0m\n\u001b[0m\u001b[0;32m   2060\u001b[0m         \u001b[1;32mexcept\u001b[0m \u001b[0mStopIteration\u001b[0m\u001b[1;33m:\u001b[0m\u001b[1;33m\u001b[0m\u001b[1;33m\u001b[0m\u001b[0m\n\u001b[0;32m   2061\u001b[0m             \u001b[1;32mif\u001b[0m \u001b[0mself\u001b[0m\u001b[1;33m.\u001b[0m\u001b[0m_first_chunk\u001b[0m\u001b[1;33m:\u001b[0m\u001b[1;33m\u001b[0m\u001b[1;33m\u001b[0m\u001b[0m\n",
      "\u001b[1;32mpandas/_libs/parsers.pyx\u001b[0m in \u001b[0;36mpandas._libs.parsers.TextReader.read\u001b[1;34m()\u001b[0m\n",
      "\u001b[1;32mpandas/_libs/parsers.pyx\u001b[0m in \u001b[0;36mpandas._libs.parsers.TextReader._read_low_memory\u001b[1;34m()\u001b[0m\n",
      "\u001b[1;32mpandas/_libs/parsers.pyx\u001b[0m in \u001b[0;36mpandas._libs.parsers.TextReader._read_rows\u001b[1;34m()\u001b[0m\n",
      "\u001b[1;32mpandas/_libs/parsers.pyx\u001b[0m in \u001b[0;36mpandas._libs.parsers.TextReader._convert_column_data\u001b[1;34m()\u001b[0m\n",
      "\u001b[1;32mpandas/_libs/parsers.pyx\u001b[0m in \u001b[0;36mpandas._libs.parsers.TextReader._convert_tokens\u001b[1;34m()\u001b[0m\n",
      "\u001b[1;32mpandas/_libs/parsers.pyx\u001b[0m in \u001b[0;36mpandas._libs.parsers.TextReader._convert_with_dtype\u001b[1;34m()\u001b[0m\n",
      "\u001b[1;32m~\\AppData\\Local\\Programs\\Python\\Python38\\lib\\site-packages\\pandas\\core\\dtypes\\common.py\u001b[0m in \u001b[0;36mis_categorical_dtype\u001b[1;34m(arr_or_dtype)\u001b[0m\n\u001b[0;32m    676\u001b[0m \u001b[1;33m\u001b[0m\u001b[0m\n\u001b[0;32m    677\u001b[0m \u001b[1;33m\u001b[0m\u001b[0m\n\u001b[1;32m--> 678\u001b[1;33m \u001b[1;32mdef\u001b[0m \u001b[0mis_categorical_dtype\u001b[0m\u001b[1;33m(\u001b[0m\u001b[0marr_or_dtype\u001b[0m\u001b[1;33m)\u001b[0m\u001b[1;33m:\u001b[0m\u001b[1;33m\u001b[0m\u001b[1;33m\u001b[0m\u001b[0m\n\u001b[0m\u001b[0;32m    679\u001b[0m     \"\"\"\n\u001b[0;32m    680\u001b[0m     \u001b[0mCheck\u001b[0m \u001b[0mwhether\u001b[0m \u001b[0man\u001b[0m \u001b[0marray\u001b[0m\u001b[1;33m-\u001b[0m\u001b[0mlike\u001b[0m \u001b[1;32mor\u001b[0m \u001b[0mdtype\u001b[0m \u001b[1;32mis\u001b[0m \u001b[0mof\u001b[0m \u001b[0mthe\u001b[0m \u001b[0mCategorical\u001b[0m \u001b[0mdtype\u001b[0m\u001b[1;33m.\u001b[0m\u001b[1;33m\u001b[0m\u001b[1;33m\u001b[0m\u001b[0m\n",
      "\u001b[1;31mKeyboardInterrupt\u001b[0m: "
     ]
    }
   ],
   "source": [
    "delt1 = pd.read_csv('F:/capstone_listenfirst/facebook_post_deltas_1k-10k.tsv')\n",
    "delt2 = pd.read_csv('F:/capstone_listenfirst/facebook_post_deltas_10kplus.tsv')\n",
    "\n",
    "delt = pd.concat([delt1, delt2], ignore_index=True)"
   ]
  },
  {
   "cell_type": "code",
   "execution_count": null,
   "metadata": {},
   "outputs": [],
   "source": [
    "delt.to_csv('F:/capstone_listenfirst/facebook_post_deltas_concat.csv')"
   ]
  },
  {
   "cell_type": "markdown",
   "metadata": {},
   "source": [
    "# Brand"
   ]
  },
  {
   "cell_type": "markdown",
   "metadata": {},
   "source": [
    "## Concat 1-10k, 10k Plus Data"
   ]
  },
  {
   "cell_type": "code",
   "execution_count": 47,
   "metadata": {},
   "outputs": [],
   "source": [
    "dat1 = pd.read_csv('F:/capstone_listenfirst/brand_source_affiliations_1k-10k.tsv', delimiter='\\t')\n",
    "dat2 = pd.read_csv('F:/capstone_listenfirst/brand_source_affiliations_10kplus.tsv', delimiter='\\t')\n",
    "\n",
    "dat = pd.concat([dat1, dat2], ignore_index=True)"
   ]
  },
  {
   "cell_type": "code",
   "execution_count": 48,
   "metadata": {},
   "outputs": [],
   "source": [
    "extras = pd.read_csv('F:/capstone_listenfirst/brand_names_extras.csv')\n",
    "extras['production_company'] = extras['production_company'].str.rstrip()"
   ]
  },
  {
   "cell_type": "code",
   "execution_count": 49,
   "metadata": {},
   "outputs": [],
   "source": [
    "bo = pd.read_csv('../data/movie_data_w_bo_fixed.csv')"
   ]
  },
  {
   "cell_type": "markdown",
   "metadata": {},
   "source": [
    "## Create two columns for genre: top_genre and genre_list.\n",
    "\n",
    "Top genre takes the genre mentioned first (or the only genre) for each movie\n",
    "\n",
    "Genre list is a repeat of the genres column but in list form"
   ]
  },
  {
   "cell_type": "code",
   "execution_count": 50,
   "metadata": {},
   "outputs": [],
   "source": [
    "dat['genre_list'] = [x.split(', ') for x in dat['genres'].values]\n",
    "dat['top_genre'] = [x[0] for x in dat['genre_list'].values]"
   ]
  },
  {
   "cell_type": "markdown",
   "metadata": {},
   "source": [
    "## Create release year column and release year bins"
   ]
  },
  {
   "cell_type": "code",
   "execution_count": 51,
   "metadata": {},
   "outputs": [],
   "source": [
    "dat['released_year'] = [datetime.strptime(x, '%Y-%m-%d').strftime('%Y') if pd.notnull(x) else '' for x in dat['released_on']]\n",
    "dat['released_year'] = dat['released_year'].astype(str)\n",
    "dat['year_bin'] = pd.qcut(pd.to_datetime(dat['released_on'], format='%Y-%m-%d').dt.year, q=5, labels=['1', '2', '3', '4', '5'])"
   ]
  },
  {
   "cell_type": "code",
   "execution_count": 52,
   "metadata": {},
   "outputs": [],
   "source": [
    "dat.to_csv('F:/capstone_listenfirst/brand_concat.csv')"
   ]
  },
  {
   "cell_type": "code",
   "execution_count": 53,
   "metadata": {},
   "outputs": [
    {
     "data": {
      "text/html": [
       "<div>\n",
       "<style scoped>\n",
       "    .dataframe tbody tr th:only-of-type {\n",
       "        vertical-align: middle;\n",
       "    }\n",
       "\n",
       "    .dataframe tbody tr th {\n",
       "        vertical-align: top;\n",
       "    }\n",
       "\n",
       "    .dataframe thead th {\n",
       "        text-align: right;\n",
       "    }\n",
       "</style>\n",
       "<table border=\"1\" class=\"dataframe\">\n",
       "  <thead>\n",
       "    <tr style=\"text-align: right;\">\n",
       "      <th></th>\n",
       "      <th>brand_ods_id</th>\n",
       "      <th>replace</th>\n",
       "      <th>released_on</th>\n",
       "      <th>ticker_symbol</th>\n",
       "      <th>genres</th>\n",
       "      <th>data_profile_dcs_uid</th>\n",
       "      <th>data_profile_channel_type</th>\n",
       "      <th>data_profile_source_type</th>\n",
       "      <th>data_affiliation_active_flag</th>\n",
       "      <th>data_affiliation_start_date_key</th>\n",
       "      <th>data_affiliation_end_date_key</th>\n",
       "      <th>genre_list</th>\n",
       "      <th>top_genre</th>\n",
       "      <th>released_year</th>\n",
       "      <th>year_bin</th>\n",
       "    </tr>\n",
       "  </thead>\n",
       "  <tbody>\n",
       "    <tr>\n",
       "      <th>0</th>\n",
       "      <td>41301</td>\n",
       "      <td>Blade Runner 2049</td>\n",
       "      <td>2017-10-06</td>\n",
       "      <td>T</td>\n",
       "      <td>Sci Fi</td>\n",
       "      <td>45b03b4ab3e6e5781426f83613af0807</td>\n",
       "      <td>instagram</td>\n",
       "      <td>page</td>\n",
       "      <td>t</td>\n",
       "      <td>101</td>\n",
       "      <td>7769</td>\n",
       "      <td>[Sci Fi]</td>\n",
       "      <td>Sci Fi</td>\n",
       "      <td>2017</td>\n",
       "      <td>2</td>\n",
       "    </tr>\n",
       "    <tr>\n",
       "      <th>1</th>\n",
       "      <td>25859</td>\n",
       "      <td>Geostorm</td>\n",
       "      <td>2017-10-20</td>\n",
       "      <td>T</td>\n",
       "      <td>Action, Sci Fi</td>\n",
       "      <td>ea5eb96fa2d53c68a7fec4a76636c6ff</td>\n",
       "      <td>twitter</td>\n",
       "      <td>search_term</td>\n",
       "      <td>t</td>\n",
       "      <td>101</td>\n",
       "      <td>7769</td>\n",
       "      <td>[Action, Sci Fi]</td>\n",
       "      <td>Action</td>\n",
       "      <td>2017</td>\n",
       "      <td>2</td>\n",
       "    </tr>\n",
       "    <tr>\n",
       "      <th>2</th>\n",
       "      <td>44895</td>\n",
       "      <td>Ready Player One</td>\n",
       "      <td>2018-03-29</td>\n",
       "      <td>T</td>\n",
       "      <td>Sci Fi, Action, Thriller</td>\n",
       "      <td>31e9bbe160e77e8558e35bb5c5bd7089</td>\n",
       "      <td>facebook</td>\n",
       "      <td>search_term</td>\n",
       "      <td>t</td>\n",
       "      <td>101</td>\n",
       "      <td>7769</td>\n",
       "      <td>[Sci Fi, Action, Thriller]</td>\n",
       "      <td>Sci Fi</td>\n",
       "      <td>2018</td>\n",
       "      <td>3</td>\n",
       "    </tr>\n",
       "    <tr>\n",
       "      <th>3</th>\n",
       "      <td>10617</td>\n",
       "      <td>Fury</td>\n",
       "      <td>2014-10-17</td>\n",
       "      <td>NaN</td>\n",
       "      <td>Action, Drama, War</td>\n",
       "      <td>6c7dc49a1cece02cc80d0826e6424df2</td>\n",
       "      <td>facebook</td>\n",
       "      <td>search_term</td>\n",
       "      <td>t</td>\n",
       "      <td>101</td>\n",
       "      <td>7769</td>\n",
       "      <td>[Action, Drama, War]</td>\n",
       "      <td>Action</td>\n",
       "      <td>2014</td>\n",
       "      <td>1</td>\n",
       "    </tr>\n",
       "    <tr>\n",
       "      <th>4</th>\n",
       "      <td>10607</td>\n",
       "      <td>Nightcrawler</td>\n",
       "      <td>2014-10-31</td>\n",
       "      <td>NaN</td>\n",
       "      <td>Crime, Thriller, Drama</td>\n",
       "      <td>aaec8ee14f2e372b8e35a72ee9613ca1</td>\n",
       "      <td>twitter</td>\n",
       "      <td>search_term</td>\n",
       "      <td>t</td>\n",
       "      <td>101</td>\n",
       "      <td>7769</td>\n",
       "      <td>[Crime, Thriller, Drama]</td>\n",
       "      <td>Crime</td>\n",
       "      <td>2014</td>\n",
       "      <td>1</td>\n",
       "    </tr>\n",
       "    <tr>\n",
       "      <th>...</th>\n",
       "      <td>...</td>\n",
       "      <td>...</td>\n",
       "      <td>...</td>\n",
       "      <td>...</td>\n",
       "      <td>...</td>\n",
       "      <td>...</td>\n",
       "      <td>...</td>\n",
       "      <td>...</td>\n",
       "      <td>...</td>\n",
       "      <td>...</td>\n",
       "      <td>...</td>\n",
       "      <td>...</td>\n",
       "      <td>...</td>\n",
       "      <td>...</td>\n",
       "      <td>...</td>\n",
       "    </tr>\n",
       "    <tr>\n",
       "      <th>5948</th>\n",
       "      <td>124558</td>\n",
       "      <td>Yesterday</td>\n",
       "      <td>2019-06-28</td>\n",
       "      <td>CMCSA</td>\n",
       "      <td>Comedy</td>\n",
       "      <td>5ed919f3ff31a0e3bf2ac52a3c51e54e</td>\n",
       "      <td>twitter</td>\n",
       "      <td>search_term</td>\n",
       "      <td>t</td>\n",
       "      <td>101</td>\n",
       "      <td>7769</td>\n",
       "      <td>[Comedy]</td>\n",
       "      <td>Comedy</td>\n",
       "      <td>2019</td>\n",
       "      <td>4</td>\n",
       "    </tr>\n",
       "    <tr>\n",
       "      <th>5949</th>\n",
       "      <td>127224</td>\n",
       "      <td>Brahms: The Boy II</td>\n",
       "      <td>2020-02-21</td>\n",
       "      <td>NaN</td>\n",
       "      <td>Mystery, Horror, Thriller</td>\n",
       "      <td>915fb763858e8d833ac9bc65ded66671</td>\n",
       "      <td>twitter</td>\n",
       "      <td>search_term</td>\n",
       "      <td>t</td>\n",
       "      <td>101</td>\n",
       "      <td>7769</td>\n",
       "      <td>[Mystery, Horror, Thriller]</td>\n",
       "      <td>Mystery</td>\n",
       "      <td>2020</td>\n",
       "      <td>5</td>\n",
       "    </tr>\n",
       "    <tr>\n",
       "      <th>5950</th>\n",
       "      <td>10553</td>\n",
       "      <td>How to Train Your Dragon 2</td>\n",
       "      <td>2014-06-13</td>\n",
       "      <td>FOXA</td>\n",
       "      <td>Adventure, Action, Animation</td>\n",
       "      <td>b309e9bf3223aa010a13ff30ae16a09d</td>\n",
       "      <td>twitter</td>\n",
       "      <td>search_term</td>\n",
       "      <td>t</td>\n",
       "      <td>101</td>\n",
       "      <td>7769</td>\n",
       "      <td>[Adventure, Action, Animation]</td>\n",
       "      <td>Adventure</td>\n",
       "      <td>2014</td>\n",
       "      <td>1</td>\n",
       "    </tr>\n",
       "    <tr>\n",
       "      <th>5951</th>\n",
       "      <td>59294</td>\n",
       "      <td>Jurassic World: Fallen Kingdom</td>\n",
       "      <td>2018-06-22</td>\n",
       "      <td>CMCSA</td>\n",
       "      <td>Adventure, Sci Fi, Action</td>\n",
       "      <td>de2417a5fec251126d3a9ee5bfabfd39</td>\n",
       "      <td>twitter</td>\n",
       "      <td>search_term</td>\n",
       "      <td>t</td>\n",
       "      <td>101</td>\n",
       "      <td>7769</td>\n",
       "      <td>[Adventure, Sci Fi, Action]</td>\n",
       "      <td>Adventure</td>\n",
       "      <td>2018</td>\n",
       "      <td>3</td>\n",
       "    </tr>\n",
       "    <tr>\n",
       "      <th>5952</th>\n",
       "      <td>69528</td>\n",
       "      <td>John Wick: Chapter 3 - Parabellum</td>\n",
       "      <td>2019-05-17</td>\n",
       "      <td>LGF.A</td>\n",
       "      <td>Thriller, Crime, Action</td>\n",
       "      <td>765552c48c7e88542c1fb24ff642b958</td>\n",
       "      <td>twitter</td>\n",
       "      <td>search_term</td>\n",
       "      <td>t</td>\n",
       "      <td>101</td>\n",
       "      <td>7769</td>\n",
       "      <td>[Thriller, Crime, Action]</td>\n",
       "      <td>Thriller</td>\n",
       "      <td>2019</td>\n",
       "      <td>4</td>\n",
       "    </tr>\n",
       "  </tbody>\n",
       "</table>\n",
       "<p>5953 rows × 15 columns</p>\n",
       "</div>"
      ],
      "text/plain": [
       "      brand_ods_id                             replace released_on  \\\n",
       "0            41301                  Blade Runner 2049   2017-10-06   \n",
       "1            25859                           Geostorm   2017-10-20   \n",
       "2            44895                   Ready Player One   2018-03-29   \n",
       "3            10617                               Fury   2014-10-17   \n",
       "4            10607                       Nightcrawler   2014-10-31   \n",
       "...            ...                                 ...         ...   \n",
       "5948        124558                          Yesterday   2019-06-28   \n",
       "5949        127224                 Brahms: The Boy II   2020-02-21   \n",
       "5950         10553         How to Train Your Dragon 2   2014-06-13   \n",
       "5951         59294     Jurassic World: Fallen Kingdom   2018-06-22   \n",
       "5952         69528  John Wick: Chapter 3 - Parabellum   2019-05-17   \n",
       "\n",
       "     ticker_symbol                        genres  \\\n",
       "0                T                        Sci Fi   \n",
       "1                T                Action, Sci Fi   \n",
       "2                T      Sci Fi, Action, Thriller   \n",
       "3              NaN            Action, Drama, War   \n",
       "4              NaN        Crime, Thriller, Drama   \n",
       "...            ...                           ...   \n",
       "5948         CMCSA                        Comedy   \n",
       "5949           NaN     Mystery, Horror, Thriller   \n",
       "5950          FOXA  Adventure, Action, Animation   \n",
       "5951         CMCSA     Adventure, Sci Fi, Action   \n",
       "5952         LGF.A       Thriller, Crime, Action   \n",
       "\n",
       "                  data_profile_dcs_uid data_profile_channel_type  \\\n",
       "0     45b03b4ab3e6e5781426f83613af0807                 instagram   \n",
       "1     ea5eb96fa2d53c68a7fec4a76636c6ff                   twitter   \n",
       "2     31e9bbe160e77e8558e35bb5c5bd7089                  facebook   \n",
       "3     6c7dc49a1cece02cc80d0826e6424df2                  facebook   \n",
       "4     aaec8ee14f2e372b8e35a72ee9613ca1                   twitter   \n",
       "...                                ...                       ...   \n",
       "5948  5ed919f3ff31a0e3bf2ac52a3c51e54e                   twitter   \n",
       "5949  915fb763858e8d833ac9bc65ded66671                   twitter   \n",
       "5950  b309e9bf3223aa010a13ff30ae16a09d                   twitter   \n",
       "5951  de2417a5fec251126d3a9ee5bfabfd39                   twitter   \n",
       "5952  765552c48c7e88542c1fb24ff642b958                   twitter   \n",
       "\n",
       "     data_profile_source_type data_affiliation_active_flag  \\\n",
       "0                        page                            t   \n",
       "1                 search_term                            t   \n",
       "2                 search_term                            t   \n",
       "3                 search_term                            t   \n",
       "4                 search_term                            t   \n",
       "...                       ...                          ...   \n",
       "5948              search_term                            t   \n",
       "5949              search_term                            t   \n",
       "5950              search_term                            t   \n",
       "5951              search_term                            t   \n",
       "5952              search_term                            t   \n",
       "\n",
       "      data_affiliation_start_date_key  data_affiliation_end_date_key  \\\n",
       "0                                 101                           7769   \n",
       "1                                 101                           7769   \n",
       "2                                 101                           7769   \n",
       "3                                 101                           7769   \n",
       "4                                 101                           7769   \n",
       "...                               ...                            ...   \n",
       "5948                              101                           7769   \n",
       "5949                              101                           7769   \n",
       "5950                              101                           7769   \n",
       "5951                              101                           7769   \n",
       "5952                              101                           7769   \n",
       "\n",
       "                          genre_list  top_genre released_year year_bin  \n",
       "0                           [Sci Fi]     Sci Fi          2017        2  \n",
       "1                   [Action, Sci Fi]     Action          2017        2  \n",
       "2         [Sci Fi, Action, Thriller]     Sci Fi          2018        3  \n",
       "3               [Action, Drama, War]     Action          2014        1  \n",
       "4           [Crime, Thriller, Drama]      Crime          2014        1  \n",
       "...                              ...        ...           ...      ...  \n",
       "5948                        [Comedy]     Comedy          2019        4  \n",
       "5949     [Mystery, Horror, Thriller]    Mystery          2020        5  \n",
       "5950  [Adventure, Action, Animation]  Adventure          2014        1  \n",
       "5951     [Adventure, Sci Fi, Action]  Adventure          2018        3  \n",
       "5952       [Thriller, Crime, Action]   Thriller          2019        4  \n",
       "\n",
       "[5953 rows x 15 columns]"
      ]
     },
     "execution_count": 53,
     "metadata": {},
     "output_type": "execute_result"
    }
   ],
   "source": [
    "dat"
   ]
  },
  {
   "cell_type": "markdown",
   "metadata": {},
   "source": [
    "## Join in extra data and filter"
   ]
  },
  {
   "cell_type": "code",
   "execution_count": 54,
   "metadata": {},
   "outputs": [],
   "source": [
    "dat['replace'] = [x.rstrip() for x in dat['replace']]\n",
    "dat = pd.merge(dat, extras, how='inner', left_on='replace', right_on='movies')\n",
    "dat = dat.rename(columns={'budget ': 'budget', 'rating ': 'rating', 'source ': 'source'})"
   ]
  },
  {
   "cell_type": "markdown",
   "metadata": {},
   "source": [
    "## Remove extra columns"
   ]
  },
  {
   "cell_type": "code",
   "execution_count": 55,
   "metadata": {},
   "outputs": [],
   "source": [
    "dat = dat[dat['release_year']!='remove'].drop_duplicates('replace').drop(['movies', 'poc', 'brand_ods_id_y', 'notes'], axis=1)"
   ]
  },
  {
   "cell_type": "code",
   "execution_count": 56,
   "metadata": {},
   "outputs": [],
   "source": [
    "dat['released_year'] = np.where(dat['released_year']=='', dat['release_year'], dat['released_year'])"
   ]
  },
  {
   "cell_type": "markdown",
   "metadata": {},
   "source": [
    "## Fill NA values: released_on"
   ]
  },
  {
   "cell_type": "code",
   "execution_count": 57,
   "metadata": {},
   "outputs": [],
   "source": [
    "fill_dates = dat[dat['released_on'].isna()]\n",
    "dat = dat[dat['released_on'].notna()]"
   ]
  },
  {
   "cell_type": "code",
   "execution_count": 58,
   "metadata": {},
   "outputs": [],
   "source": [
    "fill_dates['released_on'] = ['2009-08-07',\n",
    "                             '1999-07-09',\n",
    "                             '1988-07-15',\n",
    "                             'remove',\n",
    "                             'remove',\n",
    "                             'remove',\n",
    "                             '2010-12-03',\n",
    "                             '2009-01-09',\n",
    "                             '2004-07-18',\n",
    "                             '1990-12-07',\n",
    "                             '2020-01-17',\n",
    "                             '2010-07-09',\n",
    "                             '2004-03-09',\n",
    "                             '1999-10-15',\n",
    "                             '2009-12-23',\n",
    "                             '2009-04-03']"
   ]
  },
  {
   "cell_type": "code",
   "execution_count": 59,
   "metadata": {},
   "outputs": [],
   "source": [
    "dat = dat.append(fill_dates[fill_dates['released_on']!='remove'])\n",
    "dat = dat.drop('release_year', axis=1)"
   ]
  },
  {
   "cell_type": "markdown",
   "metadata": {},
   "source": [
    "## Fill NA valaues: production_company"
   ]
  },
  {
   "cell_type": "code",
   "execution_count": 60,
   "metadata": {},
   "outputs": [],
   "source": [
    "fill_prod = dat[dat['production_company'].isna()]\n",
    "dat = dat[dat['production_company'].notna()]"
   ]
  },
  {
   "cell_type": "code",
   "execution_count": 61,
   "metadata": {},
   "outputs": [],
   "source": [
    "fill_prod['production_company'] = ['Amazon Studios',\n",
    "                                   'remove',\n",
    "                                   'remove',\n",
    "                                   'Chartoff Winkler Productions',\n",
    "                                   'remove',\n",
    "                                   'Opus Film',\n",
    "                                   'DreamWorks Pictures']"
   ]
  },
  {
   "cell_type": "code",
   "execution_count": 62,
   "metadata": {},
   "outputs": [],
   "source": [
    "dat = dat.append(fill_prod[fill_prod['production_company']!='remove'])"
   ]
  },
  {
   "cell_type": "markdown",
   "metadata": {},
   "source": [
    "## Fill NA values: rating"
   ]
  },
  {
   "cell_type": "code",
   "execution_count": 63,
   "metadata": {},
   "outputs": [],
   "source": [
    "fill_rating = dat[(dat['rating'].isna()) | (dat['rating']=='Not Rated')]\n",
    "dat = dat[(dat['rating'].notna()) & (dat['rating']!='Not Rated')]"
   ]
  },
  {
   "cell_type": "code",
   "execution_count": 64,
   "metadata": {},
   "outputs": [],
   "source": [
    "fill_rating['rating'] = ['remove',\n",
    "                         'remove', \n",
    "                         'remove',\n",
    "                         'remove', \n",
    "                         'remove', \n",
    "                         'R', \n",
    "                         'R',\n",
    "                         'remove',\n",
    "                         'remove',\n",
    "                         'PG',\n",
    "                         'PG-13',\n",
    "                         'R',\n",
    "                         'PG-13',\n",
    "                         'R',\n",
    "                         'R',\n",
    "                         'G']"
   ]
  },
  {
   "cell_type": "code",
   "execution_count": 65,
   "metadata": {},
   "outputs": [],
   "source": [
    "dat = dat.append(fill_rating[fill_rating['rating']!='remove'])"
   ]
  },
  {
   "cell_type": "markdown",
   "metadata": {},
   "source": [
    "## Fill NA values: source"
   ]
  },
  {
   "cell_type": "code",
   "execution_count": 66,
   "metadata": {},
   "outputs": [],
   "source": [
    "fill_source = dat[dat['source'].isna()]\n",
    "dat = dat[dat['source'].notna()]"
   ]
  },
  {
   "cell_type": "code",
   "execution_count": 67,
   "metadata": {},
   "outputs": [],
   "source": [
    "fill_source['source'] = ['Original',\n",
    "                         'Original']"
   ]
  },
  {
   "cell_type": "code",
   "execution_count": 68,
   "metadata": {},
   "outputs": [],
   "source": [
    "dat = dat.append(fill_source)"
   ]
  },
  {
   "cell_type": "markdown",
   "metadata": {},
   "source": [
    "## Add box office"
   ]
  },
  {
   "cell_type": "code",
   "execution_count": 69,
   "metadata": {},
   "outputs": [],
   "source": [
    "dat = pd.merge(dat, bo, left_on='replace', right_on='Movie')\n",
    "dat = dat.drop(['Unnamed: 0', 'date URL', 'ReleaseDate', 'summary URL', 'Movie', 'ProductionBudget', 'WorldwideGross'], axis=1)"
   ]
  },
  {
   "cell_type": "code",
   "execution_count": 70,
   "metadata": {},
   "outputs": [],
   "source": [
    "dat = dat.drop_duplicates('replace')"
   ]
  },
  {
   "cell_type": "code",
   "execution_count": 72,
   "metadata": {},
   "outputs": [],
   "source": [
    "fill_bo = dat[dat['DomesticGross']==0]\n",
    "dat = dat[dat['DomesticGross']!=0]"
   ]
  },
  {
   "cell_type": "code",
   "execution_count": 76,
   "metadata": {},
   "outputs": [],
   "source": [
    "fill_bo['budget'] = [8000000.0,\n",
    "                     40000000.0,\n",
    "                     18000000.0]\n",
    "\n",
    "fill_bo['DomesticGross'] = [517788,\n",
    "                            3300000,\n",
    "                            4400000]"
   ]
  },
  {
   "cell_type": "code",
   "execution_count": 79,
   "metadata": {},
   "outputs": [],
   "source": [
    "dat = dat.append(fill_bo)"
   ]
  },
  {
   "cell_type": "code",
   "execution_count": 80,
   "metadata": {},
   "outputs": [],
   "source": [
    "dat.to_csv('F:/capstone_listenfirst/brands_with_extras.csv')"
   ]
  },
  {
   "cell_type": "markdown",
   "metadata": {},
   "source": [
    "## Add extra variables for KModes"
   ]
  },
  {
   "cell_type": "code",
   "execution_count": 81,
   "metadata": {},
   "outputs": [],
   "source": [
    "ep = EasyPeasy()"
   ]
  },
  {
   "cell_type": "code",
   "execution_count": 82,
   "metadata": {},
   "outputs": [],
   "source": [
    "dat = dat.reset_index().drop('index', axis=1)"
   ]
  },
  {
   "cell_type": "code",
   "execution_count": 83,
   "metadata": {},
   "outputs": [],
   "source": [
    "for x, y in enumerate(dat.itertuples()):\n",
    "    if y[13] in ['Sci Fi', 'Fantasy']:\n",
    "        dat.at[x, 'genre_grouped'] = 'Fantasy'\n",
    "    elif y[13] in ['Action']:\n",
    "        dat.at[x, 'genre_grouped'] = 'Action'\n",
    "    elif y[13] in ['Crime', 'Thriller', 'Mystery']:\n",
    "        dat.at[x, 'genre_grouped'] = 'Thriller' \n",
    "    elif y[13] in ['Biography', 'Documentary', 'Sport', 'History', 'War']:\n",
    "        dat.at[x, 'genre_grouped'] = 'Documentary'\n",
    "    elif y[13] in ['Horror']:\n",
    "        dat.at[x, 'genre_grouped'] = 'Horror'\n",
    "    elif y[13] in ['Adventure', 'Western']:\n",
    "        dat.at[x, 'genre_grouped'] = 'Adventure'\n",
    "    elif y[13] in ['Romance', 'Drama', 'Adult']:\n",
    "        dat.at[x, 'genre_grouped'] = 'Drama'\n",
    "    elif y[13] in ['Comedy']:\n",
    "        dat.at[x, 'genre_grouped'] = 'Comedy'\n",
    "    elif y[13] in ['Animation', 'Musical', 'Music', 'Family']:\n",
    "        dat.at[x, 'genre_grouped'] = 'Family'"
   ]
  },
  {
   "cell_type": "code",
   "execution_count": 84,
   "metadata": {},
   "outputs": [],
   "source": [
    "dat['released_year_filter'] = pd.to_datetime(dat['released_year'], format='%Y').dt.year.astype(int)\n",
    "\n",
    "dat = dat[dat['released_year_filter']>=2010]\n",
    "dat = dat.drop('released_year_filter', axis=1)"
   ]
  },
  {
   "cell_type": "code",
   "execution_count": 85,
   "metadata": {},
   "outputs": [
    {
     "name": "stderr",
     "output_type": "stream",
     "text": [
      "C:\\Users\\Alex\\AppData\\Local\\Programs\\Python\\Python38\\lib\\site-packages\\easymoney\\money.py:213: UserWarning: \n",
      "Inflation (CPI) data for 2020 in 'United States' could not be obtained from the\n",
      "International Monetary Fund database currently cached.\n",
      "Falling back to 2019.\n",
      "  warn(warn_msg % (year, natural_region_name, str(fall_back_year)))\n"
     ]
    }
   ],
   "source": [
    "dat['budget'] = dat['budget'].fillna(0)\n",
    "dat['inflated_budget'] = [ep.normalize(amount=x[1]['budget'], region=\"US\", base_currency=\"USD\", from_year=x[1]['released_year'], to_year=\"latest\") for x in dat.iterrows()]\n",
    "dat['inflated_budget'].astype(int)\n",
    "dat['budget_cat'] = pd.cut(dat['inflated_budget'], [-5, 6000000, 50000000, 500000000], labels=['LowBudget', 'MediumBudget', 'HighBudget'])\n",
    "\n",
    "dat['inflated_boxoffice'] = [ep.normalize(amount=x[1]['DomesticGross'], region=\"US\", base_currency=\"USD\", from_year=x[1]['released_year'], to_year=\"latest\") for x in dat.iterrows()]\n",
    "dat['inflated_boxoffice'].astype(int)\n",
    "\n",
    "dat['released_year'] = [datetime.strptime(x, '%Y-%m-%d').strftime('%Y') if pd.notnull(x) else '' for x in dat['released_on']]\n",
    "dat['released_year'] = dat['released_year'].astype(str)\n",
    "dat['year_bin'] = pd.cut(pd.to_datetime(dat['released_on'], format='%Y-%m-%d').dt.year, bins=10, labels=['1','2','3','4','5','6','7','8','9','10'])\n",
    "dat['year_q_bin'] = pd.qcut(pd.to_datetime(dat['released_on'], format='%Y-%m-%d').dt.year, q=5, duplicates='drop',\n",
    "                            labels=list(map(str, range(1, 6))))\n",
    "\n",
    "dat['franchise'] = np.where(dat['franchise']==1.0, 'Yes', 'No')"
   ]
  },
  {
   "cell_type": "markdown",
   "metadata": {},
   "source": [
    "Add production company bins\n"
   ]
  },
  {
   "cell_type": "code",
   "execution_count": 86,
   "metadata": {},
   "outputs": [],
   "source": [
    "prod = pd.read_csv('../extras/production_company_info.csv').loc[:, 'production_company':]"
   ]
  },
  {
   "cell_type": "code",
   "execution_count": 87,
   "metadata": {},
   "outputs": [],
   "source": [
    "prod['box_office_tot'] = [int(re.sub('[$]|[,]', '', str(x))) for x in prod['box_office_tot']]"
   ]
  },
  {
   "cell_type": "code",
   "execution_count": 88,
   "metadata": {},
   "outputs": [],
   "source": [
    "prod = prod.sort_values('box_office_tot', ascending=False)\n",
    "\n",
    "prod['rank'] = list(range(1, len(prod)+1))\n",
    "prod = prod.set_index('production_company')"
   ]
  },
  {
   "cell_type": "code",
   "execution_count": 89,
   "metadata": {
    "scrolled": true
   },
   "outputs": [],
   "source": [
    "dat = dat.join(prod, on='production_company').drop(['movie_count', 'box_office_tot', 'world_box_office_tot'], axis=1)"
   ]
  },
  {
   "cell_type": "code",
   "execution_count": 90,
   "metadata": {},
   "outputs": [],
   "source": [
    "dat['production_company_bin'] = pd.cut(dat['rank'], bins=[-np.inf, 5, 100, np.inf], labels=['Top5', 'Top100', 'Top100+'])"
   ]
  },
  {
   "cell_type": "code",
   "execution_count": 91,
   "metadata": {},
   "outputs": [],
   "source": [
    "dat = dat.rename(columns={'brand_ods_id_x': 'brand_ods_id'})"
   ]
  },
  {
   "cell_type": "code",
   "execution_count": 92,
   "metadata": {},
   "outputs": [],
   "source": [
    "dat.to_csv('F:/capstone_listenfirst/brands_with_extras_kmodes.csv', index=False)"
   ]
  },
  {
   "cell_type": "code",
   "execution_count": 93,
   "metadata": {},
   "outputs": [],
   "source": [
    "dat.to_csv('../data/brands_with_extras_kmodes.csv', index=False)"
   ]
  },
  {
   "cell_type": "code",
   "execution_count": null,
   "metadata": {},
   "outputs": [],
   "source": []
  }
 ],
 "metadata": {
  "kernelspec": {
   "display_name": "Python 3.8.1 64-bit",
   "language": "python",
   "name": "python38164bite0d76cbd03eb4772b0bce64629b406d3"
  },
  "language_info": {
   "codemirror_mode": {
    "name": "ipython",
    "version": 3
   },
   "file_extension": ".py",
   "mimetype": "text/x-python",
   "name": "python",
   "nbconvert_exporter": "python",
   "pygments_lexer": "ipython3",
   "version": "3.8.1"
  }
 },
 "nbformat": 4,
 "nbformat_minor": 4
}
