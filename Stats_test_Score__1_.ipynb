{
 "cells": [
  {
   "cell_type": "markdown",
   "metadata": {},
   "source": [
    "# ROI Score"
   ]
  },
  {
   "cell_type": "code",
   "execution_count": 113,
   "metadata": {},
   "outputs": [],
   "source": [
    "import pandas as pd\n",
    "import numpy as np\n",
    "from sklearn.utils import shuffle\n",
    "\n",
    "from keras.models import model_from_json\n",
    "from keras.optimizers import SGD\n",
    "\n",
    "import datetime as dt\n",
    "from datetime import timedelta\n",
    "\n",
    "import matplotlib.pyplot as plt\n",
    "import seaborn as sns\n",
    "\n",
    "import ast\n",
    "import sys  \n",
    "from utils.ScoreGenerator import ScoreGenerator"
   ]
  },
  {
   "cell_type": "code",
   "execution_count": 114,
   "metadata": {},
   "outputs": [],
   "source": [
    "import scipy.stats as sps\n",
    "from scipy import stats\n",
    "import statistics"
   ]
  },
  {
   "cell_type": "code",
   "execution_count": 115,
   "metadata": {},
   "outputs": [],
   "source": [
    "fb = pd.concat([pd.read_csv('/home/jovyan/capstone_data/listenfirst/data/view_brand_rollup_facebook_1k-10k.tsv', delimiter='\\t'),\n",
    "                pd.read_csv('/home/jovyan/capstone_data/listenfirst/data/view_brand_rollup_facebook_10kplus.tsv', delimiter='\\t')])\n",
    "\n",
    "twitter = pd.concat([pd.read_csv('/home/jovyan/capstone_data/listenfirst/data/view_brand_rollup_twitter_1k-10k.tsv', delimiter='\\t'),\n",
    "                pd.read_csv('/home/jovyan/capstone_data/listenfirst/data/view_brand_rollup_twitter_10kplus.tsv', delimiter='\\t')])\n",
    "\n",
    "insta = pd.concat([pd.read_csv('/home/jovyan/capstone_data/listenfirst/data/view_brand_rollup_instagram_1k-10k.tsv', delimiter='\\t'),\n",
    "                pd.read_csv('/home/jovyan/capstone_data/listenfirst/data/view_brand_rollup_instagram_10kplus.tsv', delimiter='\\t')])"
   ]
  },
  {
   "cell_type": "code",
   "execution_count": 116,
   "metadata": {},
   "outputs": [],
   "source": [
    "clusters = pd.read_csv('utils/clusters.csv')\n",
    "clusters['flop'] = np.where(clusters['DomesticGross']<clusters['budget'], 1, 0)"
   ]
  },
  {
   "cell_type": "code",
   "execution_count": 117,
   "metadata": {},
   "outputs": [],
   "source": [
    "fb = pd.merge(fb, clusters, left_on = 'movie_id', right_on = 'brand_ods_id' , how = 'left')\n",
    "\n",
    "fb['data_for']= pd.to_datetime(fb['data_for']) \n",
    "fb['released_on'] = pd.to_datetime(fb['released_on'])\n",
    "fb['days_after_release'] = fb['data_for'] - fb['released_on']"
   ]
  },
  {
   "cell_type": "code",
   "execution_count": 118,
   "metadata": {},
   "outputs": [],
   "source": [
    "## drop flop == NaN for now\n",
    "fb = fb[fb['flop'].notna()]"
   ]
  },
  {
   "cell_type": "markdown",
   "metadata": {},
   "source": [
    "## Non-parametric statistical tests for Facebook, 30 days before release"
   ]
  },
  {
   "cell_type": "code",
   "execution_count": 119,
   "metadata": {},
   "outputs": [],
   "source": [
    "fb_30 = fb[fb['days_after_release'] == '-30 days']"
   ]
  },
  {
   "cell_type": "code",
   "execution_count": 120,
   "metadata": {},
   "outputs": [
    {
     "name": "stderr",
     "output_type": "stream",
     "text": [
      "/usr/local/lib/python3.6/dist-packages/ipykernel_launcher.py:3: SettingWithCopyWarning:\n",
      "\n",
      "\n",
      "A value is trying to be set on a copy of a slice from a DataFrame.\n",
      "Try using .loc[row_indexer,col_indexer] = value instead\n",
      "\n",
      "See the caveats in the documentation: https://pandas.pydata.org/pandas-docs/stable/user_guide/indexing.html#returning-a-view-versus-a-copy\n",
      "\n"
     ]
    }
   ],
   "source": [
    "fb_30['score'] = ((fb_30['total_post_interactions'] - fb_30['total_post_comments']) - \\\n",
    "               (0.5 * fb_30['total_post_sad_count'] + 0.5 * fb_30['total_post_angry_count'])) / \\\n",
    "               fb_30['total_post']"
   ]
  },
  {
   "cell_type": "code",
   "execution_count": 121,
   "metadata": {},
   "outputs": [],
   "source": [
    "fb_30_success = fb_30[fb_30['flop'] == 0]\n",
    "fb_30_flop = fb_30[fb_30['flop'] == 1]"
   ]
  },
  {
   "cell_type": "code",
   "execution_count": 123,
   "metadata": {},
   "outputs": [
    {
     "data": {
      "text/plain": [
       "1"
      ]
     },
     "execution_count": 123,
     "metadata": {},
     "output_type": "execute_result"
    }
   ],
   "source": [
    "#fb_30_flop['score'].isna().sum()"
   ]
  },
  {
   "cell_type": "code",
   "execution_count": 124,
   "metadata": {},
   "outputs": [
    {
     "data": {
      "text/html": [
       "<div>\n",
       "<style scoped>\n",
       "    .dataframe tbody tr th:only-of-type {\n",
       "        vertical-align: middle;\n",
       "    }\n",
       "\n",
       "    .dataframe tbody tr th {\n",
       "        vertical-align: top;\n",
       "    }\n",
       "\n",
       "    .dataframe thead th {\n",
       "        text-align: right;\n",
       "    }\n",
       "</style>\n",
       "<table border=\"1\" class=\"dataframe\">\n",
       "  <thead>\n",
       "    <tr style=\"text-align: right;\">\n",
       "      <th></th>\n",
       "      <th>movie_id</th>\n",
       "      <th>data_for</th>\n",
       "      <th>likes_c</th>\n",
       "      <th>likes</th>\n",
       "      <th>talking_about_c</th>\n",
       "      <th>talking_about</th>\n",
       "      <th>engagement_rate_c</th>\n",
       "      <th>engagement_rate</th>\n",
       "      <th>total_post_c</th>\n",
       "      <th>total_post</th>\n",
       "      <th>...</th>\n",
       "      <th>inflated_budget</th>\n",
       "      <th>budget_cat</th>\n",
       "      <th>inflated_boxoffice</th>\n",
       "      <th>year_q_bin</th>\n",
       "      <th>rank</th>\n",
       "      <th>production_company_bin</th>\n",
       "      <th>cluster_id</th>\n",
       "      <th>flop</th>\n",
       "      <th>days_after_release</th>\n",
       "      <th>score</th>\n",
       "    </tr>\n",
       "  </thead>\n",
       "  <tbody>\n",
       "    <tr>\n",
       "      <th>2239516</th>\n",
       "      <td>60789</td>\n",
       "      <td>2012-12-27</td>\n",
       "      <td>NaN</td>\n",
       "      <td>NaN</td>\n",
       "      <td>NaN</td>\n",
       "      <td>NaN</td>\n",
       "      <td>NaN</td>\n",
       "      <td>NaN</td>\n",
       "      <td>0</td>\n",
       "      <td>0</td>\n",
       "      <td>...</td>\n",
       "      <td>-0.597882</td>\n",
       "      <td>MediumBudget</td>\n",
       "      <td>-0.679058</td>\n",
       "      <td>1.0</td>\n",
       "      <td>246.0</td>\n",
       "      <td>Top100+</td>\n",
       "      <td>5.0</td>\n",
       "      <td>1.0</td>\n",
       "      <td>-30 days</td>\n",
       "      <td>NaN</td>\n",
       "    </tr>\n",
       "  </tbody>\n",
       "</table>\n",
       "<p>1 rows × 71 columns</p>\n",
       "</div>"
      ],
      "text/plain": [
       "         movie_id   data_for  likes_c  likes  talking_about_c  talking_about  \\\n",
       "2239516     60789 2012-12-27      NaN    NaN              NaN            NaN   \n",
       "\n",
       "         engagement_rate_c  engagement_rate  total_post_c  total_post  ...  \\\n",
       "2239516                NaN              NaN             0           0  ...   \n",
       "\n",
       "         inflated_budget    budget_cat  inflated_boxoffice  year_q_bin   rank  \\\n",
       "2239516        -0.597882  MediumBudget           -0.679058         1.0  246.0   \n",
       "\n",
       "         production_company_bin  cluster_id  flop  days_after_release  score  \n",
       "2239516                 Top100+         5.0   1.0            -30 days    NaN  \n",
       "\n",
       "[1 rows x 71 columns]"
      ]
     },
     "execution_count": 124,
     "metadata": {},
     "output_type": "execute_result"
    }
   ],
   "source": [
    "#fb_30_flop[fb_30_flop['score'].isna()]"
   ]
  },
  {
   "cell_type": "code",
   "execution_count": 152,
   "metadata": {},
   "outputs": [],
   "source": [
    "fb_30_success = fb_30_success.dropna()\n",
    "fb_30_flop = fb_30_flop.dropna()"
   ]
  },
  {
   "cell_type": "code",
   "execution_count": 134,
   "metadata": {},
   "outputs": [],
   "source": [
    "#fb_30_flop = fb_30_flop[fb_30_flop.movie_id != 60789]"
   ]
  },
  {
   "cell_type": "code",
   "execution_count": 135,
   "metadata": {},
   "outputs": [
    {
     "data": {
      "text/plain": [
       "0"
      ]
     },
     "execution_count": 135,
     "metadata": {},
     "output_type": "execute_result"
    }
   ],
   "source": [
    "#fb_30_flop['score'].isna().sum()"
   ]
  },
  {
   "cell_type": "markdown",
   "metadata": {},
   "source": [
    "### Two sample ks test to compare distributions\n",
    "#### Null hypothesis (H0): both samples come from the same distribution"
   ]
  },
  {
   "cell_type": "code",
   "execution_count": 136,
   "metadata": {},
   "outputs": [
    {
     "data": {
      "text/plain": [
       "Ks_2sampResult(statistic=0.16888045540796964, pvalue=0.003529303383096538)"
      ]
     },
     "execution_count": 136,
     "metadata": {},
     "output_type": "execute_result"
    }
   ],
   "source": [
    "KS_30 = sps.ks_2samp(fb_30_success['score'], fb_30_flop['score'])\n",
    "KS_30"
   ]
  },
  {
   "cell_type": "markdown",
   "metadata": {},
   "source": [
    "#### p-value = 0.004 < alpha = 0.05. Reject the null hypothesis and conclude that the two score distributions are different."
   ]
  },
  {
   "cell_type": "code",
   "execution_count": 138,
   "metadata": {},
   "outputs": [],
   "source": [
    "#####################################################################################################"
   ]
  },
  {
   "cell_type": "markdown",
   "metadata": {},
   "source": [
    "### Kruskal Wallis Test to compare medians in two distributions\n",
    "#### Null hypothesis (H0): population medians are equal."
   ]
  },
  {
   "cell_type": "code",
   "execution_count": 139,
   "metadata": {},
   "outputs": [
    {
     "data": {
      "text/plain": [
       "5968.3628163074045"
      ]
     },
     "execution_count": 139,
     "metadata": {},
     "output_type": "execute_result"
    }
   ],
   "source": [
    "## Calculate medians\n",
    "Median_success_30 = statistics.median(fb_30_success['score'])\n",
    "Median_success_30"
   ]
  },
  {
   "cell_type": "code",
   "execution_count": 140,
   "metadata": {},
   "outputs": [
    {
     "data": {
      "text/plain": [
       "3985.2727272727275"
      ]
     },
     "execution_count": 140,
     "metadata": {},
     "output_type": "execute_result"
    }
   ],
   "source": [
    "## Calculate medians\n",
    "Median_flop_30 = statistics.median(fb_30_flop['score'])\n",
    "Median_flop_30"
   ]
  },
  {
   "cell_type": "code",
   "execution_count": 141,
   "metadata": {},
   "outputs": [
    {
     "data": {
      "text/plain": [
       "KruskalResult(statistic=9.498658419171534, pvalue=0.002056221866569519)"
      ]
     },
     "execution_count": 141,
     "metadata": {},
     "output_type": "execute_result"
    }
   ],
   "source": [
    "KW_30 = stats.kruskal(fb_30_success['score'], fb_30_flop['score'])\n",
    "KW_30"
   ]
  },
  {
   "cell_type": "markdown",
   "metadata": {},
   "source": [
    "#### p-value = 0.002 < alpha = 0.05. Reject the null hypothesis and conclude that score medians are different."
   ]
  },
  {
   "cell_type": "code",
   "execution_count": 132,
   "metadata": {},
   "outputs": [],
   "source": [
    "#################################################################################################################"
   ]
  },
  {
   "cell_type": "markdown",
   "metadata": {},
   "source": [
    "### Mann Whitney U test to compare means in two distributions"
   ]
  },
  {
   "cell_type": "code",
   "execution_count": 133,
   "metadata": {},
   "outputs": [
    {
     "data": {
      "text/plain": [
       "MannwhitneyuResult(statistic=23962.0, pvalue=0.0015813214793131943)"
      ]
     },
     "execution_count": 133,
     "metadata": {},
     "output_type": "execute_result"
    }
   ],
   "source": [
    "MWU_30 = stats.mannwhitneyu(fb_30_success['score'], fb_30_flop['score'])\n",
    "MWU_30"
   ]
  },
  {
   "cell_type": "markdown",
   "metadata": {},
   "source": [
    "#### p-value = 0.0016 < alpha = 0.05. Reject the null hypothesis and conclude that score means are different."
   ]
  },
  {
   "cell_type": "code",
   "execution_count": null,
   "metadata": {},
   "outputs": [],
   "source": []
  },
  {
   "cell_type": "markdown",
   "metadata": {},
   "source": [
    "## Non-parametric statistical tests for Facebook, 60 days before release"
   ]
  },
  {
   "cell_type": "code",
   "execution_count": 142,
   "metadata": {},
   "outputs": [],
   "source": [
    "fb_60 = fb[fb['days_after_release'] == '-60 days']"
   ]
  },
  {
   "cell_type": "code",
   "execution_count": 143,
   "metadata": {},
   "outputs": [
    {
     "name": "stderr",
     "output_type": "stream",
     "text": [
      "/usr/local/lib/python3.6/dist-packages/ipykernel_launcher.py:3: SettingWithCopyWarning:\n",
      "\n",
      "\n",
      "A value is trying to be set on a copy of a slice from a DataFrame.\n",
      "Try using .loc[row_indexer,col_indexer] = value instead\n",
      "\n",
      "See the caveats in the documentation: https://pandas.pydata.org/pandas-docs/stable/user_guide/indexing.html#returning-a-view-versus-a-copy\n",
      "\n"
     ]
    }
   ],
   "source": [
    "fb_60['score'] = ((fb_60['total_post_interactions'] - fb_60['total_post_comments']) - \\\n",
    "               (0.5 * fb_60['total_post_sad_count'] + 0.5 * fb_60['total_post_angry_count'])) / \\\n",
    "               fb_60['total_post']"
   ]
  },
  {
   "cell_type": "code",
   "execution_count": 144,
   "metadata": {},
   "outputs": [],
   "source": [
    "fb_60_success = fb_60[fb_60['flop'] == 0]\n",
    "fb_60_flop = fb_60[fb_60['flop'] == 1]"
   ]
  },
  {
   "cell_type": "code",
   "execution_count": 149,
   "metadata": {},
   "outputs": [],
   "source": [
    "fb_60_success = fb_60_success.dropna()\n",
    "fb_60_flop = fb_60_flop.dropna()"
   ]
  },
  {
   "cell_type": "code",
   "execution_count": 150,
   "metadata": {},
   "outputs": [
    {
     "data": {
      "text/plain": [
       "0"
      ]
     },
     "execution_count": 150,
     "metadata": {},
     "output_type": "execute_result"
    }
   ],
   "source": [
    "fb_60_success['score'].isna().sum()"
   ]
  },
  {
   "cell_type": "code",
   "execution_count": 151,
   "metadata": {},
   "outputs": [
    {
     "data": {
      "text/plain": [
       "0"
      ]
     },
     "execution_count": 151,
     "metadata": {},
     "output_type": "execute_result"
    }
   ],
   "source": [
    "fb_60_flop['score'].isna().sum()"
   ]
  },
  {
   "cell_type": "markdown",
   "metadata": {},
   "source": [
    "### Two sample ks test to compare distributions\n",
    "#### Null hypothesis (H0): both samples come from the same distribution"
   ]
  },
  {
   "cell_type": "code",
   "execution_count": 153,
   "metadata": {},
   "outputs": [
    {
     "data": {
      "text/plain": [
       "Ks_2sampResult(statistic=0.21640706126687434, pvalue=0.0043058387232416395)"
      ]
     },
     "execution_count": 153,
     "metadata": {},
     "output_type": "execute_result"
    }
   ],
   "source": [
    "KS_60 = sps.ks_2samp(fb_60_success['score'], fb_60_flop['score'])\n",
    "KS_60"
   ]
  },
  {
   "cell_type": "markdown",
   "metadata": {},
   "source": [
    "#### p-value = 0.004 < alpha = 0.05. Reject the null hypothesis and conclude that the two score distributions are different."
   ]
  },
  {
   "cell_type": "code",
   "execution_count": 138,
   "metadata": {},
   "outputs": [],
   "source": [
    "#####################################################################################################"
   ]
  },
  {
   "cell_type": "markdown",
   "metadata": {},
   "source": [
    "### Kruskal Wallis Test to compare medians in two distributions\n",
    "#### Null hypothesis (H0): population medians are equal."
   ]
  },
  {
   "cell_type": "code",
   "execution_count": 154,
   "metadata": {},
   "outputs": [
    {
     "data": {
      "text/plain": [
       "8742.823475895053"
      ]
     },
     "execution_count": 154,
     "metadata": {},
     "output_type": "execute_result"
    }
   ],
   "source": [
    "## Calculate medians\n",
    "Median_success_60 = statistics.median(fb_60_success['score'])\n",
    "Median_success_60"
   ]
  },
  {
   "cell_type": "code",
   "execution_count": 155,
   "metadata": {},
   "outputs": [
    {
     "data": {
      "text/plain": [
       "6217.512459150326"
      ]
     },
     "execution_count": 155,
     "metadata": {},
     "output_type": "execute_result"
    }
   ],
   "source": [
    "## Calculate medians\n",
    "Median_flop_60 = statistics.median(fb_60_flop['score'])\n",
    "Median_flop_60"
   ]
  },
  {
   "cell_type": "code",
   "execution_count": 156,
   "metadata": {},
   "outputs": [
    {
     "data": {
      "text/plain": [
       "KruskalResult(statistic=7.727950564322555, pvalue=0.005437243123927148)"
      ]
     },
     "execution_count": 156,
     "metadata": {},
     "output_type": "execute_result"
    }
   ],
   "source": [
    "KW_60 = stats.kruskal(fb_60_success['score'], fb_60_flop['score'])\n",
    "KW_60"
   ]
  },
  {
   "cell_type": "markdown",
   "metadata": {},
   "source": [
    "#### p-value = 0.005 < alpha = 0.05. Reject the null hypothesis and conclude that score medians are different."
   ]
  },
  {
   "cell_type": "code",
   "execution_count": 132,
   "metadata": {},
   "outputs": [],
   "source": [
    "#################################################################################################################"
   ]
  },
  {
   "cell_type": "markdown",
   "metadata": {},
   "source": [
    "### Mann Whitney U test to compare means in two distributions"
   ]
  },
  {
   "cell_type": "code",
   "execution_count": 157,
   "metadata": {},
   "outputs": [
    {
     "data": {
      "text/plain": [
       "MannwhitneyuResult(statistic=7685.0, pvalue=0.002724610101378054)"
      ]
     },
     "execution_count": 157,
     "metadata": {},
     "output_type": "execute_result"
    }
   ],
   "source": [
    "MWU_60 = stats.mannwhitneyu(fb_60_success['score'], fb_60_flop['score'])\n",
    "MWU_60"
   ]
  },
  {
   "cell_type": "markdown",
   "metadata": {},
   "source": [
    "#### p-value = 0.0027 < alpha = 0.05. Reject the null hypothesis and conclude that score means are different."
   ]
  },
  {
   "cell_type": "code",
   "execution_count": null,
   "metadata": {},
   "outputs": [],
   "source": []
  },
  {
   "cell_type": "code",
   "execution_count": null,
   "metadata": {},
   "outputs": [],
   "source": []
  },
  {
   "cell_type": "code",
   "execution_count": null,
   "metadata": {},
   "outputs": [],
   "source": []
  },
  {
   "cell_type": "code",
   "execution_count": null,
   "metadata": {},
   "outputs": [],
   "source": []
  },
  {
   "cell_type": "code",
   "execution_count": null,
   "metadata": {},
   "outputs": [],
   "source": []
  },
  {
   "cell_type": "code",
   "execution_count": 76,
   "metadata": {},
   "outputs": [],
   "source": [
    "twitter = pd.merge(twitter, clusters, left_on = 'movie_id', right_on = 'brand_ods_id' , how = 'left')\n",
    "\n",
    "twitter['data_for']= pd.to_datetime(twitter['data_for']) \n",
    "twitter['released_on'] = pd.to_datetime(twitter['released_on'])\n",
    "twitter['days_after_release'] = twitter['data_for'] - twitter['released_on']"
   ]
  },
  {
   "cell_type": "code",
   "execution_count": 79,
   "metadata": {},
   "outputs": [],
   "source": [
    "## drop flop == NaN for now\n",
    "twitter = twitter[twitter['flop'].notna()]"
   ]
  },
  {
   "cell_type": "code",
   "execution_count": 82,
   "metadata": {},
   "outputs": [],
   "source": [
    "twitter_30 = twitter[twitter['days_after_release'] == '-30 days']"
   ]
  },
  {
   "cell_type": "code",
   "execution_count": 77,
   "metadata": {},
   "outputs": [],
   "source": [
    "insta = pd.merge(insta, clusters, left_on = 'movie_id', right_on = 'brand_ods_id' , how = 'left')\n",
    "\n",
    "insta['data_for']= pd.to_datetime(insta['data_for']) \n",
    "insta['released_on'] = pd.to_datetime(insta['released_on'])\n",
    "insta['days_after_release'] = insta['data_for'] - insta['released_on']"
   ]
  },
  {
   "cell_type": "code",
   "execution_count": 80,
   "metadata": {},
   "outputs": [],
   "source": [
    "## drop flop == NaN for now\n",
    "insta = insta[insta['flop'].notna()]"
   ]
  },
  {
   "cell_type": "code",
   "execution_count": 83,
   "metadata": {},
   "outputs": [],
   "source": [
    "insta_30 = insta[insta['days_after_release'] == '-30 days']"
   ]
  },
  {
   "cell_type": "code",
   "execution_count": null,
   "metadata": {},
   "outputs": [],
   "source": []
  },
  {
   "cell_type": "code",
   "execution_count": null,
   "metadata": {},
   "outputs": [],
   "source": []
  },
  {
   "cell_type": "code",
   "execution_count": null,
   "metadata": {},
   "outputs": [],
   "source": []
  },
  {
   "cell_type": "code",
   "execution_count": null,
   "metadata": {},
   "outputs": [],
   "source": []
  },
  {
   "cell_type": "code",
   "execution_count": null,
   "metadata": {},
   "outputs": [],
   "source": []
  },
  {
   "cell_type": "code",
   "execution_count": null,
   "metadata": {},
   "outputs": [],
   "source": []
  },
  {
   "cell_type": "code",
   "execution_count": null,
   "metadata": {},
   "outputs": [],
   "source": []
  },
  {
   "cell_type": "code",
   "execution_count": null,
   "metadata": {},
   "outputs": [],
   "source": []
  },
  {
   "cell_type": "code",
   "execution_count": null,
   "metadata": {},
   "outputs": [],
   "source": []
  },
  {
   "cell_type": "code",
   "execution_count": null,
   "metadata": {},
   "outputs": [],
   "source": []
  },
  {
   "cell_type": "code",
   "execution_count": null,
   "metadata": {},
   "outputs": [],
   "source": []
  },
  {
   "cell_type": "code",
   "execution_count": null,
   "metadata": {},
   "outputs": [],
   "source": []
  },
  {
   "cell_type": "code",
   "execution_count": null,
   "metadata": {},
   "outputs": [],
   "source": []
  },
  {
   "cell_type": "code",
   "execution_count": null,
   "metadata": {},
   "outputs": [],
   "source": []
  },
  {
   "cell_type": "code",
   "execution_count": null,
   "metadata": {},
   "outputs": [],
   "source": []
  },
  {
   "cell_type": "code",
   "execution_count": null,
   "metadata": {},
   "outputs": [],
   "source": []
  },
  {
   "cell_type": "code",
   "execution_count": null,
   "metadata": {},
   "outputs": [],
   "source": []
  },
  {
   "cell_type": "code",
   "execution_count": null,
   "metadata": {},
   "outputs": [],
   "source": []
  },
  {
   "cell_type": "code",
   "execution_count": null,
   "metadata": {},
   "outputs": [],
   "source": []
  },
  {
   "cell_type": "code",
   "execution_count": null,
   "metadata": {},
   "outputs": [],
   "source": []
  },
  {
   "cell_type": "code",
   "execution_count": null,
   "metadata": {},
   "outputs": [],
   "source": []
  },
  {
   "cell_type": "code",
   "execution_count": null,
   "metadata": {},
   "outputs": [],
   "source": []
  },
  {
   "cell_type": "code",
   "execution_count": null,
   "metadata": {},
   "outputs": [],
   "source": []
  },
  {
   "cell_type": "code",
   "execution_count": null,
   "metadata": {},
   "outputs": [],
   "source": []
  }
 ],
 "metadata": {
  "kernelspec": {
   "display_name": "Python 3",
   "language": "python",
   "name": "python3"
  },
  "language_info": {
   "codemirror_mode": {
    "name": "ipython",
    "version": 3
   },
   "file_extension": ".py",
   "mimetype": "text/x-python",
   "name": "python",
   "nbconvert_exporter": "python",
   "pygments_lexer": "ipython3",
   "version": "3.6.9"
  }
 },
 "nbformat": 4,
 "nbformat_minor": 4
}
